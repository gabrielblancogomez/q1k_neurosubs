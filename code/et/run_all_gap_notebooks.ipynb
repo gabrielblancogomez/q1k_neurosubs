{
 "cells": [
  {
   "cell_type": "markdown",
   "metadata": {},
   "source": [
    "## Run all notebooks"
   ]
  },
  {
   "cell_type": "code",
   "execution_count": 4,
   "metadata": {},
   "outputs": [],
   "source": [
    "import nbformat\n",
    "from nbconvert import HTMLExporter\n",
    "from nbclient import NotebookClient\n",
    "from pathlib import Path\n",
    "import papermill as pm\n"
   ]
  },
  {
   "cell_type": "code",
   "execution_count": 5,
   "metadata": {},
   "outputs": [],
   "source": [
    "def execute_notebook_with_papermill(notebook_path, outlier_rem_value, output_html, date, files_date, derivative,min_n_trials_per_condition):\n",
    "    \"\"\"Execute a Jupyter notebook with a specific `outlier_rem` value using Papermill.\n",
    "\n",
    "    Args:\n",
    "        notebook_path (str): Path to the notebook to execute.\n",
    "        outlier_rem_value (bool): Value for `outlier_rem`.\n",
    "        output_html (str): Path to save the HTML output of the notebook.\n",
    "    \"\"\"\n",
    "    # Load the current notebook to get the kernel information\n",
    "    with open(notebook_path, \"r\") as f:\n",
    "        notebook = nbformat.read(f, as_version=4)\n",
    "    \n",
    "    # Extract the kernel name used in the current notebook\n",
    "    kernel_name = notebook.metadata.get('kernelspec', {}).get('name', 'python3')\n",
    "\n",
    "    # Execute the notebook with Papermill\n",
    "    executed_notebook_path = output_html.replace(\".html\", \"_executed.ipynb\")\n",
    "    \n",
    "    # Execute with parameters\n",
    "    pm.execute_notebook(\n",
    "        notebook_path,\n",
    "        executed_notebook_path,\n",
    "        parameters=dict(outlier_rem=outlier_rem_value, date=date, derivative=derivative, files_date=files_date), \n",
    "        kernel_name=kernel_name, min_n_trials_per_condition=min_n_trials_per_condition,\n",
    "                start_node=0,      # Start execution from the first cell\n",
    "        end_node=180    # Stop execution halfway/\n",
    "        \n",
    "    )\n",
    "\n",
    "    # Convert the executed notebook to HTML\n",
    "    from nbconvert import HTMLExporter\n",
    "    html_exporter = HTMLExporter()\n",
    "    html_exporter.exclude_input = True  # Exclude input cells if desired\n",
    "    \n",
    "    with open(executed_notebook_path, \"r\") as f:\n",
    "        executed_notebook = nbformat.read(f, as_version=4)\n",
    "        html_content, _ = html_exporter.from_notebook_node(executed_notebook)\n",
    "    \n",
    "    # Save HTML output\n",
    "    with open(output_html, \"w\") as html_file:\n",
    "        html_file.write(html_content)\n"
   ]
  },
  {
   "cell_type": "markdown",
   "metadata": {},
   "source": [
    "### 1. Gap ET extraction and demographics"
   ]
  },
  {
   "cell_type": "code",
   "execution_count": 8,
   "metadata": {},
   "outputs": [
    {
     "name": "stderr",
     "output_type": "stream",
     "text": [
      "Passed unknown parameter: outlier_rem\n",
      "Passed unknown parameter: derivative\n",
      "Passed unknown parameter: files_date\n"
     ]
    },
    {
     "data": {
      "application/vnd.jupyter.widget-view+json": {
       "model_id": "4c6fe2cf499a4772a86ac9a1c5555f21",
       "version_major": 2,
       "version_minor": 0
      },
      "text/plain": [
       "Executing:   0%|          | 0/60 [00:00<?, ?cell/s]"
      ]
     },
     "metadata": {},
     "output_type": "display_data"
    }
   ],
   "source": [
    "# Define paths\n",
    "notebook_to_run = \"C:/Users/gabot/OneDrive - McGill University/Desktop/github_repos/q1k_neurosubs/code/et/1_gap_et_extraction.ipynb\"\n",
    "out_dir = Path(\"papermill_outputs/gap_et_extraction\")\n",
    "out_dir.mkdir(exist_ok=True)\n",
    "\n",
    "# Date\n",
    "date = \"2025_06_29\"\n",
    "files_date = None\n",
    "derivative = None\n",
    "outlier_rem = None\n",
    "min_n_trials_per_condition= None\n",
    "execute_notebook_with_papermill(\n",
    "        notebook_path=notebook_to_run,\n",
    "        outlier_rem_value=outlier_rem, date=date, files_date=files_date, derivative=derivative,\n",
    "        min_n_trials_per_condition=min_n_trials_per_condition,\n",
    "        output_html=str(out_dir / f\"gap_et_extration_papermill.html\")\n",
    "    )\n"
   ]
  },
  {
   "cell_type": "code",
   "execution_count": 9,
   "metadata": {},
   "outputs": [
    {
     "name": "stderr",
     "output_type": "stream",
     "text": [
      "Passed unknown parameter: outlier_rem\n",
      "Passed unknown parameter: date\n",
      "Passed unknown parameter: derivative\n",
      "Passed unknown parameter: files_date\n",
      "Input notebook does not contain a cell with tag 'parameters'\n"
     ]
    },
    {
     "data": {
      "application/vnd.jupyter.widget-view+json": {
       "model_id": "3b880946adb54ad08f9a7d04ee501746",
       "version_major": 2,
       "version_minor": 0
      },
      "text/plain": [
       "Executing:   0%|          | 0/42 [00:00<?, ?cell/s]"
      ]
     },
     "metadata": {},
     "output_type": "display_data"
    }
   ],
   "source": [
    "### 2. Gap data preprocessing\n",
    "\n",
    "# Define paths\n",
    "notebook_to_run = \"C:/Users/gabot/OneDrive - McGill University/Desktop/github_repos/q1k_neurosubs/code/et/2_gap_et_preprocessing.ipynb\"\n",
    "out_dir = Path(\"papermill_outputs/gap_et_preprocessing\")\n",
    "out_dir.mkdir(exist_ok=True)\n",
    "\n",
    "# Date\n",
    "date = \"2025_06_29\"\n",
    "files_date = None\n",
    "derivative = None\n",
    "outlier_rem = None\n",
    "min_n_trials_per_condition=6\n",
    "\n",
    "execute_notebook_with_papermill(\n",
    "        notebook_path=notebook_to_run,\n",
    "        outlier_rem_value=outlier_rem, date=date, files_date=files_date, derivative=derivative,\n",
    "        min_n_trials_per_condition=min_n_trials_per_condition,\n",
    "        output_html=str(out_dir / f\"gap_et_preprocessing_papermill.html\")\n",
    "    )"
   ]
  },
  {
   "cell_type": "code",
   "execution_count": 3,
   "metadata": {},
   "outputs": [
    {
     "ename": "NameError",
     "evalue": "name 'out_dir' is not defined",
     "output_type": "error",
     "traceback": [
      "\u001b[1;31m---------------------------------------------------------------------------\u001b[0m",
      "\u001b[1;31mNameError\u001b[0m                                 Traceback (most recent call last)",
      "Cell \u001b[1;32mIn[3], line 11\u001b[0m\n\u001b[0;32m      6\u001b[0m derivative \u001b[38;5;241m=\u001b[39m \u001b[38;5;124m\"\u001b[39m\u001b[38;5;124mstandard\u001b[39m\u001b[38;5;124m\"\u001b[39m \u001b[38;5;66;03m# \"standard\" or \"no_pilot\"\u001b[39;00m\n\u001b[0;32m      7\u001b[0m outlier_rem \u001b[38;5;241m=\u001b[39m \u001b[38;5;28;01mFalse\u001b[39;00m\n\u001b[0;32m      8\u001b[0m execute_notebook_with_papermill(\n\u001b[0;32m      9\u001b[0m         notebook_path\u001b[38;5;241m=\u001b[39mnotebook_to_run,\n\u001b[0;32m     10\u001b[0m         outlier_rem_value\u001b[38;5;241m=\u001b[39moutlier_rem, date\u001b[38;5;241m=\u001b[39mdate, files_date\u001b[38;5;241m=\u001b[39mfiles_date, derivative\u001b[38;5;241m=\u001b[39mderivative,\n\u001b[1;32m---> 11\u001b[0m         output_html\u001b[38;5;241m=\u001b[39m\u001b[38;5;28mstr\u001b[39m(\u001b[43mout_dir\u001b[49m \u001b[38;5;241m/\u001b[39m \u001b[38;5;124mf\u001b[39m\u001b[38;5;124m\"\u001b[39m\u001b[38;5;124moutput_outliers_removed_\u001b[39m\u001b[38;5;132;01m{\u001b[39;00mdate\u001b[38;5;132;01m}\u001b[39;00m\u001b[38;5;124m.html\u001b[39m\u001b[38;5;124m\"\u001b[39m)\n\u001b[0;32m     12\u001b[0m     )\n",
      "\u001b[1;31mNameError\u001b[0m: name 'out_dir' is not defined"
     ]
    }
   ],
   "source": [
    "# Run the Gap overlap notebooks wih each outliers\n",
    "\n",
    "# Date\n",
    "date = \"01_24_2025\"\n",
    "files_date = \"01_20_2025\"\n",
    "derivative = \"standard\" # \"standard\" or \"no_pilot\"\n",
    "outlier_rem = False\n",
    "execute_notebook_with_papermill(\n",
    "        notebook_path=notebook_to_run,\n",
    "        outlier_rem_value=outlier_rem, date=date, files_date=files_date, derivative=derivative,\n",
    "        output_html=str(out_dir / f\"output_outliers_removed_{date}.html\")\n",
    "    )\n"
   ]
  },
  {
   "cell_type": "code",
   "execution_count": null,
   "metadata": {},
   "outputs": [],
   "source": []
  }
 ],
 "metadata": {
  "kernelspec": {
   "display_name": "q1k_et_neurosubs_env",
   "language": "python",
   "name": "python3"
  },
  "language_info": {
   "codemirror_mode": {
    "name": "ipython",
    "version": 3
   },
   "file_extension": ".py",
   "mimetype": "text/x-python",
   "name": "python",
   "nbconvert_exporter": "python",
   "pygments_lexer": "ipython3",
   "version": "3.10.5"
  }
 },
 "nbformat": 4,
 "nbformat_minor": 2
}
