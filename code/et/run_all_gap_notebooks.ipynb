{
 "cells": [
  {
   "cell_type": "markdown",
   "metadata": {},
   "source": [
    "## Run all notebooks"
   ]
  },
  {
   "cell_type": "code",
   "execution_count": 11,
   "metadata": {},
   "outputs": [],
   "source": [
    "import nbformat\n",
    "from nbconvert import HTMLExporter\n",
    "from nbclient import NotebookClient\n",
    "from pathlib import Path\n",
    "import papermill as pm\n"
   ]
  },
  {
   "cell_type": "code",
   "execution_count": 12,
   "metadata": {},
   "outputs": [],
   "source": [
    "\n",
    "def execute_notebook_with_papermill(notebook_path, outlier_rem_value, output_html, date, files_date, derivative,min_n_trials_per_condition):\n",
    "    \"\"\"Execute a Jupyter notebook with a specific `outlier_rem` value using Papermill.\n",
    "\n",
    "    Args:\n",
    "        notebook_path (str): Path to the notebook to execute.\n",
    "        outlier_rem_value (bool): Value for `outlier_rem`.\n",
    "        output_html (str): Path to save the HTML output of the notebook.\n",
    "    \"\"\"\n",
    "    # Load the current notebook to get the kernel information\n",
    "    with open(notebook_path, \"r\") as f:\n",
    "        notebook = nbformat.read(f, as_version=4)\n",
    "    \n",
    "    # Extract the kernel name used in the current notebook\n",
    "    kernel_name = notebook.metadata.get('kernelspec', {}).get('name', 'python3')\n",
    "\n",
    "    # Execute the notebook with Papermill\n",
    "    executed_notebook_path = output_html.replace(\".html\", \"_executed.ipynb\")\n",
    "    \n",
    "    # Execute with parameters\n",
    "    pm.execute_notebook(\n",
    "        notebook_path,\n",
    "        executed_notebook_path,\n",
    "        parameters=dict(outlier_rem=outlier_rem_value, date=date, derivative=derivative, files_date=files_date), \n",
    "        kernel_name=kernel_name, min_n_trials_per_condition=min_n_trials_per_condition,\n",
    "                start_node=0,      # Start execution from the first cell\n",
    "        end_node=180    # Stop execution halfway/\n",
    "        \n",
    "    )\n",
    "\n",
    "    # Convert the executed notebook to HTML\n",
    "    from nbconvert import HTMLExporter\n",
    "    html_exporter = HTMLExporter()\n",
    "    html_exporter.exclude_input = True  # Exclude input cells if desired\n",
    "    \n",
    "    with open(executed_notebook_path, \"r\") as f:\n",
    "        executed_notebook = nbformat.read(f, as_version=4)\n",
    "        html_content, _ = html_exporter.from_notebook_node(executed_notebook)\n",
    "    \n",
    "    # Save HTML output\n",
    "    with open(output_html, \"w\") as html_file:\n",
    "        html_file.write(html_content)\n"
   ]
  },
  {
   "cell_type": "markdown",
   "metadata": {},
   "source": [
    "### 1. Gap ET extraction and demographics"
   ]
  },
  {
   "cell_type": "code",
   "execution_count": 13,
   "metadata": {},
   "outputs": [
    {
     "name": "stderr",
     "output_type": "stream",
     "text": [
      "Passed unknown parameter: outlier_rem\n",
      "Passed unknown parameter: derivative\n",
      "Passed unknown parameter: files_date\n"
     ]
    },
    {
     "data": {
      "application/vnd.jupyter.widget-view+json": {
       "model_id": "6d6e0de6d1ba445eb339d91f4964e3e2",
       "version_major": 2,
       "version_minor": 0
      },
      "text/plain": [
       "Executing:   0%|          | 0/60 [00:00<?, ?cell/s]"
      ]
     },
     "metadata": {},
     "output_type": "display_data"
    }
   ],
   "source": [
    "# Define paths\n",
    "notebook_to_run = \"C:/Users/gabot/OneDrive - McGill University/Desktop/github_repos/q1k_neurosubs/code/et/1_gap_et_extraction.ipynb\"\n",
    "out_dir = Path(\"papermill_outputs/gap_et_extraction\")\n",
    "out_dir.mkdir(exist_ok=True)\n",
    "\n",
    "# Date\n",
    "date = \"2025_06_29\"\n",
    "files_date = None\n",
    "derivative = None\n",
    "outlier_rem = None\n",
    "min_n_trials_per_condition= None\n",
    "execute_notebook_with_papermill(\n",
    "        notebook_path=notebook_to_run,\n",
    "        outlier_rem_value=outlier_rem, date=date, files_date=files_date, derivative=derivative,\n",
    "        min_n_trials_per_condition=min_n_trials_per_condition,\n",
    "        output_html=str(out_dir / f\"gap_et_extration_papermill.html\")\n",
    "    )\n"
   ]
  },
  {
   "cell_type": "code",
   "execution_count": 14,
   "metadata": {},
   "outputs": [
    {
     "name": "stderr",
     "output_type": "stream",
     "text": [
      "Passed unknown parameter: outlier_rem\n",
      "Passed unknown parameter: date\n",
      "Passed unknown parameter: derivative\n",
      "Passed unknown parameter: files_date\n",
      "Input notebook does not contain a cell with tag 'parameters'\n"
     ]
    },
    {
     "data": {
      "application/vnd.jupyter.widget-view+json": {
       "model_id": "f196f3d947c64ef0a429d152230f297d",
       "version_major": 2,
       "version_minor": 0
      },
      "text/plain": [
       "Executing:   0%|          | 0/35 [00:00<?, ?cell/s]"
      ]
     },
     "metadata": {},
     "output_type": "display_data"
    }
   ],
   "source": [
    "### 2. Gap data preprocessing\n",
    "\n",
    "# Define paths\n",
    "notebook_to_run = \"C:/Users/gabot/OneDrive - McGill University/Desktop/github_repos/q1k_neurosubs/code/et/2_gap_et_preprocessing.ipynb\"\n",
    "out_dir = Path(\"papermill_outputs/gap_et_preprocessing\")\n",
    "out_dir.mkdir(exist_ok=True)\n",
    "\n",
    "# Date\n",
    "date = \"2025_06_29\"\n",
    "files_date = None\n",
    "derivative = None\n",
    "outlier_rem = None\n",
    "min_n_trials_per_condition=6\n",
    "\n",
    "execute_notebook_with_papermill(\n",
    "        notebook_path=notebook_to_run,\n",
    "        outlier_rem_value=outlier_rem, date=date, files_date=files_date, derivative=derivative,\n",
    "        min_n_trials_per_condition=min_n_trials_per_condition,\n",
    "        output_html=str(out_dir / f\"gap_et_preprocessing_papermill.html\")\n",
    "    )"
   ]
  },
  {
   "cell_type": "code",
   "execution_count": null,
   "metadata": {},
   "outputs": [],
   "source": []
  },
  {
   "cell_type": "code",
   "execution_count": null,
   "metadata": {},
   "outputs": [],
   "source": []
  },
  {
   "cell_type": "code",
   "execution_count": null,
   "metadata": {},
   "outputs": [],
   "source": []
  },
  {
   "cell_type": "code",
   "execution_count": 21,
   "metadata": {},
   "outputs": [
    {
     "name": "stderr",
     "output_type": "stream",
     "text": [
      "c:\\Users\\gabot\\anaconda3\\lib\\site-packages\\nbformat\\__init__.py:92: MissingIDFieldWarning: Code cell is missing an id field, this will become a hard error in future nbformat versions. You may want to use `normalize()` on your notebooks before validations (available since nbformat 5.1.4). Previous versions of nbformat are fixing this issue transparently, and will stop doing so in the future.\n",
      "  validate(nb)\n"
     ]
    },
    {
     "data": {
      "application/vnd.jupyter.widget-view+json": {
       "model_id": "c872e78647b64b34a6f46484ea552023",
       "version_major": 2,
       "version_minor": 0
      },
      "text/plain": [
       "Executing:   0%|          | 0/734 [00:00<?, ?cell/s]"
      ]
     },
     "metadata": {},
     "output_type": "display_data"
    },
    {
     "ename": "PapermillExecutionError",
     "evalue": "\n---------------------------------------------------------------------------\nException encountered at \"In [194]\":\n---------------------------------------------------------------------------\nKeyError                                  Traceback (most recent call last)\nFile ~\\anaconda3\\lib\\site-packages\\pandas\\core\\indexes\\base.py:3802, in Index.get_loc(self, key, method, tolerance)\n   3801 try:\n-> 3802     return self._engine.get_loc(casted_key)\n   3803 except KeyError as err:\n\nFile ~\\anaconda3\\lib\\site-packages\\pandas\\_libs\\index.pyx:138, in pandas._libs.index.IndexEngine.get_loc()\n\nFile ~\\anaconda3\\lib\\site-packages\\pandas\\_libs\\index.pyx:165, in pandas._libs.index.IndexEngine.get_loc()\n\nFile pandas\\_libs\\hashtable_class_helper.pxi:5745, in pandas._libs.hashtable.PyObjectHashTable.get_item()\n\nFile pandas\\_libs\\hashtable_class_helper.pxi:5753, in pandas._libs.hashtable.PyObjectHashTable.get_item()\n\nKeyError: 'stop'\n\nThe above exception was the direct cause of the following exception:\n\nKeyError                                  Traceback (most recent call last)\nCell In[194], line 2\n      1 # Stop here\n----> 2 go_dis_family[\"stop\"]\n\nFile ~\\anaconda3\\lib\\site-packages\\pandas\\core\\frame.py:3807, in DataFrame.__getitem__(self, key)\n   3805 if self.columns.nlevels > 1:\n   3806     return self._getitem_multilevel(key)\n-> 3807 indexer = self.columns.get_loc(key)\n   3808 if is_integer(indexer):\n   3809     indexer = [indexer]\n\nFile ~\\anaconda3\\lib\\site-packages\\pandas\\core\\indexes\\base.py:3804, in Index.get_loc(self, key, method, tolerance)\n   3802     return self._engine.get_loc(casted_key)\n   3803 except KeyError as err:\n-> 3804     raise KeyError(key) from err\n   3805 except TypeError:\n   3806     # If we have a listlike key, _check_indexing_error will raise\n   3807     #  InvalidIndexError. Otherwise we fall through and re-raise\n   3808     #  the TypeError.\n   3809     self._check_indexing_error(key)\n\nKeyError: 'stop'\n",
     "output_type": "error",
     "traceback": [
      "\u001b[1;31m---------------------------------------------------------------------------\u001b[0m",
      "\u001b[1;31mPapermillExecutionError\u001b[0m                   Traceback (most recent call last)",
      "Cell \u001b[1;32mIn[21], line 8\u001b[0m\n\u001b[0;32m      6\u001b[0m derivative \u001b[38;5;241m=\u001b[39m \u001b[38;5;124m\"\u001b[39m\u001b[38;5;124mstandard\u001b[39m\u001b[38;5;124m\"\u001b[39m \u001b[38;5;66;03m# \"standard\" or \"no_pilot\"\u001b[39;00m\n\u001b[0;32m      7\u001b[0m outlier_rem \u001b[38;5;241m=\u001b[39m \u001b[38;5;28;01mFalse\u001b[39;00m\n\u001b[1;32m----> 8\u001b[0m \u001b[43mexecute_notebook_with_papermill\u001b[49m\u001b[43m(\u001b[49m\n\u001b[0;32m      9\u001b[0m \u001b[43m        \u001b[49m\u001b[43mnotebook_path\u001b[49m\u001b[38;5;241;43m=\u001b[39;49m\u001b[43mnotebook_to_run\u001b[49m\u001b[43m,\u001b[49m\n\u001b[0;32m     10\u001b[0m \u001b[43m        \u001b[49m\u001b[43moutlier_rem_value\u001b[49m\u001b[38;5;241;43m=\u001b[39;49m\u001b[43moutlier_rem\u001b[49m\u001b[43m,\u001b[49m\u001b[43m \u001b[49m\u001b[43mdate\u001b[49m\u001b[38;5;241;43m=\u001b[39;49m\u001b[43mdate\u001b[49m\u001b[43m,\u001b[49m\u001b[43m \u001b[49m\u001b[43mfiles_date\u001b[49m\u001b[38;5;241;43m=\u001b[39;49m\u001b[43mfiles_date\u001b[49m\u001b[43m,\u001b[49m\u001b[43m \u001b[49m\u001b[43mderivative\u001b[49m\u001b[38;5;241;43m=\u001b[39;49m\u001b[43mderivative\u001b[49m\u001b[43m,\u001b[49m\n\u001b[0;32m     11\u001b[0m \u001b[43m        \u001b[49m\u001b[43moutput_html\u001b[49m\u001b[38;5;241;43m=\u001b[39;49m\u001b[38;5;28;43mstr\u001b[39;49m\u001b[43m(\u001b[49m\u001b[43mout_dir\u001b[49m\u001b[43m \u001b[49m\u001b[38;5;241;43m/\u001b[39;49m\u001b[43m \u001b[49m\u001b[38;5;124;43mf\u001b[39;49m\u001b[38;5;124;43m\"\u001b[39;49m\u001b[38;5;124;43moutput_outliers_removed_\u001b[39;49m\u001b[38;5;132;43;01m{\u001b[39;49;00m\u001b[43mdate\u001b[49m\u001b[38;5;132;43;01m}\u001b[39;49;00m\u001b[38;5;124;43m.html\u001b[39;49m\u001b[38;5;124;43m\"\u001b[39;49m\u001b[43m)\u001b[49m\n\u001b[0;32m     12\u001b[0m \u001b[43m    \u001b[49m\u001b[43m)\u001b[49m\n",
      "Cell \u001b[1;32mIn[18], line 20\u001b[0m, in \u001b[0;36mexecute_notebook_with_papermill\u001b[1;34m(notebook_path, outlier_rem_value, output_html, date, files_date, derivative)\u001b[0m\n\u001b[0;32m     17\u001b[0m executed_notebook_path \u001b[38;5;241m=\u001b[39m output_html\u001b[38;5;241m.\u001b[39mreplace(\u001b[38;5;124m\"\u001b[39m\u001b[38;5;124m.html\u001b[39m\u001b[38;5;124m\"\u001b[39m, \u001b[38;5;124m\"\u001b[39m\u001b[38;5;124m_executed.ipynb\u001b[39m\u001b[38;5;124m\"\u001b[39m)\n\u001b[0;32m     19\u001b[0m \u001b[38;5;66;03m# Execute with parameters\u001b[39;00m\n\u001b[1;32m---> 20\u001b[0m \u001b[43mpm\u001b[49m\u001b[38;5;241;43m.\u001b[39;49m\u001b[43mexecute_notebook\u001b[49m\u001b[43m(\u001b[49m\n\u001b[0;32m     21\u001b[0m \u001b[43m    \u001b[49m\u001b[43mnotebook_path\u001b[49m\u001b[43m,\u001b[49m\n\u001b[0;32m     22\u001b[0m \u001b[43m    \u001b[49m\u001b[43mexecuted_notebook_path\u001b[49m\u001b[43m,\u001b[49m\n\u001b[0;32m     23\u001b[0m \u001b[43m    \u001b[49m\u001b[43mparameters\u001b[49m\u001b[38;5;241;43m=\u001b[39;49m\u001b[38;5;28;43mdict\u001b[39;49m\u001b[43m(\u001b[49m\u001b[43moutlier_rem\u001b[49m\u001b[38;5;241;43m=\u001b[39;49m\u001b[43moutlier_rem_value\u001b[49m\u001b[43m,\u001b[49m\u001b[43m \u001b[49m\u001b[43mdate\u001b[49m\u001b[38;5;241;43m=\u001b[39;49m\u001b[43mdate\u001b[49m\u001b[43m,\u001b[49m\u001b[43m \u001b[49m\u001b[43mderivative\u001b[49m\u001b[38;5;241;43m=\u001b[39;49m\u001b[43mderivative\u001b[49m\u001b[43m,\u001b[49m\u001b[43m \u001b[49m\u001b[43mfiles_date\u001b[49m\u001b[38;5;241;43m=\u001b[39;49m\u001b[43mfiles_date\u001b[49m\u001b[43m)\u001b[49m\u001b[43m,\u001b[49m\u001b[43m \u001b[49m\n\u001b[0;32m     24\u001b[0m \u001b[43m    \u001b[49m\u001b[43mkernel_name\u001b[49m\u001b[38;5;241;43m=\u001b[39;49m\u001b[43mkernel_name\u001b[49m\u001b[43m,\u001b[49m\n\u001b[0;32m     25\u001b[0m \u001b[43m            \u001b[49m\u001b[43mstart_node\u001b[49m\u001b[38;5;241;43m=\u001b[39;49m\u001b[38;5;241;43m0\u001b[39;49m\u001b[43m,\u001b[49m\u001b[43m      \u001b[49m\u001b[38;5;66;43;03m# Start execution from the first cell\u001b[39;49;00m\n\u001b[0;32m     26\u001b[0m \u001b[43m    \u001b[49m\u001b[43mend_node\u001b[49m\u001b[38;5;241;43m=\u001b[39;49m\u001b[38;5;241;43m180\u001b[39;49m\u001b[43m    \u001b[49m\u001b[38;5;66;43;03m# Stop execution halfway/\u001b[39;49;00m\n\u001b[0;32m     27\u001b[0m \u001b[43m    \u001b[49m\n\u001b[0;32m     28\u001b[0m \u001b[43m\u001b[49m\u001b[43m)\u001b[49m\n\u001b[0;32m     30\u001b[0m \u001b[38;5;66;03m# Convert the executed notebook to HTML\u001b[39;00m\n\u001b[0;32m     31\u001b[0m \u001b[38;5;28;01mfrom\u001b[39;00m \u001b[38;5;21;01mnbconvert\u001b[39;00m \u001b[38;5;28;01mimport\u001b[39;00m HTMLExporter\n",
      "File \u001b[1;32mc:\\Users\\gabot\\anaconda3\\lib\\site-packages\\papermill\\execute.py:131\u001b[0m, in \u001b[0;36mexecute_notebook\u001b[1;34m(input_path, output_path, parameters, engine_name, request_save_on_cell_execute, prepare_only, kernel_name, language, progress_bar, log_output, stdout_file, stderr_file, start_timeout, report_mode, cwd, **engine_kwargs)\u001b[0m\n\u001b[0;32m    116\u001b[0m         nb \u001b[38;5;241m=\u001b[39m papermill_engines\u001b[38;5;241m.\u001b[39mexecute_notebook_with_engine(\n\u001b[0;32m    117\u001b[0m             engine_name,\n\u001b[0;32m    118\u001b[0m             nb,\n\u001b[1;32m   (...)\u001b[0m\n\u001b[0;32m    127\u001b[0m             \u001b[38;5;241m*\u001b[39m\u001b[38;5;241m*\u001b[39mengine_kwargs,\n\u001b[0;32m    128\u001b[0m         )\n\u001b[0;32m    130\u001b[0m     \u001b[38;5;66;03m# Check for errors first (it saves on error before raising)\u001b[39;00m\n\u001b[1;32m--> 131\u001b[0m     \u001b[43mraise_for_execution_errors\u001b[49m\u001b[43m(\u001b[49m\u001b[43mnb\u001b[49m\u001b[43m,\u001b[49m\u001b[43m \u001b[49m\u001b[43moutput_path\u001b[49m\u001b[43m)\u001b[49m\n\u001b[0;32m    133\u001b[0m \u001b[38;5;66;03m# Write final output in case the engine didn't write it on cell completion.\u001b[39;00m\n\u001b[0;32m    134\u001b[0m write_ipynb(nb, output_path)\n",
      "File \u001b[1;32mc:\\Users\\gabot\\anaconda3\\lib\\site-packages\\papermill\\execute.py:251\u001b[0m, in \u001b[0;36mraise_for_execution_errors\u001b[1;34m(nb, output_path)\u001b[0m\n\u001b[0;32m    248\u001b[0m nb\u001b[38;5;241m.\u001b[39mcells\u001b[38;5;241m.\u001b[39minsert(\u001b[38;5;241m0\u001b[39m, error_msg_cell)\n\u001b[0;32m    250\u001b[0m write_ipynb(nb, output_path)\n\u001b[1;32m--> 251\u001b[0m \u001b[38;5;28;01mraise\u001b[39;00m error\n",
      "\u001b[1;31mPapermillExecutionError\u001b[0m: \n---------------------------------------------------------------------------\nException encountered at \"In [194]\":\n---------------------------------------------------------------------------\nKeyError                                  Traceback (most recent call last)\nFile ~\\anaconda3\\lib\\site-packages\\pandas\\core\\indexes\\base.py:3802, in Index.get_loc(self, key, method, tolerance)\n   3801 try:\n-> 3802     return self._engine.get_loc(casted_key)\n   3803 except KeyError as err:\n\nFile ~\\anaconda3\\lib\\site-packages\\pandas\\_libs\\index.pyx:138, in pandas._libs.index.IndexEngine.get_loc()\n\nFile ~\\anaconda3\\lib\\site-packages\\pandas\\_libs\\index.pyx:165, in pandas._libs.index.IndexEngine.get_loc()\n\nFile pandas\\_libs\\hashtable_class_helper.pxi:5745, in pandas._libs.hashtable.PyObjectHashTable.get_item()\n\nFile pandas\\_libs\\hashtable_class_helper.pxi:5753, in pandas._libs.hashtable.PyObjectHashTable.get_item()\n\nKeyError: 'stop'\n\nThe above exception was the direct cause of the following exception:\n\nKeyError                                  Traceback (most recent call last)\nCell In[194], line 2\n      1 # Stop here\n----> 2 go_dis_family[\"stop\"]\n\nFile ~\\anaconda3\\lib\\site-packages\\pandas\\core\\frame.py:3807, in DataFrame.__getitem__(self, key)\n   3805 if self.columns.nlevels > 1:\n   3806     return self._getitem_multilevel(key)\n-> 3807 indexer = self.columns.get_loc(key)\n   3808 if is_integer(indexer):\n   3809     indexer = [indexer]\n\nFile ~\\anaconda3\\lib\\site-packages\\pandas\\core\\indexes\\base.py:3804, in Index.get_loc(self, key, method, tolerance)\n   3802     return self._engine.get_loc(casted_key)\n   3803 except KeyError as err:\n-> 3804     raise KeyError(key) from err\n   3805 except TypeError:\n   3806     # If we have a listlike key, _check_indexing_error will raise\n   3807     #  InvalidIndexError. Otherwise we fall through and re-raise\n   3808     #  the TypeError.\n   3809     self._check_indexing_error(key)\n\nKeyError: 'stop'\n"
     ]
    }
   ],
   "source": [
    "# Run the Gap overlap notebooks wih each outliers\n",
    "\n",
    "# Date\n",
    "date = \"01_24_2025\"\n",
    "files_date = \"01_20_2025\"\n",
    "derivative = \"standard\" # \"standard\" or \"no_pilot\"\n",
    "outlier_rem = False\n",
    "execute_notebook_with_papermill(\n",
    "        notebook_path=notebook_to_run,\n",
    "        outlier_rem_value=outlier_rem, date=date, files_date=files_date, derivative=derivative,\n",
    "        output_html=str(out_dir / f\"output_outliers_removed_{date}.html\")\n",
    "    )\n"
   ]
  },
  {
   "cell_type": "code",
   "execution_count": null,
   "metadata": {},
   "outputs": [],
   "source": []
  }
 ],
 "metadata": {
  "kernelspec": {
   "display_name": "q1k_et_neurosubs_env",
   "language": "python",
   "name": "python3"
  },
  "language_info": {
   "codemirror_mode": {
    "name": "ipython",
    "version": 3
   },
   "file_extension": ".py",
   "mimetype": "text/x-python",
   "name": "python",
   "nbconvert_exporter": "python",
   "pygments_lexer": "ipython3",
   "version": "3.10.5"
  }
 },
 "nbformat": 4,
 "nbformat_minor": 2
}
