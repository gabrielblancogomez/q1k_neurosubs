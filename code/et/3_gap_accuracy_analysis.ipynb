{
 "cells": [
  {
   "cell_type": "markdown",
   "id": "2517df17",
   "metadata": {},
   "source": [
    "# Gap Overlap Task: Eye Tracking Preprocessing and Accuracy Analysis\n"
   ]
  },
  {
   "cell_type": "markdown",
   "id": "d49306d4",
   "metadata": {},
   "source": [
    "## 1. Setup and Imports\n"
   ]
  },
  {
   "cell_type": "code",
   "execution_count": 115,
   "id": "d1dfdd11-dc32-405e-aea6-2300a16ff2ae",
   "metadata": {},
   "outputs": [],
   "source": [
    "import pandas as pd\n",
    "from pathlib import Path\n",
    "import numpy as np\n",
    "import time\n",
    "import os\n",
    "import statsmodels\n",
    "import seaborn as sns\n",
    "import matplotlib.pyplot as plt\n",
    "import glob\n",
    "from scipy import stats\n",
    "import pingouin as pg\n",
    "import scikit_posthocs as sp\n",
    "import statsmodels.api as sm\n",
    "from scipy.stats import boxcox\n",
    "from statannotations.Annotator import Annotator\n",
    "from scipy.stats import pearsonr\n",
    "import docx\n",
    "from docx.enum.section import WD_ORIENT\n",
    "from docx.enum.section import WD_SECTION\n",
    "from docx.enum.text import WD_ALIGN_PARAGRAPH\n",
    "from docx.shared import Pt\n",
    "from statsmodels.stats.outliers_influence import variance_inflation_factor\n",
    "from scipy.stats import pearsonr\n",
    "\n"
   ]
  },
  {
   "cell_type": "markdown",
   "id": "cd8af398",
   "metadata": {},
   "source": [
    "## 2. Parameters\n"
   ]
  },
  {
   "cell_type": "code",
   "execution_count": 117,
   "id": "feb47e5c",
   "metadata": {},
   "outputs": [],
   "source": [
    "# Papermill parameters\n",
    "date = \"2025_06_27\"\n",
    "participant_removal_type = \"remove_all\"\n",
    "age_group = \"all\""
   ]
  },
  {
   "cell_type": "markdown",
   "id": "69d23f56",
   "metadata": {},
   "source": [
    "## 3. Helper Functions"
   ]
  },
  {
   "cell_type": "code",
   "execution_count": 118,
   "id": "d9412df2",
   "metadata": {},
   "outputs": [],
   "source": [
    "\n",
    "def df_to_table(doc, df):\n",
    "    # Add a table to the end and create a reference variable\n",
    "    t = doc.add_table(df.shape[0]+1, df.shape[1])\n",
    "\n",
    "    # Make sure df is rounded \n",
    "    df = df.round(2)\n",
    "\n",
    "    # Make sure table is auto fit\n",
    "    for cell in t._cells:\n",
    "        cell.width = docx.shared.Inches(1.0)\n",
    "    \n",
    "    # Set the style of the table\n",
    "    table_style = doc.styles['Table Grid']\n",
    "\n",
    "    # Add the header rows.\n",
    "    for j in range(df.shape[-1]):\n",
    "        t.cell(0,j).text = df.columns[j]\n",
    "\n",
    "    # Add the rest of the data frame\n",
    "    for i in range(df.shape[0]):\n",
    "        for j in range(df.shape[-1]):\n",
    "            t.cell(i+1,j).text = str(df.values[i,j])\n",
    "    \n",
    "    return doc\n"
   ]
  },
  {
   "cell_type": "markdown",
   "id": "f2503167",
   "metadata": {},
   "source": [
    "## 4. Document Setup"
   ]
  },
  {
   "cell_type": "code",
   "execution_count": 119,
   "id": "4c8f643c",
   "metadata": {},
   "outputs": [],
   "source": [
    "# Create a document\n",
    "\n",
    "doc = docx.Document()\n",
    "\n",
    "\n",
    "doc = docx.Document()\n",
    "\n",
    "# Title page\n",
    "section = doc.sections[0]\n",
    "#section.start_type = WD_SECTION.ODD_PAGE\n",
    "#section.orientation = WD_ORIENT.LANDSCAPE\n",
    "#section.page_width, section.page_height = section.page_height, section.page_width\n",
    "doc.add_heading('Q1K Gap Task - Eye Tracking Preprocessing', 0)\n",
    "# Add new doc section with landscape orientation\n",
    "section = doc.add_section()\n",
    "section.start_type = WD_SECTION.ODD_PAGE\n",
    "new_width, new_height = section.page_height, section.page_width\n",
    "section.orientation = WD_ORIENT.LANDSCAPE\n",
    "section.page_width = new_width"
   ]
  },
  {
   "cell_type": "markdown",
   "id": "3ccc21ec-ef76-4c2c-b351-df767bdb62d8",
   "metadata": {},
   "source": [
    "## 5. Data Loading and Initial Processing"
   ]
  },
  {
   "cell_type": "code",
   "execution_count": 120,
   "id": "5923a495-9beb-4a72-9282-9400530cb75b",
   "metadata": {},
   "outputs": [
    {
     "data": {
      "application/vnd.microsoft.datawrangler.viewer.v0+json": {
       "columns": [
        {
         "name": "index",
         "rawType": "int64",
         "type": "integer"
        },
        {
         "name": "subject",
         "rawType": "object",
         "type": "string"
        },
        {
         "name": "trial_index",
         "rawType": "int64",
         "type": "integer"
        },
        {
         "name": "condition",
         "rawType": "object",
         "type": "string"
        },
        {
         "name": "side",
         "rawType": "object",
         "type": "string"
        },
        {
         "name": "rt",
         "rawType": "float64",
         "type": "float"
        },
        {
         "name": "valid_trials",
         "rawType": "bool",
         "type": "boolean"
        },
        {
         "name": "eeg_age",
         "rawType": "float64",
         "type": "float"
        },
        {
         "name": "site",
         "rawType": "object",
         "type": "string"
        },
        {
         "name": "sex",
         "rawType": "object",
         "type": "unknown"
        },
        {
         "name": "asd",
         "rawType": "float64",
         "type": "float"
        },
        {
         "name": "ndd",
         "rawType": "object",
         "type": "string"
        },
        {
         "name": "q1k_ID",
         "rawType": "object",
         "type": "string"
        },
        {
         "name": "group",
         "rawType": "object",
         "type": "unknown"
        },
        {
         "name": "age_group",
         "rawType": "object",
         "type": "string"
        },
        {
         "name": "min_ntrials",
         "rawType": "bool",
         "type": "boolean"
        },
        {
         "name": "calibration_quality",
         "rawType": "object",
         "type": "unknown"
        }
       ],
       "ref": "5d069d99-5bca-40a4-bbb6-58d159d08d9b",
       "rows": [
        [
         "0",
         "002Z",
         "1",
         "Baseline",
         "Right",
         "230.31",
         "True",
         "45.88",
         "mni",
         "female",
         "0.0",
         "no_ndd",
         "Q1K_002_Z",
         null,
         "adult",
         "True",
         null
        ],
        [
         "1",
         "002Z",
         "2",
         "Gap",
         "Right",
         "255.0",
         "True",
         "45.88",
         "mni",
         "female",
         "0.0",
         "no_ndd",
         "Q1K_002_Z",
         null,
         "adult",
         "True",
         null
        ],
        [
         "2",
         "002Z",
         "3",
         "Overlap",
         "Left",
         "323.78",
         "True",
         "45.88",
         "mni",
         "female",
         "0.0",
         "no_ndd",
         "Q1K_002_Z",
         null,
         "adult",
         "True",
         null
        ],
        [
         "3",
         "002Z",
         "4",
         "Gap",
         "Right",
         "197.0",
         "True",
         "45.88",
         "mni",
         "female",
         "0.0",
         "no_ndd",
         "Q1K_002_Z",
         null,
         "adult",
         "True",
         null
        ],
        [
         "4",
         "002Z",
         "5",
         "Baseline",
         "Left",
         "372.62",
         "True",
         "45.88",
         "mni",
         "female",
         "0.0",
         "no_ndd",
         "Q1K_002_Z",
         null,
         "adult",
         "True",
         null
        ],
        [
         "5",
         "002Z",
         "6",
         "Baseline",
         "Right",
         "212.69",
         "True",
         "45.88",
         "mni",
         "female",
         "0.0",
         "no_ndd",
         "Q1K_002_Z",
         null,
         "adult",
         "True",
         null
        ],
        [
         "6",
         "002Z",
         "7",
         "Overlap",
         "Right",
         "398.44",
         "True",
         "45.88",
         "mni",
         "female",
         "0.0",
         "no_ndd",
         "Q1K_002_Z",
         null,
         "adult",
         "True",
         null
        ],
        [
         "7",
         "002Z",
         "8",
         "Baseline",
         "Right",
         "251.18",
         "True",
         "45.88",
         "mni",
         "female",
         "0.0",
         "no_ndd",
         "Q1K_002_Z",
         null,
         "adult",
         "True",
         null
        ],
        [
         "8",
         "002Z",
         "9",
         "Overlap",
         "Right",
         "284.57",
         "True",
         "45.88",
         "mni",
         "female",
         "0.0",
         "no_ndd",
         "Q1K_002_Z",
         null,
         "adult",
         "True",
         null
        ],
        [
         "9",
         "002Z",
         "10",
         "Gap",
         "Left",
         "147.0",
         "True",
         "45.88",
         "mni",
         "female",
         "0.0",
         "no_ndd",
         "Q1K_002_Z",
         null,
         "adult",
         "True",
         null
        ],
        [
         "10",
         "002Z",
         "11",
         "Baseline",
         "Left",
         "318.73",
         "True",
         "45.88",
         "mni",
         "female",
         "0.0",
         "no_ndd",
         "Q1K_002_Z",
         null,
         "adult",
         "True",
         null
        ],
        [
         "11",
         "002Z",
         "12",
         "Baseline",
         "Right",
         "239.81",
         "True",
         "45.88",
         "mni",
         "female",
         "0.0",
         "no_ndd",
         "Q1K_002_Z",
         null,
         "adult",
         "True",
         null
        ],
        [
         "12",
         "002Z",
         "13",
         "Baseline",
         "Left",
         "226.87",
         "True",
         "45.88",
         "mni",
         "female",
         "0.0",
         "no_ndd",
         "Q1K_002_Z",
         null,
         "adult",
         "True",
         null
        ],
        [
         "13",
         "002Z",
         "14",
         "Overlap",
         "Left",
         "369.95",
         "True",
         "45.88",
         "mni",
         "female",
         "0.0",
         "no_ndd",
         "Q1K_002_Z",
         null,
         "adult",
         "True",
         null
        ],
        [
         "14",
         "002Z",
         "15",
         "Baseline",
         "Left",
         "303.37",
         "True",
         "45.88",
         "mni",
         "female",
         "0.0",
         "no_ndd",
         "Q1K_002_Z",
         null,
         "adult",
         "True",
         null
        ],
        [
         "15",
         "002Z",
         "16",
         "Overlap",
         "Left",
         "342.44",
         "True",
         "45.88",
         "mni",
         "female",
         "0.0",
         "no_ndd",
         "Q1K_002_Z",
         null,
         "adult",
         "True",
         null
        ],
        [
         "16",
         "002Z",
         "17",
         "Gap",
         "Left",
         "154.0",
         "True",
         "45.88",
         "mni",
         "female",
         "0.0",
         "no_ndd",
         "Q1K_002_Z",
         null,
         "adult",
         "True",
         null
        ],
        [
         "17",
         "002Z",
         "18",
         "Gap",
         "Right",
         "176.0",
         "True",
         "45.88",
         "mni",
         "female",
         "0.0",
         "no_ndd",
         "Q1K_002_Z",
         null,
         "adult",
         "True",
         null
        ],
        [
         "18",
         "002Z",
         "19",
         "Baseline",
         "Left",
         "225.0",
         "True",
         "45.88",
         "mni",
         "female",
         "0.0",
         "no_ndd",
         "Q1K_002_Z",
         null,
         "adult",
         "True",
         null
        ],
        [
         "19",
         "002Z",
         "20",
         "Overlap",
         "Right",
         "304.07",
         "True",
         "45.88",
         "mni",
         "female",
         "0.0",
         "no_ndd",
         "Q1K_002_Z",
         null,
         "adult",
         "True",
         null
        ],
        [
         "20",
         "002Z",
         "21",
         "Gap",
         "Right",
         "232.0",
         "True",
         "45.88",
         "mni",
         "female",
         "0.0",
         "no_ndd",
         "Q1K_002_Z",
         null,
         "adult",
         "True",
         null
        ],
        [
         "21",
         "002Z",
         "22",
         "Gap",
         "Left",
         "156.0",
         "True",
         "45.88",
         "mni",
         "female",
         "0.0",
         "no_ndd",
         "Q1K_002_Z",
         null,
         "adult",
         "True",
         null
        ],
        [
         "22",
         "002Z",
         "23",
         "Overlap",
         "Left",
         "349.63",
         "True",
         "45.88",
         "mni",
         "female",
         "0.0",
         "no_ndd",
         "Q1K_002_Z",
         null,
         "adult",
         "True",
         null
        ],
        [
         "23",
         "002Z",
         "24",
         "Gap",
         "Right",
         "268.0",
         "True",
         "45.88",
         "mni",
         "female",
         "0.0",
         "no_ndd",
         "Q1K_002_Z",
         null,
         "adult",
         "True",
         null
        ],
        [
         "24",
         "002Z",
         "25",
         "Gap",
         "Left",
         "213.0",
         "True",
         "45.88",
         "mni",
         "female",
         "0.0",
         "no_ndd",
         "Q1K_002_Z",
         null,
         "adult",
         "True",
         null
        ],
        [
         "25",
         "002Z",
         "26",
         "Gap",
         "Left",
         "301.0",
         "True",
         "45.88",
         "mni",
         "female",
         "0.0",
         "no_ndd",
         "Q1K_002_Z",
         null,
         "adult",
         "True",
         null
        ],
        [
         "26",
         "002Z",
         "27",
         "Gap",
         "Left",
         "273.0",
         "True",
         "45.88",
         "mni",
         "female",
         "0.0",
         "no_ndd",
         "Q1K_002_Z",
         null,
         "adult",
         "True",
         null
        ],
        [
         "27",
         "002Z",
         "28",
         "Gap",
         "Right",
         "195.0",
         "True",
         "45.88",
         "mni",
         "female",
         "0.0",
         "no_ndd",
         "Q1K_002_Z",
         null,
         "adult",
         "True",
         null
        ],
        [
         "28",
         "002Z",
         "29",
         "Overlap",
         "Right",
         null,
         "False",
         "45.88",
         "mni",
         "female",
         "0.0",
         "no_ndd",
         "Q1K_002_Z",
         null,
         "adult",
         "True",
         null
        ],
        [
         "29",
         "002Z",
         "30",
         "Overlap",
         "Left",
         "336.49",
         "True",
         "45.88",
         "mni",
         "female",
         "0.0",
         "no_ndd",
         "Q1K_002_Z",
         null,
         "adult",
         "True",
         null
        ],
        [
         "30",
         "002Z",
         "31",
         "Overlap",
         "Right",
         "254.24",
         "True",
         "45.88",
         "mni",
         "female",
         "0.0",
         "no_ndd",
         "Q1K_002_Z",
         null,
         "adult",
         "True",
         null
        ],
        [
         "31",
         "002Z",
         "32",
         "Baseline",
         "Left",
         "223.31",
         "True",
         "45.88",
         "mni",
         "female",
         "0.0",
         "no_ndd",
         "Q1K_002_Z",
         null,
         "adult",
         "True",
         null
        ],
        [
         "32",
         "002Z",
         "33",
         "Overlap",
         "Left",
         "294.71",
         "True",
         "45.88",
         "mni",
         "female",
         "0.0",
         "no_ndd",
         "Q1K_002_Z",
         null,
         "adult",
         "True",
         null
        ],
        [
         "33",
         "002Z",
         "34",
         "Overlap",
         "Right",
         "242.11",
         "True",
         "45.88",
         "mni",
         "female",
         "0.0",
         "no_ndd",
         "Q1K_002_Z",
         null,
         "adult",
         "True",
         null
        ],
        [
         "34",
         "002Z",
         "35",
         "Baseline",
         "Right",
         "308.52",
         "True",
         "45.88",
         "mni",
         "female",
         "0.0",
         "no_ndd",
         "Q1K_002_Z",
         null,
         "adult",
         "True",
         null
        ],
        [
         "35",
         "002Z",
         "36",
         "Baseline",
         "Right",
         "338.93",
         "True",
         "45.88",
         "mni",
         "female",
         "0.0",
         "no_ndd",
         "Q1K_002_Z",
         null,
         "adult",
         "True",
         null
        ],
        [
         "36",
         "0042P",
         "1",
         "Gap",
         "Left",
         "310.0",
         "True",
         "30.97",
         "mni",
         "female",
         "0.0",
         "ndd",
         "Q1K_MHC_20042_P",
         "proband",
         "adult",
         "True",
         "good"
        ],
        [
         "37",
         "0042P",
         "2",
         "Gap",
         "Left",
         "226.0",
         "True",
         "30.97",
         "mni",
         "female",
         "0.0",
         "ndd",
         "Q1K_MHC_20042_P",
         "proband",
         "adult",
         "True",
         "good"
        ],
        [
         "38",
         "0042P",
         "3",
         "Overlap",
         "Right",
         "248.15",
         "True",
         "30.97",
         "mni",
         "female",
         "0.0",
         "ndd",
         "Q1K_MHC_20042_P",
         "proband",
         "adult",
         "True",
         "good"
        ],
        [
         "39",
         "0042P",
         "4",
         "Gap",
         "Left",
         "286.0",
         "True",
         "30.97",
         "mni",
         "female",
         "0.0",
         "ndd",
         "Q1K_MHC_20042_P",
         "proband",
         "adult",
         "True",
         "good"
        ],
        [
         "40",
         "0042P",
         "5",
         "Gap",
         "Left",
         "182.0",
         "True",
         "30.97",
         "mni",
         "female",
         "0.0",
         "ndd",
         "Q1K_MHC_20042_P",
         "proband",
         "adult",
         "True",
         "good"
        ],
        [
         "41",
         "0042P",
         "6",
         "Baseline",
         "Right",
         "212.36",
         "True",
         "30.97",
         "mni",
         "female",
         "0.0",
         "ndd",
         "Q1K_MHC_20042_P",
         "proband",
         "adult",
         "True",
         "good"
        ],
        [
         "42",
         "0042P",
         "7",
         "Baseline",
         "Left",
         "227.76",
         "True",
         "30.97",
         "mni",
         "female",
         "0.0",
         "ndd",
         "Q1K_MHC_20042_P",
         "proband",
         "adult",
         "True",
         "good"
        ],
        [
         "43",
         "0042P",
         "8",
         "Overlap",
         "Right",
         "393.83",
         "True",
         "30.97",
         "mni",
         "female",
         "0.0",
         "ndd",
         "Q1K_MHC_20042_P",
         "proband",
         "adult",
         "True",
         "good"
        ],
        [
         "44",
         "0042P",
         "9",
         "Overlap",
         "Right",
         "453.9",
         "True",
         "30.97",
         "mni",
         "female",
         "0.0",
         "ndd",
         "Q1K_MHC_20042_P",
         "proband",
         "adult",
         "True",
         "good"
        ],
        [
         "45",
         "0042P",
         "10",
         "Gap",
         "Right",
         "181.0",
         "True",
         "30.97",
         "mni",
         "female",
         "0.0",
         "ndd",
         "Q1K_MHC_20042_P",
         "proband",
         "adult",
         "True",
         "good"
        ],
        [
         "46",
         "0042P",
         "11",
         "Baseline",
         "Right",
         null,
         "False",
         "30.97",
         "mni",
         "female",
         "0.0",
         "ndd",
         "Q1K_MHC_20042_P",
         "proband",
         "adult",
         "True",
         "good"
        ],
        [
         "47",
         "0042P",
         "12",
         "Gap",
         "Right",
         "399.0",
         "True",
         "30.97",
         "mni",
         "female",
         "0.0",
         "ndd",
         "Q1K_MHC_20042_P",
         "proband",
         "adult",
         "True",
         "good"
        ],
        [
         "48",
         "0042P",
         "13",
         "Overlap",
         "Left",
         "392.18",
         "True",
         "30.97",
         "mni",
         "female",
         "0.0",
         "ndd",
         "Q1K_MHC_20042_P",
         "proband",
         "adult",
         "True",
         "good"
        ],
        [
         "49",
         "0042P",
         "14",
         "Baseline",
         "Left",
         "431.59",
         "True",
         "30.97",
         "mni",
         "female",
         "0.0",
         "ndd",
         "Q1K_MHC_20042_P",
         "proband",
         "adult",
         "True",
         "good"
        ]
       ],
       "shape": {
        "columns": 16,
        "rows": 8254
       }
      },
      "text/html": [
       "<div>\n",
       "<style scoped>\n",
       "    .dataframe tbody tr th:only-of-type {\n",
       "        vertical-align: middle;\n",
       "    }\n",
       "\n",
       "    .dataframe tbody tr th {\n",
       "        vertical-align: top;\n",
       "    }\n",
       "\n",
       "    .dataframe thead th {\n",
       "        text-align: right;\n",
       "    }\n",
       "</style>\n",
       "<table border=\"1\" class=\"dataframe\">\n",
       "  <thead>\n",
       "    <tr style=\"text-align: right;\">\n",
       "      <th></th>\n",
       "      <th>subject</th>\n",
       "      <th>trial_index</th>\n",
       "      <th>condition</th>\n",
       "      <th>side</th>\n",
       "      <th>rt</th>\n",
       "      <th>valid_trials</th>\n",
       "      <th>eeg_age</th>\n",
       "      <th>site</th>\n",
       "      <th>sex</th>\n",
       "      <th>asd</th>\n",
       "      <th>ndd</th>\n",
       "      <th>q1k_ID</th>\n",
       "      <th>group</th>\n",
       "      <th>age_group</th>\n",
       "      <th>min_ntrials</th>\n",
       "      <th>calibration_quality</th>\n",
       "    </tr>\n",
       "  </thead>\n",
       "  <tbody>\n",
       "    <tr>\n",
       "      <th>0</th>\n",
       "      <td>002Z</td>\n",
       "      <td>1</td>\n",
       "      <td>Baseline</td>\n",
       "      <td>Right</td>\n",
       "      <td>230.31</td>\n",
       "      <td>True</td>\n",
       "      <td>45.88</td>\n",
       "      <td>mni</td>\n",
       "      <td>female</td>\n",
       "      <td>0.0</td>\n",
       "      <td>no_ndd</td>\n",
       "      <td>Q1K_002_Z</td>\n",
       "      <td>NaN</td>\n",
       "      <td>adult</td>\n",
       "      <td>True</td>\n",
       "      <td>NaN</td>\n",
       "    </tr>\n",
       "    <tr>\n",
       "      <th>1</th>\n",
       "      <td>002Z</td>\n",
       "      <td>2</td>\n",
       "      <td>Gap</td>\n",
       "      <td>Right</td>\n",
       "      <td>255.00</td>\n",
       "      <td>True</td>\n",
       "      <td>45.88</td>\n",
       "      <td>mni</td>\n",
       "      <td>female</td>\n",
       "      <td>0.0</td>\n",
       "      <td>no_ndd</td>\n",
       "      <td>Q1K_002_Z</td>\n",
       "      <td>NaN</td>\n",
       "      <td>adult</td>\n",
       "      <td>True</td>\n",
       "      <td>NaN</td>\n",
       "    </tr>\n",
       "    <tr>\n",
       "      <th>2</th>\n",
       "      <td>002Z</td>\n",
       "      <td>3</td>\n",
       "      <td>Overlap</td>\n",
       "      <td>Left</td>\n",
       "      <td>323.78</td>\n",
       "      <td>True</td>\n",
       "      <td>45.88</td>\n",
       "      <td>mni</td>\n",
       "      <td>female</td>\n",
       "      <td>0.0</td>\n",
       "      <td>no_ndd</td>\n",
       "      <td>Q1K_002_Z</td>\n",
       "      <td>NaN</td>\n",
       "      <td>adult</td>\n",
       "      <td>True</td>\n",
       "      <td>NaN</td>\n",
       "    </tr>\n",
       "    <tr>\n",
       "      <th>3</th>\n",
       "      <td>002Z</td>\n",
       "      <td>4</td>\n",
       "      <td>Gap</td>\n",
       "      <td>Right</td>\n",
       "      <td>197.00</td>\n",
       "      <td>True</td>\n",
       "      <td>45.88</td>\n",
       "      <td>mni</td>\n",
       "      <td>female</td>\n",
       "      <td>0.0</td>\n",
       "      <td>no_ndd</td>\n",
       "      <td>Q1K_002_Z</td>\n",
       "      <td>NaN</td>\n",
       "      <td>adult</td>\n",
       "      <td>True</td>\n",
       "      <td>NaN</td>\n",
       "    </tr>\n",
       "    <tr>\n",
       "      <th>4</th>\n",
       "      <td>002Z</td>\n",
       "      <td>5</td>\n",
       "      <td>Baseline</td>\n",
       "      <td>Left</td>\n",
       "      <td>372.62</td>\n",
       "      <td>True</td>\n",
       "      <td>45.88</td>\n",
       "      <td>mni</td>\n",
       "      <td>female</td>\n",
       "      <td>0.0</td>\n",
       "      <td>no_ndd</td>\n",
       "      <td>Q1K_002_Z</td>\n",
       "      <td>NaN</td>\n",
       "      <td>adult</td>\n",
       "      <td>True</td>\n",
       "      <td>NaN</td>\n",
       "    </tr>\n",
       "    <tr>\n",
       "      <th>...</th>\n",
       "      <td>...</td>\n",
       "      <td>...</td>\n",
       "      <td>...</td>\n",
       "      <td>...</td>\n",
       "      <td>...</td>\n",
       "      <td>...</td>\n",
       "      <td>...</td>\n",
       "      <td>...</td>\n",
       "      <td>...</td>\n",
       "      <td>...</td>\n",
       "      <td>...</td>\n",
       "      <td>...</td>\n",
       "      <td>...</td>\n",
       "      <td>...</td>\n",
       "      <td>...</td>\n",
       "      <td>...</td>\n",
       "    </tr>\n",
       "    <tr>\n",
       "      <th>8249</th>\n",
       "      <td>1256S2</td>\n",
       "      <td>34</td>\n",
       "      <td>Overlap</td>\n",
       "      <td>Right</td>\n",
       "      <td>368.29</td>\n",
       "      <td>True</td>\n",
       "      <td>18.32</td>\n",
       "      <td>hsj</td>\n",
       "      <td>female</td>\n",
       "      <td>1.0</td>\n",
       "      <td>ndd</td>\n",
       "      <td>Q1K_HSJ_1525-1256_S2</td>\n",
       "      <td>sibling</td>\n",
       "      <td>adult</td>\n",
       "      <td>True</td>\n",
       "      <td>good</td>\n",
       "    </tr>\n",
       "    <tr>\n",
       "      <th>8250</th>\n",
       "      <td>1256S2</td>\n",
       "      <td>35</td>\n",
       "      <td>Gap</td>\n",
       "      <td>Left</td>\n",
       "      <td>247.00</td>\n",
       "      <td>True</td>\n",
       "      <td>18.32</td>\n",
       "      <td>hsj</td>\n",
       "      <td>female</td>\n",
       "      <td>1.0</td>\n",
       "      <td>ndd</td>\n",
       "      <td>Q1K_HSJ_1525-1256_S2</td>\n",
       "      <td>sibling</td>\n",
       "      <td>adult</td>\n",
       "      <td>True</td>\n",
       "      <td>good</td>\n",
       "    </tr>\n",
       "    <tr>\n",
       "      <th>8251</th>\n",
       "      <td>1256S2</td>\n",
       "      <td>36</td>\n",
       "      <td>Baseline</td>\n",
       "      <td>Right</td>\n",
       "      <td>211.76</td>\n",
       "      <td>True</td>\n",
       "      <td>18.32</td>\n",
       "      <td>hsj</td>\n",
       "      <td>female</td>\n",
       "      <td>1.0</td>\n",
       "      <td>ndd</td>\n",
       "      <td>Q1K_HSJ_1525-1256_S2</td>\n",
       "      <td>sibling</td>\n",
       "      <td>adult</td>\n",
       "      <td>True</td>\n",
       "      <td>good</td>\n",
       "    </tr>\n",
       "    <tr>\n",
       "      <th>8252</th>\n",
       "      <td>1256S2</td>\n",
       "      <td>37</td>\n",
       "      <td>Overlap</td>\n",
       "      <td>Right</td>\n",
       "      <td>319.85</td>\n",
       "      <td>True</td>\n",
       "      <td>18.32</td>\n",
       "      <td>hsj</td>\n",
       "      <td>female</td>\n",
       "      <td>1.0</td>\n",
       "      <td>ndd</td>\n",
       "      <td>Q1K_HSJ_1525-1256_S2</td>\n",
       "      <td>sibling</td>\n",
       "      <td>adult</td>\n",
       "      <td>True</td>\n",
       "      <td>good</td>\n",
       "    </tr>\n",
       "    <tr>\n",
       "      <th>8253</th>\n",
       "      <td>1256S2</td>\n",
       "      <td>38</td>\n",
       "      <td>Gap</td>\n",
       "      <td>Right</td>\n",
       "      <td>323.00</td>\n",
       "      <td>True</td>\n",
       "      <td>18.32</td>\n",
       "      <td>hsj</td>\n",
       "      <td>female</td>\n",
       "      <td>1.0</td>\n",
       "      <td>ndd</td>\n",
       "      <td>Q1K_HSJ_1525-1256_S2</td>\n",
       "      <td>sibling</td>\n",
       "      <td>adult</td>\n",
       "      <td>True</td>\n",
       "      <td>good</td>\n",
       "    </tr>\n",
       "  </tbody>\n",
       "</table>\n",
       "<p>8254 rows × 16 columns</p>\n",
       "</div>"
      ],
      "text/plain": [
       "     subject  trial_index condition   side      rt  valid_trials  eeg_age  \\\n",
       "0       002Z            1  Baseline  Right  230.31          True    45.88   \n",
       "1       002Z            2       Gap  Right  255.00          True    45.88   \n",
       "2       002Z            3   Overlap   Left  323.78          True    45.88   \n",
       "3       002Z            4       Gap  Right  197.00          True    45.88   \n",
       "4       002Z            5  Baseline   Left  372.62          True    45.88   \n",
       "...      ...          ...       ...    ...     ...           ...      ...   \n",
       "8249  1256S2           34   Overlap  Right  368.29          True    18.32   \n",
       "8250  1256S2           35       Gap   Left  247.00          True    18.32   \n",
       "8251  1256S2           36  Baseline  Right  211.76          True    18.32   \n",
       "8252  1256S2           37   Overlap  Right  319.85          True    18.32   \n",
       "8253  1256S2           38       Gap  Right  323.00          True    18.32   \n",
       "\n",
       "     site     sex  asd     ndd                q1k_ID    group age_group  \\\n",
       "0     mni  female  0.0  no_ndd             Q1K_002_Z      NaN     adult   \n",
       "1     mni  female  0.0  no_ndd             Q1K_002_Z      NaN     adult   \n",
       "2     mni  female  0.0  no_ndd             Q1K_002_Z      NaN     adult   \n",
       "3     mni  female  0.0  no_ndd             Q1K_002_Z      NaN     adult   \n",
       "4     mni  female  0.0  no_ndd             Q1K_002_Z      NaN     adult   \n",
       "...   ...     ...  ...     ...                   ...      ...       ...   \n",
       "8249  hsj  female  1.0     ndd  Q1K_HSJ_1525-1256_S2  sibling     adult   \n",
       "8250  hsj  female  1.0     ndd  Q1K_HSJ_1525-1256_S2  sibling     adult   \n",
       "8251  hsj  female  1.0     ndd  Q1K_HSJ_1525-1256_S2  sibling     adult   \n",
       "8252  hsj  female  1.0     ndd  Q1K_HSJ_1525-1256_S2  sibling     adult   \n",
       "8253  hsj  female  1.0     ndd  Q1K_HSJ_1525-1256_S2  sibling     adult   \n",
       "\n",
       "      min_ntrials calibration_quality  \n",
       "0            True                 NaN  \n",
       "1            True                 NaN  \n",
       "2            True                 NaN  \n",
       "3            True                 NaN  \n",
       "4            True                 NaN  \n",
       "...           ...                 ...  \n",
       "8249         True                good  \n",
       "8250         True                good  \n",
       "8251         True                good  \n",
       "8252         True                good  \n",
       "8253         True                good  \n",
       "\n",
       "[8254 rows x 16 columns]"
      ]
     },
     "execution_count": 120,
     "metadata": {},
     "output_type": "execute_result"
    }
   ],
   "source": [
    "# Load et file\n",
    "go_df= pd.read_csv(\"C:/Users/gabot/OneDrive - McGill University/Desktop/github_repos/q1k_neurosubs/outputs/gap/go_df.csv\")\n",
    "\n",
    "# Save original number of participans\n",
    "intial_n_participants = go_df[\"subject\"].nunique()\n",
    "go_df        "
   ]
  },
  {
   "cell_type": "markdown",
   "id": "87e9a1db",
   "metadata": {},
   "source": [
    "## 6. Participant Exclusion Criteria"
   ]
  },
  {
   "cell_type": "code",
   "execution_count": 121,
   "id": "930532f9",
   "metadata": {},
   "outputs": [
    {
     "data": {
      "application/vnd.microsoft.datawrangler.viewer.v0+json": {
       "columns": [
        {
         "name": "index",
         "rawType": "int64",
         "type": "integer"
        },
        {
         "name": "subject",
         "rawType": "object",
         "type": "string"
        },
        {
         "name": "status",
         "rawType": "object",
         "type": "string"
        }
       ],
       "ref": "4faa0e10-4a9c-4ab3-8865-1385c5543bc4",
       "rows": [
        [
         "0",
         "004_Z",
         "empty file"
        ],
        [
         "1",
         "0105F1",
         "empty file"
        ],
        [
         "2",
         "1006P",
         "empty file"
        ],
        [
         "3",
         "1021F1",
         "empty file"
        ],
        [
         "4",
         "1045F1",
         "empty file"
        ],
        [
         "5",
         "1052P",
         "empty file"
        ],
        [
         "6",
         "1057F1",
         "empty file"
        ],
        [
         "7",
         "1089M1",
         "empty file"
        ],
        [
         "8",
         "1143S1",
         "empty file"
        ],
        [
         "9",
         "1147S2",
         "empty file"
        ],
        [
         "10",
         "1166M1",
         "empty file"
        ],
        [
         "11",
         "1187M1",
         "empty file"
        ],
        [
         "12",
         "sub-052Z",
         "missing demographic data"
        ],
        [
         "13",
         "0083M1",
         "not enough trials (6)"
        ],
        [
         "14",
         "0147M1",
         "not enough trials (6)"
        ],
        [
         "15",
         "0150M1",
         "not enough trials (6)"
        ],
        [
         "16",
         "0152M1",
         "not enough trials (6)"
        ],
        [
         "17",
         "0154P",
         "not enough trials (6)"
        ],
        [
         "18",
         "0181P",
         "not enough trials (6), poor calibration"
        ],
        [
         "19",
         "0216P",
         "not enough trials (6)"
        ],
        [
         "20",
         "0248S1",
         "not enough trials (6)"
        ],
        [
         "21",
         "1028P",
         "not enough trials (6)"
        ],
        [
         "22",
         "1037P",
         "not enough trials (6), poor calibration"
        ],
        [
         "23",
         "1052S1",
         "not enough trials (6)"
        ],
        [
         "24",
         "1057P",
         "not enough trials (6), poor calibration"
        ],
        [
         "25",
         "1080F1",
         "not enough trials (6)"
        ],
        [
         "26",
         "1080P",
         "not enough trials (6), poor calibration"
        ],
        [
         "27",
         "1093S2",
         "not enough trials (6), poor calibration"
        ],
        [
         "28",
         "1106F1",
         "not enough trials (6)"
        ],
        [
         "29",
         "1152S1",
         "not enough trials (6), poor calibration"
        ],
        [
         "30",
         "1159S2",
         "not enough trials (6)"
        ],
        [
         "31",
         "1162S1",
         "not enough trials (6)"
        ],
        [
         "32",
         "1166P",
         "not enough trials (6)"
        ],
        [
         "33",
         "1226P",
         "not enough trials (6)"
        ],
        [
         "34",
         "0083F1",
         "poor calibration"
        ],
        [
         "35",
         "0265P",
         "poor calibration"
        ],
        [
         "36",
         "1006M1",
         "poor calibration"
        ],
        [
         "37",
         "1052F1",
         "poor calibration"
        ],
        [
         "38",
         "1073P",
         "poor calibration"
        ],
        [
         "39",
         "1083F1",
         "poor calibration"
        ],
        [
         "40",
         "1093S1",
         "poor calibration"
        ],
        [
         "41",
         "1101P",
         "poor calibration"
        ],
        [
         "42",
         "1109P",
         "poor calibration"
        ],
        [
         "43",
         "1121F1",
         "poor calibration"
        ],
        [
         "44",
         "1121P",
         "poor calibration"
        ],
        [
         "45",
         "1147P",
         "poor calibration"
        ],
        [
         "46",
         "1156F1",
         "poor calibration"
        ],
        [
         "47",
         "1195P",
         "poor calibration"
        ],
        [
         "48",
         "1195S1",
         "poor calibration"
        ],
        [
         "49",
         "1195S2",
         "poor calibration"
        ]
       ],
       "shape": {
        "columns": 2,
        "rows": 52
       }
      },
      "text/html": [
       "<div>\n",
       "<style scoped>\n",
       "    .dataframe tbody tr th:only-of-type {\n",
       "        vertical-align: middle;\n",
       "    }\n",
       "\n",
       "    .dataframe tbody tr th {\n",
       "        vertical-align: top;\n",
       "    }\n",
       "\n",
       "    .dataframe thead th {\n",
       "        text-align: right;\n",
       "    }\n",
       "</style>\n",
       "<table border=\"1\" class=\"dataframe\">\n",
       "  <thead>\n",
       "    <tr style=\"text-align: right;\">\n",
       "      <th></th>\n",
       "      <th>subject</th>\n",
       "      <th>status</th>\n",
       "    </tr>\n",
       "  </thead>\n",
       "  <tbody>\n",
       "    <tr>\n",
       "      <th>0</th>\n",
       "      <td>004_Z</td>\n",
       "      <td>empty file</td>\n",
       "    </tr>\n",
       "    <tr>\n",
       "      <th>1</th>\n",
       "      <td>0105F1</td>\n",
       "      <td>empty file</td>\n",
       "    </tr>\n",
       "    <tr>\n",
       "      <th>2</th>\n",
       "      <td>1006P</td>\n",
       "      <td>empty file</td>\n",
       "    </tr>\n",
       "    <tr>\n",
       "      <th>3</th>\n",
       "      <td>1021F1</td>\n",
       "      <td>empty file</td>\n",
       "    </tr>\n",
       "    <tr>\n",
       "      <th>4</th>\n",
       "      <td>1045F1</td>\n",
       "      <td>empty file</td>\n",
       "    </tr>\n",
       "    <tr>\n",
       "      <th>5</th>\n",
       "      <td>1052P</td>\n",
       "      <td>empty file</td>\n",
       "    </tr>\n",
       "    <tr>\n",
       "      <th>6</th>\n",
       "      <td>1057F1</td>\n",
       "      <td>empty file</td>\n",
       "    </tr>\n",
       "    <tr>\n",
       "      <th>7</th>\n",
       "      <td>1089M1</td>\n",
       "      <td>empty file</td>\n",
       "    </tr>\n",
       "    <tr>\n",
       "      <th>8</th>\n",
       "      <td>1143S1</td>\n",
       "      <td>empty file</td>\n",
       "    </tr>\n",
       "    <tr>\n",
       "      <th>9</th>\n",
       "      <td>1147S2</td>\n",
       "      <td>empty file</td>\n",
       "    </tr>\n",
       "    <tr>\n",
       "      <th>10</th>\n",
       "      <td>1166M1</td>\n",
       "      <td>empty file</td>\n",
       "    </tr>\n",
       "    <tr>\n",
       "      <th>11</th>\n",
       "      <td>1187M1</td>\n",
       "      <td>empty file</td>\n",
       "    </tr>\n",
       "    <tr>\n",
       "      <th>12</th>\n",
       "      <td>sub-052Z</td>\n",
       "      <td>missing demographic data</td>\n",
       "    </tr>\n",
       "    <tr>\n",
       "      <th>13</th>\n",
       "      <td>0083M1</td>\n",
       "      <td>not enough trials (6)</td>\n",
       "    </tr>\n",
       "    <tr>\n",
       "      <th>14</th>\n",
       "      <td>0147M1</td>\n",
       "      <td>not enough trials (6)</td>\n",
       "    </tr>\n",
       "    <tr>\n",
       "      <th>15</th>\n",
       "      <td>0150M1</td>\n",
       "      <td>not enough trials (6)</td>\n",
       "    </tr>\n",
       "    <tr>\n",
       "      <th>16</th>\n",
       "      <td>0152M1</td>\n",
       "      <td>not enough trials (6)</td>\n",
       "    </tr>\n",
       "    <tr>\n",
       "      <th>17</th>\n",
       "      <td>0154P</td>\n",
       "      <td>not enough trials (6)</td>\n",
       "    </tr>\n",
       "    <tr>\n",
       "      <th>18</th>\n",
       "      <td>0181P</td>\n",
       "      <td>not enough trials (6), poor calibration</td>\n",
       "    </tr>\n",
       "    <tr>\n",
       "      <th>19</th>\n",
       "      <td>0216P</td>\n",
       "      <td>not enough trials (6)</td>\n",
       "    </tr>\n",
       "    <tr>\n",
       "      <th>20</th>\n",
       "      <td>0248S1</td>\n",
       "      <td>not enough trials (6)</td>\n",
       "    </tr>\n",
       "    <tr>\n",
       "      <th>21</th>\n",
       "      <td>1028P</td>\n",
       "      <td>not enough trials (6)</td>\n",
       "    </tr>\n",
       "    <tr>\n",
       "      <th>22</th>\n",
       "      <td>1037P</td>\n",
       "      <td>not enough trials (6), poor calibration</td>\n",
       "    </tr>\n",
       "    <tr>\n",
       "      <th>23</th>\n",
       "      <td>1052S1</td>\n",
       "      <td>not enough trials (6)</td>\n",
       "    </tr>\n",
       "    <tr>\n",
       "      <th>24</th>\n",
       "      <td>1057P</td>\n",
       "      <td>not enough trials (6), poor calibration</td>\n",
       "    </tr>\n",
       "    <tr>\n",
       "      <th>25</th>\n",
       "      <td>1080F1</td>\n",
       "      <td>not enough trials (6)</td>\n",
       "    </tr>\n",
       "    <tr>\n",
       "      <th>26</th>\n",
       "      <td>1080P</td>\n",
       "      <td>not enough trials (6), poor calibration</td>\n",
       "    </tr>\n",
       "    <tr>\n",
       "      <th>27</th>\n",
       "      <td>1093S2</td>\n",
       "      <td>not enough trials (6), poor calibration</td>\n",
       "    </tr>\n",
       "    <tr>\n",
       "      <th>28</th>\n",
       "      <td>1106F1</td>\n",
       "      <td>not enough trials (6)</td>\n",
       "    </tr>\n",
       "    <tr>\n",
       "      <th>29</th>\n",
       "      <td>1152S1</td>\n",
       "      <td>not enough trials (6), poor calibration</td>\n",
       "    </tr>\n",
       "    <tr>\n",
       "      <th>30</th>\n",
       "      <td>1159S2</td>\n",
       "      <td>not enough trials (6)</td>\n",
       "    </tr>\n",
       "    <tr>\n",
       "      <th>31</th>\n",
       "      <td>1162S1</td>\n",
       "      <td>not enough trials (6)</td>\n",
       "    </tr>\n",
       "    <tr>\n",
       "      <th>32</th>\n",
       "      <td>1166P</td>\n",
       "      <td>not enough trials (6)</td>\n",
       "    </tr>\n",
       "    <tr>\n",
       "      <th>33</th>\n",
       "      <td>1226P</td>\n",
       "      <td>not enough trials (6)</td>\n",
       "    </tr>\n",
       "    <tr>\n",
       "      <th>34</th>\n",
       "      <td>0083F1</td>\n",
       "      <td>poor calibration</td>\n",
       "    </tr>\n",
       "    <tr>\n",
       "      <th>35</th>\n",
       "      <td>0265P</td>\n",
       "      <td>poor calibration</td>\n",
       "    </tr>\n",
       "    <tr>\n",
       "      <th>36</th>\n",
       "      <td>1006M1</td>\n",
       "      <td>poor calibration</td>\n",
       "    </tr>\n",
       "    <tr>\n",
       "      <th>37</th>\n",
       "      <td>1052F1</td>\n",
       "      <td>poor calibration</td>\n",
       "    </tr>\n",
       "    <tr>\n",
       "      <th>38</th>\n",
       "      <td>1073P</td>\n",
       "      <td>poor calibration</td>\n",
       "    </tr>\n",
       "    <tr>\n",
       "      <th>39</th>\n",
       "      <td>1083F1</td>\n",
       "      <td>poor calibration</td>\n",
       "    </tr>\n",
       "    <tr>\n",
       "      <th>40</th>\n",
       "      <td>1093S1</td>\n",
       "      <td>poor calibration</td>\n",
       "    </tr>\n",
       "    <tr>\n",
       "      <th>41</th>\n",
       "      <td>1101P</td>\n",
       "      <td>poor calibration</td>\n",
       "    </tr>\n",
       "    <tr>\n",
       "      <th>42</th>\n",
       "      <td>1109P</td>\n",
       "      <td>poor calibration</td>\n",
       "    </tr>\n",
       "    <tr>\n",
       "      <th>43</th>\n",
       "      <td>1121F1</td>\n",
       "      <td>poor calibration</td>\n",
       "    </tr>\n",
       "    <tr>\n",
       "      <th>44</th>\n",
       "      <td>1121P</td>\n",
       "      <td>poor calibration</td>\n",
       "    </tr>\n",
       "    <tr>\n",
       "      <th>45</th>\n",
       "      <td>1147P</td>\n",
       "      <td>poor calibration</td>\n",
       "    </tr>\n",
       "    <tr>\n",
       "      <th>46</th>\n",
       "      <td>1156F1</td>\n",
       "      <td>poor calibration</td>\n",
       "    </tr>\n",
       "    <tr>\n",
       "      <th>47</th>\n",
       "      <td>1195P</td>\n",
       "      <td>poor calibration</td>\n",
       "    </tr>\n",
       "    <tr>\n",
       "      <th>48</th>\n",
       "      <td>1195S1</td>\n",
       "      <td>poor calibration</td>\n",
       "    </tr>\n",
       "    <tr>\n",
       "      <th>49</th>\n",
       "      <td>1195S2</td>\n",
       "      <td>poor calibration</td>\n",
       "    </tr>\n",
       "    <tr>\n",
       "      <th>50</th>\n",
       "      <td>1200P</td>\n",
       "      <td>poor calibration</td>\n",
       "    </tr>\n",
       "    <tr>\n",
       "      <th>51</th>\n",
       "      <td>1209P</td>\n",
       "      <td>poor calibration</td>\n",
       "    </tr>\n",
       "  </tbody>\n",
       "</table>\n",
       "</div>"
      ],
      "text/plain": [
       "     subject                                   status\n",
       "0      004_Z                               empty file\n",
       "1     0105F1                               empty file\n",
       "2      1006P                               empty file\n",
       "3     1021F1                               empty file\n",
       "4     1045F1                               empty file\n",
       "5      1052P                               empty file\n",
       "6     1057F1                               empty file\n",
       "7     1089M1                               empty file\n",
       "8     1143S1                               empty file\n",
       "9     1147S2                               empty file\n",
       "10    1166M1                               empty file\n",
       "11    1187M1                               empty file\n",
       "12  sub-052Z                 missing demographic data\n",
       "13    0083M1                    not enough trials (6)\n",
       "14    0147M1                    not enough trials (6)\n",
       "15    0150M1                    not enough trials (6)\n",
       "16    0152M1                    not enough trials (6)\n",
       "17     0154P                    not enough trials (6)\n",
       "18     0181P  not enough trials (6), poor calibration\n",
       "19     0216P                    not enough trials (6)\n",
       "20    0248S1                    not enough trials (6)\n",
       "21     1028P                    not enough trials (6)\n",
       "22     1037P  not enough trials (6), poor calibration\n",
       "23    1052S1                    not enough trials (6)\n",
       "24     1057P  not enough trials (6), poor calibration\n",
       "25    1080F1                    not enough trials (6)\n",
       "26     1080P  not enough trials (6), poor calibration\n",
       "27    1093S2  not enough trials (6), poor calibration\n",
       "28    1106F1                    not enough trials (6)\n",
       "29    1152S1  not enough trials (6), poor calibration\n",
       "30    1159S2                    not enough trials (6)\n",
       "31    1162S1                    not enough trials (6)\n",
       "32     1166P                    not enough trials (6)\n",
       "33     1226P                    not enough trials (6)\n",
       "34    0083F1                         poor calibration\n",
       "35     0265P                         poor calibration\n",
       "36    1006M1                         poor calibration\n",
       "37    1052F1                         poor calibration\n",
       "38     1073P                         poor calibration\n",
       "39    1083F1                         poor calibration\n",
       "40    1093S1                         poor calibration\n",
       "41     1101P                         poor calibration\n",
       "42     1109P                         poor calibration\n",
       "43    1121F1                         poor calibration\n",
       "44     1121P                         poor calibration\n",
       "45     1147P                         poor calibration\n",
       "46    1156F1                         poor calibration\n",
       "47     1195P                         poor calibration\n",
       "48    1195S1                         poor calibration\n",
       "49    1195S2                         poor calibration\n",
       "50     1200P                         poor calibration\n",
       "51     1209P                         poor calibration"
      ]
     },
     "execution_count": 121,
     "metadata": {},
     "output_type": "execute_result"
    }
   ],
   "source": [
    "# Load subjects removed file\n",
    "subjects_removed_df = pd.read_csv(\"C:/Users/gabot/OneDrive - McGill University/Desktop/github_repos/q1k_neurosubs/outputs/missingness/subjects_removed.csv\")\n",
    "subjects_removed_df"
   ]
  },
  {
   "cell_type": "code",
   "execution_count": 123,
   "id": "bd92bb99",
   "metadata": {},
   "outputs": [],
   "source": [
    "# Remove all participants from the subjects_removed df based on tiers of removal\n",
    "if participant_removal_type == \"remove_all\": \n",
    "    # Remove all participants\n",
    "    go_df = go_df[~go_df['subject'].isin(subjects_removed_df['subject'].unique())]\n",
    "elif participant_removal_type == \"remove_min_trials\":\n",
    "    # Remove only participants with empty minimum trials\n",
    "    go_df = go_df[~go_df['subject'].isin(subjects_removed_df[subjects_removed_df['status'].str.contains(\"trials\", na=False)]['subject'].unique())]"
   ]
  },
  {
   "cell_type": "code",
   "execution_count": 125,
   "id": "c7a034a0",
   "metadata": {},
   "outputs": [
    {
     "name": "stdout",
     "output_type": "stream",
     "text": [
      "Initial number of participants: 230\n",
      "Participants removed: 39\n",
      "Participants left: 191\n"
     ]
    }
   ],
   "source": [
    "# Add how many participants were removed to doc\n",
    "\n",
    "## Startinng number of participants\n",
    "doc.add_paragraph(f\"Initial number of participants: {intial_n_participants}\")\n",
    "print(f\"Initial number of participants: {intial_n_participants}\")\n",
    "# Add how many participants were removed to doc\n",
    "doc.add_paragraph(f\"Participants removed: {intial_n_participants - go_df['subject'].nunique()}\")\n",
    "print(f\"Participants removed: {intial_n_participants - go_df['subject'].nunique()}\")\n",
    "\n",
    "# Add how many participants are left to doc\n",
    "doc.add_paragraph(f\"Participants left: {go_df['subject'].nunique()}\")\n",
    "print(f\"Participants left: {go_df['subject'].nunique()}\")\n"
   ]
  },
  {
   "cell_type": "markdown",
   "id": "be31d51b",
   "metadata": {},
   "source": [
    "## 7. Accuracy Calculations"
   ]
  },
  {
   "cell_type": "code",
   "execution_count": 40,
   "id": "ee939d76",
   "metadata": {},
   "outputs": [
    {
     "name": "stdout",
     "output_type": "stream",
     "text": [
      "Calculating accuracy metrics...\n",
      "Total trials in dataset: 7785\n",
      "Valid trials in dataset: 6848\n",
      "Accuracy calculated for 627 subject-condition combinations\n"
     ]
    }
   ],
   "source": [
    "# Calculate accuracy as proportion of valid trials per participant per condition\n",
    "# Note: 'valid_trials' column should contain boolean values indicating successful trials\n",
    "# This calculates: (number of valid trials) / (total trials attempted) per subject/condition\n",
    "\n",
    "print(\"Calculating accuracy metrics...\")\n",
    "print(f\"Total trials in dataset: {len(go_df)}\")\n",
    "print(f\"Valid trials in dataset: {go_df['valid_trials'].sum()}\")\n",
    "\n",
    "# Count valid trials per subject/condition\n",
    "valid_trials = go_df[go_df.valid_trials == True].groupby([\"subject\", \"condition\"])[\"valid_trials\"].count()\n",
    "\n",
    "# Count total trials per subject/condition  \n",
    "total_trials = go_df.groupby([\"subject\", \"condition\"])[\"valid_trials\"].count()\n",
    "\n",
    "# Calculate accuracy as proportion\n",
    "acc_per_sub = valid_trials / total_trials\n",
    "\n",
    "# Handle missing data (subjects with no valid trials will have NaN)\n",
    "acc_per_sub = acc_per_sub.fillna(0)\n",
    "\n",
    "print(f\"Accuracy calculated for {len(acc_per_sub)} subject-condition combinations\")"
   ]
  },
  {
   "cell_type": "markdown",
   "id": "463b0f0b",
   "metadata": {},
   "source": [
    "## 8. Descriptive Statistics"
   ]
  },
  {
   "cell_type": "code",
   "execution_count": 41,
   "id": "a2e5b5fd",
   "metadata": {},
   "outputs": [
    {
     "name": "stdout",
     "output_type": "stream",
     "text": [
      "Descriptive Statistics by Condition:\n"
     ]
    },
    {
     "data": {
      "application/vnd.microsoft.datawrangler.viewer.v0+json": {
       "columns": [
        {
         "name": "index",
         "rawType": "int64",
         "type": "integer"
        },
        {
         "name": "condition",
         "rawType": "object",
         "type": "string"
        },
        {
         "name": "count",
         "rawType": "float64",
         "type": "float"
        },
        {
         "name": "mean",
         "rawType": "float64",
         "type": "float"
        },
        {
         "name": "std",
         "rawType": "float64",
         "type": "float"
        },
        {
         "name": "min",
         "rawType": "float64",
         "type": "float"
        },
        {
         "name": "max",
         "rawType": "float64",
         "type": "float"
        },
        {
         "name": "n_observations",
         "rawType": "int64",
         "type": "integer"
        }
       ],
       "ref": "0e5e2343-e4fc-4ab1-ad54-697679787dc7",
       "rows": [
        [
         "0",
         "Baseline",
         "209.0",
         "0.908",
         "0.136",
         "0.333",
         "1.0",
         "209"
        ],
        [
         "1",
         "Gap",
         "209.0",
         "0.879",
         "0.135",
         "0.368",
         "1.0",
         "209"
        ],
        [
         "2",
         "Overlap",
         "209.0",
         "0.876",
         "0.161",
         "0.368",
         "1.0",
         "209"
        ]
       ],
       "shape": {
        "columns": 7,
        "rows": 3
       }
      },
      "text/html": [
       "<div>\n",
       "<style scoped>\n",
       "    .dataframe tbody tr th:only-of-type {\n",
       "        vertical-align: middle;\n",
       "    }\n",
       "\n",
       "    .dataframe tbody tr th {\n",
       "        vertical-align: top;\n",
       "    }\n",
       "\n",
       "    .dataframe thead th {\n",
       "        text-align: right;\n",
       "    }\n",
       "</style>\n",
       "<table border=\"1\" class=\"dataframe\">\n",
       "  <thead>\n",
       "    <tr style=\"text-align: right;\">\n",
       "      <th></th>\n",
       "      <th>condition</th>\n",
       "      <th>count</th>\n",
       "      <th>mean</th>\n",
       "      <th>std</th>\n",
       "      <th>min</th>\n",
       "      <th>max</th>\n",
       "      <th>n_observations</th>\n",
       "    </tr>\n",
       "  </thead>\n",
       "  <tbody>\n",
       "    <tr>\n",
       "      <th>0</th>\n",
       "      <td>Baseline</td>\n",
       "      <td>209.0</td>\n",
       "      <td>0.908</td>\n",
       "      <td>0.136</td>\n",
       "      <td>0.333</td>\n",
       "      <td>1.0</td>\n",
       "      <td>209</td>\n",
       "    </tr>\n",
       "    <tr>\n",
       "      <th>1</th>\n",
       "      <td>Gap</td>\n",
       "      <td>209.0</td>\n",
       "      <td>0.879</td>\n",
       "      <td>0.135</td>\n",
       "      <td>0.368</td>\n",
       "      <td>1.0</td>\n",
       "      <td>209</td>\n",
       "    </tr>\n",
       "    <tr>\n",
       "      <th>2</th>\n",
       "      <td>Overlap</td>\n",
       "      <td>209.0</td>\n",
       "      <td>0.876</td>\n",
       "      <td>0.161</td>\n",
       "      <td>0.368</td>\n",
       "      <td>1.0</td>\n",
       "      <td>209</td>\n",
       "    </tr>\n",
       "  </tbody>\n",
       "</table>\n",
       "</div>"
      ],
      "text/plain": [
       "  condition  count   mean    std    min  max  n_observations\n",
       "0  Baseline  209.0  0.908  0.136  0.333  1.0             209\n",
       "1       Gap  209.0  0.879  0.135  0.368  1.0             209\n",
       "2   Overlap  209.0  0.876  0.161  0.368  1.0             209"
      ]
     },
     "metadata": {},
     "output_type": "display_data"
    }
   ],
   "source": [
    "# Create summary dataframe\n",
    "acc_per_sub_s = pd.DataFrame(acc_per_sub).reset_index().rename(columns={\"valid_trials\": \"perc_accuracy\"})\n",
    "\n",
    "# Generate descriptive statistics by condition\n",
    "acc_descriptive_stats = acc_per_sub_s.groupby([\"condition\"]).perc_accuracy.describe().reset_index()\n",
    "\n",
    "# Remove quartiles to improve readability\n",
    "acc_descriptive_stats = acc_descriptive_stats.drop(columns=[\"25%\", \"75%\", \"50%\"])\n",
    "\n",
    "# Add sample sizes\n",
    "sample_sizes = acc_per_sub_s.groupby([\"condition\"]).size().reset_index(name='n_observations')\n",
    "acc_descriptive_stats = acc_descriptive_stats.merge(sample_sizes, on='condition')\n",
    "\n",
    "print(\"Descriptive Statistics by Condition:\")\n",
    "display(acc_descriptive_stats.round(3))\n"
   ]
  },
  {
   "cell_type": "code",
   "execution_count": 42,
   "id": "f844ba34",
   "metadata": {},
   "outputs": [],
   "source": [
    "## Add demographic information to the dataframe\n",
    "\n",
    "demo_df=go_df[[\"subject\",\"ndd\", \"age_group\", \"sex\", \"asd\", \"eeg_age\"]].drop_duplicates()\n",
    "acc_per_sub_s = acc_per_sub_s.merge(demo_df, on=\"subject\", how=\"left\")"
   ]
  },
  {
   "cell_type": "code",
   "execution_count": null,
   "id": "ee6f8758",
   "metadata": {},
   "outputs": [],
   "source": [
    "# Descriptive stats for accuracy\n",
    "doc.add_heading('Accuracy descriptive stats', level=3)\n",
    "doc = df_to_table(doc, acc_descriptive_stats)\n"
   ]
  },
  {
   "cell_type": "code",
   "execution_count": 44,
   "id": "c7596557",
   "metadata": {},
   "outputs": [
    {
     "data": {
      "application/vnd.microsoft.datawrangler.viewer.v0+json": {
       "columns": [
        {
         "name": "index",
         "rawType": "int64",
         "type": "integer"
        },
        {
         "name": "subject",
         "rawType": "object",
         "type": "string"
        },
        {
         "name": "condition",
         "rawType": "object",
         "type": "string"
        },
        {
         "name": "perc_accuracy",
         "rawType": "float64",
         "type": "float"
        },
        {
         "name": "ndd",
         "rawType": "object",
         "type": "string"
        },
        {
         "name": "age_group",
         "rawType": "object",
         "type": "string"
        },
        {
         "name": "sex",
         "rawType": "object",
         "type": "unknown"
        },
        {
         "name": "asd",
         "rawType": "float64",
         "type": "float"
        },
        {
         "name": "eeg_age",
         "rawType": "float64",
         "type": "float"
        }
       ],
       "ref": "d5875a56-ad73-4e4a-8502-213923622cda",
       "rows": [
        [
         "0",
         "002Z",
         "Baseline",
         "1.0",
         "no_ndd",
         "adult",
         "female",
         "0.0",
         "45.88"
        ],
        [
         "1",
         "002Z",
         "Gap",
         "1.0",
         "no_ndd",
         "adult",
         "female",
         "0.0",
         "45.88"
        ],
        [
         "2",
         "002Z",
         "Overlap",
         "0.9166666666666666",
         "no_ndd",
         "adult",
         "female",
         "0.0",
         "45.88"
        ],
        [
         "3",
         "0042P",
         "Baseline",
         "0.9166666666666666",
         "ndd",
         "adult",
         "female",
         "0.0",
         "30.97"
        ],
        [
         "4",
         "0042P",
         "Gap",
         "1.0",
         "ndd",
         "adult",
         "female",
         "0.0",
         "30.97"
        ],
        [
         "5",
         "0042P",
         "Overlap",
         "1.0",
         "ndd",
         "adult",
         "female",
         "0.0",
         "30.97"
        ],
        [
         "6",
         "0043F1",
         "Baseline",
         "1.0",
         "no_ndd",
         "adult",
         "male",
         "0.0",
         "58.13"
        ],
        [
         "7",
         "0043F1",
         "Gap",
         "1.0",
         "no_ndd",
         "adult",
         "male",
         "0.0",
         "58.13"
        ],
        [
         "8",
         "0043F1",
         "Overlap",
         "1.0",
         "no_ndd",
         "adult",
         "male",
         "0.0",
         "58.13"
        ],
        [
         "9",
         "0050M1",
         "Baseline",
         "1.0",
         "no_ndd",
         "adult",
         "female",
         null,
         "37.1"
        ],
        [
         "10",
         "0050M1",
         "Gap",
         "1.0",
         "no_ndd",
         "adult",
         "female",
         null,
         "37.1"
        ],
        [
         "11",
         "0050M1",
         "Overlap",
         "0.9166666666666666",
         "no_ndd",
         "adult",
         "female",
         null,
         "37.1"
        ],
        [
         "12",
         "0050P",
         "Baseline",
         "0.6875",
         "ndd",
         "child",
         "female",
         null,
         "8.07"
        ],
        [
         "13",
         "0050P",
         "Gap",
         "0.6875",
         "ndd",
         "child",
         "female",
         null,
         "8.07"
        ],
        [
         "14",
         "0050P",
         "Overlap",
         "0.9166666666666666",
         "ndd",
         "child",
         "female",
         null,
         "8.07"
        ],
        [
         "15",
         "0062P",
         "Baseline",
         "0.9166666666666666",
         "no_ndd",
         "adult",
         "female",
         null,
         "40.61"
        ],
        [
         "16",
         "0062P",
         "Gap",
         "1.0",
         "no_ndd",
         "adult",
         "female",
         null,
         "40.61"
        ],
        [
         "17",
         "0062P",
         "Overlap",
         "0.9166666666666666",
         "no_ndd",
         "adult",
         "female",
         null,
         "40.61"
        ],
        [
         "18",
         "0064M1",
         "Baseline",
         "0.9166666666666666",
         "no_ndd",
         "adult",
         "female",
         null,
         "38.08"
        ],
        [
         "19",
         "0064M1",
         "Gap",
         "0.9166666666666666",
         "no_ndd",
         "adult",
         "female",
         null,
         "38.08"
        ],
        [
         "20",
         "0064M1",
         "Overlap",
         "0.7692307692307693",
         "no_ndd",
         "adult",
         "female",
         null,
         "38.08"
        ],
        [
         "21",
         "0064S1",
         "Baseline",
         "0.6666666666666666",
         "ndd",
         "child",
         "male",
         "1.0",
         "12.22"
        ],
        [
         "22",
         "0064S1",
         "Gap",
         "0.7692307692307693",
         "ndd",
         "child",
         "male",
         "1.0",
         "12.22"
        ],
        [
         "23",
         "0064S1",
         "Overlap",
         "0.75",
         "ndd",
         "child",
         "male",
         "1.0",
         "12.22"
        ],
        [
         "24",
         "0068F1",
         "Baseline",
         "0.9166666666666666",
         "no_ndd",
         "adult",
         "male",
         "0.0",
         "44.12"
        ],
        [
         "25",
         "0068F1",
         "Gap",
         "1.0",
         "no_ndd",
         "adult",
         "male",
         "0.0",
         "44.12"
        ],
        [
         "26",
         "0068F1",
         "Overlap",
         "0.9166666666666666",
         "no_ndd",
         "adult",
         "male",
         "0.0",
         "44.12"
        ],
        [
         "27",
         "0068M1",
         "Baseline",
         "1.0",
         "no_ndd",
         "adult",
         "female",
         "0.0",
         "33.29"
        ],
        [
         "28",
         "0068M1",
         "Gap",
         "1.0",
         "no_ndd",
         "adult",
         "female",
         "0.0",
         "33.29"
        ],
        [
         "29",
         "0068M1",
         "Overlap",
         "1.0",
         "no_ndd",
         "adult",
         "female",
         "0.0",
         "33.29"
        ],
        [
         "30",
         "0068S1",
         "Baseline",
         "0.8",
         "ndd",
         "child",
         "male",
         "1.0",
         "7.75"
        ],
        [
         "31",
         "0068S1",
         "Gap",
         "1.0",
         "ndd",
         "child",
         "male",
         "1.0",
         "7.75"
        ],
        [
         "32",
         "0068S1",
         "Overlap",
         "0.5",
         "ndd",
         "child",
         "male",
         "1.0",
         "7.75"
        ],
        [
         "33",
         "0068S3",
         "Baseline",
         "0.7857142857142857",
         "no_ndd",
         "child",
         "male",
         "0.0",
         "4.75"
        ],
        [
         "34",
         "0068S3",
         "Gap",
         "0.6923076923076923",
         "no_ndd",
         "child",
         "male",
         "0.0",
         "4.75"
        ],
        [
         "35",
         "0068S3",
         "Overlap",
         "0.47368421052631576",
         "no_ndd",
         "child",
         "male",
         "0.0",
         "4.75"
        ],
        [
         "36",
         "006Z",
         "Baseline",
         "1.0",
         "no_ndd",
         "adult",
         "male",
         "0.0",
         "33.64"
        ],
        [
         "37",
         "006Z",
         "Gap",
         "1.0",
         "no_ndd",
         "adult",
         "male",
         "0.0",
         "33.64"
        ],
        [
         "38",
         "006Z",
         "Overlap",
         "1.0",
         "no_ndd",
         "adult",
         "male",
         "0.0",
         "33.64"
        ],
        [
         "39",
         "0083F1",
         "Baseline",
         "0.5",
         "ndd",
         "adult",
         "male",
         "1.0",
         "45.95"
        ],
        [
         "40",
         "0083F1",
         "Gap",
         "0.5",
         "ndd",
         "adult",
         "male",
         "1.0",
         "45.95"
        ],
        [
         "41",
         "0083F1",
         "Overlap",
         "0.5",
         "ndd",
         "adult",
         "male",
         "1.0",
         "45.95"
        ],
        [
         "42",
         "0083P",
         "Baseline",
         "1.0",
         "ndd",
         "child",
         "female",
         "1.0",
         "13.01"
        ],
        [
         "43",
         "0083P",
         "Gap",
         "1.0",
         "ndd",
         "child",
         "female",
         "1.0",
         "13.01"
        ],
        [
         "44",
         "0083P",
         "Overlap",
         "0.75",
         "ndd",
         "child",
         "female",
         "1.0",
         "13.01"
        ],
        [
         "45",
         "0086F1",
         "Baseline",
         "1.0",
         "no_ndd",
         "adult",
         "male",
         null,
         "47.71"
        ],
        [
         "46",
         "0086F1",
         "Gap",
         "1.0",
         "no_ndd",
         "adult",
         "male",
         null,
         "47.71"
        ],
        [
         "47",
         "0086F1",
         "Overlap",
         "1.0",
         "no_ndd",
         "adult",
         "male",
         null,
         "47.71"
        ],
        [
         "48",
         "0086M1",
         "Baseline",
         "1.0",
         "no_ndd",
         "adult",
         "female",
         null,
         "49.7"
        ],
        [
         "49",
         "0086M1",
         "Gap",
         "1.0",
         "no_ndd",
         "adult",
         "female",
         null,
         "49.7"
        ]
       ],
       "shape": {
        "columns": 8,
        "rows": 627
       }
      },
      "text/html": [
       "<div>\n",
       "<style scoped>\n",
       "    .dataframe tbody tr th:only-of-type {\n",
       "        vertical-align: middle;\n",
       "    }\n",
       "\n",
       "    .dataframe tbody tr th {\n",
       "        vertical-align: top;\n",
       "    }\n",
       "\n",
       "    .dataframe thead th {\n",
       "        text-align: right;\n",
       "    }\n",
       "</style>\n",
       "<table border=\"1\" class=\"dataframe\">\n",
       "  <thead>\n",
       "    <tr style=\"text-align: right;\">\n",
       "      <th></th>\n",
       "      <th>subject</th>\n",
       "      <th>condition</th>\n",
       "      <th>perc_accuracy</th>\n",
       "      <th>ndd</th>\n",
       "      <th>age_group</th>\n",
       "      <th>sex</th>\n",
       "      <th>asd</th>\n",
       "      <th>eeg_age</th>\n",
       "    </tr>\n",
       "  </thead>\n",
       "  <tbody>\n",
       "    <tr>\n",
       "      <th>0</th>\n",
       "      <td>002Z</td>\n",
       "      <td>Baseline</td>\n",
       "      <td>1.000000</td>\n",
       "      <td>no_ndd</td>\n",
       "      <td>adult</td>\n",
       "      <td>female</td>\n",
       "      <td>0.0</td>\n",
       "      <td>45.88</td>\n",
       "    </tr>\n",
       "    <tr>\n",
       "      <th>1</th>\n",
       "      <td>002Z</td>\n",
       "      <td>Gap</td>\n",
       "      <td>1.000000</td>\n",
       "      <td>no_ndd</td>\n",
       "      <td>adult</td>\n",
       "      <td>female</td>\n",
       "      <td>0.0</td>\n",
       "      <td>45.88</td>\n",
       "    </tr>\n",
       "    <tr>\n",
       "      <th>2</th>\n",
       "      <td>002Z</td>\n",
       "      <td>Overlap</td>\n",
       "      <td>0.916667</td>\n",
       "      <td>no_ndd</td>\n",
       "      <td>adult</td>\n",
       "      <td>female</td>\n",
       "      <td>0.0</td>\n",
       "      <td>45.88</td>\n",
       "    </tr>\n",
       "    <tr>\n",
       "      <th>3</th>\n",
       "      <td>0042P</td>\n",
       "      <td>Baseline</td>\n",
       "      <td>0.916667</td>\n",
       "      <td>ndd</td>\n",
       "      <td>adult</td>\n",
       "      <td>female</td>\n",
       "      <td>0.0</td>\n",
       "      <td>30.97</td>\n",
       "    </tr>\n",
       "    <tr>\n",
       "      <th>4</th>\n",
       "      <td>0042P</td>\n",
       "      <td>Gap</td>\n",
       "      <td>1.000000</td>\n",
       "      <td>ndd</td>\n",
       "      <td>adult</td>\n",
       "      <td>female</td>\n",
       "      <td>0.0</td>\n",
       "      <td>30.97</td>\n",
       "    </tr>\n",
       "    <tr>\n",
       "      <th>...</th>\n",
       "      <td>...</td>\n",
       "      <td>...</td>\n",
       "      <td>...</td>\n",
       "      <td>...</td>\n",
       "      <td>...</td>\n",
       "      <td>...</td>\n",
       "      <td>...</td>\n",
       "      <td>...</td>\n",
       "    </tr>\n",
       "    <tr>\n",
       "      <th>622</th>\n",
       "      <td>1256S1</td>\n",
       "      <td>Gap</td>\n",
       "      <td>1.000000</td>\n",
       "      <td>ndd</td>\n",
       "      <td>child</td>\n",
       "      <td>male</td>\n",
       "      <td>NaN</td>\n",
       "      <td>17.33</td>\n",
       "    </tr>\n",
       "    <tr>\n",
       "      <th>623</th>\n",
       "      <td>1256S1</td>\n",
       "      <td>Overlap</td>\n",
       "      <td>1.000000</td>\n",
       "      <td>ndd</td>\n",
       "      <td>child</td>\n",
       "      <td>male</td>\n",
       "      <td>NaN</td>\n",
       "      <td>17.33</td>\n",
       "    </tr>\n",
       "    <tr>\n",
       "      <th>624</th>\n",
       "      <td>1256S2</td>\n",
       "      <td>Baseline</td>\n",
       "      <td>0.923077</td>\n",
       "      <td>ndd</td>\n",
       "      <td>adult</td>\n",
       "      <td>female</td>\n",
       "      <td>1.0</td>\n",
       "      <td>18.32</td>\n",
       "    </tr>\n",
       "    <tr>\n",
       "      <th>625</th>\n",
       "      <td>1256S2</td>\n",
       "      <td>Gap</td>\n",
       "      <td>0.923077</td>\n",
       "      <td>ndd</td>\n",
       "      <td>adult</td>\n",
       "      <td>female</td>\n",
       "      <td>1.0</td>\n",
       "      <td>18.32</td>\n",
       "    </tr>\n",
       "    <tr>\n",
       "      <th>626</th>\n",
       "      <td>1256S2</td>\n",
       "      <td>Overlap</td>\n",
       "      <td>0.916667</td>\n",
       "      <td>ndd</td>\n",
       "      <td>adult</td>\n",
       "      <td>female</td>\n",
       "      <td>1.0</td>\n",
       "      <td>18.32</td>\n",
       "    </tr>\n",
       "  </tbody>\n",
       "</table>\n",
       "<p>627 rows × 8 columns</p>\n",
       "</div>"
      ],
      "text/plain": [
       "    subject condition  perc_accuracy     ndd age_group     sex  asd  eeg_age\n",
       "0      002Z  Baseline       1.000000  no_ndd     adult  female  0.0    45.88\n",
       "1      002Z       Gap       1.000000  no_ndd     adult  female  0.0    45.88\n",
       "2      002Z   Overlap       0.916667  no_ndd     adult  female  0.0    45.88\n",
       "3     0042P  Baseline       0.916667     ndd     adult  female  0.0    30.97\n",
       "4     0042P       Gap       1.000000     ndd     adult  female  0.0    30.97\n",
       "..      ...       ...            ...     ...       ...     ...  ...      ...\n",
       "622  1256S1       Gap       1.000000     ndd     child    male  NaN    17.33\n",
       "623  1256S1   Overlap       1.000000     ndd     child    male  NaN    17.33\n",
       "624  1256S2  Baseline       0.923077     ndd     adult  female  1.0    18.32\n",
       "625  1256S2       Gap       0.923077     ndd     adult  female  1.0    18.32\n",
       "626  1256S2   Overlap       0.916667     ndd     adult  female  1.0    18.32\n",
       "\n",
       "[627 rows x 8 columns]"
      ]
     },
     "execution_count": 44,
     "metadata": {},
     "output_type": "execute_result"
    }
   ],
   "source": [
    "acc_per_sub_s"
   ]
  },
  {
   "cell_type": "markdown",
   "id": "08f4bd04",
   "metadata": {},
   "source": [
    "### 8.1 Overall Accuracy Distribution"
   ]
  },
  {
   "cell_type": "code",
   "execution_count": 45,
   "id": "5107a4e0",
   "metadata": {},
   "outputs": [
    {
     "data": {
      "text/plain": [
       "<Axes: xlabel='perc_accuracy', ylabel='Density'>"
      ]
     },
     "execution_count": 45,
     "metadata": {},
     "output_type": "execute_result"
    },
    {
     "data": {
      "image/png": "[encoded data removed]",
      "text/plain": [
       "<Figure size 640x480 with 1 Axes>"
      ]
     },
     "metadata": {},
     "output_type": "display_data"
    }
   ],
   "source": [
    "sns.histplot(acc_per_sub_s, x=\"perc_accuracy\", hue=\"age_group\", bins=30, kde=True, stat=\"density\", common_norm=False)"
   ]
  },
  {
   "cell_type": "markdown",
   "id": "31687405",
   "metadata": {},
   "source": [
    "### 8.2 Ceiling Effects Analysis\n"
   ]
  },
  {
   "cell_type": "code",
   "execution_count": 58,
   "id": "1892ddac",
   "metadata": {},
   "outputs": [
    {
     "name": "stdout",
     "output_type": "stream",
     "text": [
      "Ceiling Effects Analysis:\n",
      "\n",
      "Participants with >80.0% accuracy in ALL conditions:\n",
      "  Adults: 97/122 (79.5%)\n",
      "  Childs: 35/87 (40.2%)\n",
      "\n",
      "Participants with >90.0% accuracy in ALL conditions:\n",
      "  Adults: 83/122 (68.0%)\n",
      "  Childs: 23/87 (26.4%)\n",
      "\n",
      "Participants with >95.0% accuracy in ALL conditions:\n",
      "  Adults: 26/122 (21.3%)\n",
      "  Childs: 7/87 (8.0%)\n",
      "\n",
      "Participants with >99.0% accuracy in ALL conditions:\n",
      "  Adults: 26/122 (21.3%)\n",
      "  Childs: 7/87 (8.0%)\n"
     ]
    },
    {
     "data": {
      "text/plain": [
       "<docx.text.paragraph.Paragraph at 0x1731fe6e650>"
      ]
     },
     "execution_count": 58,
     "metadata": {},
     "output_type": "execute_result"
    }
   ],
   "source": [
    " # Calculate detailed ceiling effects statistics\n",
    "ceiling_thresholds = [0.80, 0.90, 0.95, 0.99]\n",
    "\n",
    "print(\"Ceiling Effects Analysis:\")\n",
    "\n",
    "for threshold in ceiling_thresholds:\n",
    "    print(f\"\\nParticipants with >{threshold*100}% accuracy in ALL conditions:\")\n",
    "    \n",
    "    for group in ['adult', 'child']:\n",
    "        if group in acc_per_sub_s['age_group'].values:\n",
    "            group_df = acc_per_sub_s[acc_per_sub_s['age_group'] == group]\n",
    "            \n",
    "            # Count participants above threshold in all conditions\n",
    "            above_threshold = group_df[group_df['perc_accuracy'] > threshold].groupby('subject').size()\n",
    "            all_conditions_above = above_threshold[above_threshold == 3]  # Assuming 3 conditions\n",
    "            \n",
    "            n_total = group_df['subject'].nunique()\n",
    "            n_ceiling = len(all_conditions_above)\n",
    "            percent = n_ceiling / n_total * 100 if n_total > 0 else 0\n",
    "            \n",
    "            print(f\"  {group.capitalize()}s: {n_ceiling}/{n_total} ({percent:.1f}%)\")\n",
    "            \n",
    "            # Add to document\n",
    "            doc.add_paragraph(\n",
    "                f\"{group.capitalize()}s above {threshold*100}%: {n_ceiling}/{n_total} ({percent:.1f}%)\",\n",
    "                style='List Bullet'\n",
    "            )\n",
    "\n",
    "# Summary statistics for the document\n",
    "doc.add_heading('Enhanced Ceiling Effects Analysis', level=3)"
   ]
  },
  {
   "cell_type": "code",
   "execution_count": 47,
   "id": "9d4bd277",
   "metadata": {},
   "outputs": [],
   "source": [
    "# Subset the data for adults and children\n",
    "if age_group == \"adult\":\n",
    "    acc_per_sub_s = acc_per_sub_s[acc_per_sub_s['age_group'] == 'adult']\n",
    "elif age_group == \"child\":\n",
    "    acc_per_sub_s = acc_per_sub_s[acc_per_sub_s['age_group'] == 'child']\n",
    "else:\n",
    "    acc_per_sub_s = acc_per_sub_s"
   ]
  },
  {
   "cell_type": "markdown",
   "id": "f71e3a79",
   "metadata": {},
   "source": [
    "## 9. Statistical Assumptions Testing\n",
    "### 9.1 Normality Assessment"
   ]
  },
  {
   "cell_type": "code",
   "execution_count": 48,
   "id": "6d73f08b",
   "metadata": {},
   "outputs": [
    {
     "data": {
      "application/vnd.microsoft.datawrangler.viewer.v0+json": {
       "columns": [
        {
         "name": "condition",
         "rawType": "object",
         "type": "string"
        },
        {
         "name": "W",
         "rawType": "float64",
         "type": "float"
        },
        {
         "name": "pval",
         "rawType": "float64",
         "type": "float"
        },
        {
         "name": "normal",
         "rawType": "bool",
         "type": "boolean"
        }
       ],
       "ref": "cccd7658-b9cc-4eaf-8ec6-9b3e32a46105",
       "rows": [
        [
         "Baseline",
         "0.72",
         "0.0",
         "False"
        ],
        [
         "Gap",
         "0.83",
         "0.0",
         "False"
        ],
        [
         "Overlap",
         "0.78",
         "0.0",
         "False"
        ]
       ],
       "shape": {
        "columns": 3,
        "rows": 3
       }
      },
      "text/html": [
       "<div>\n",
       "<style scoped>\n",
       "    .dataframe tbody tr th:only-of-type {\n",
       "        vertical-align: middle;\n",
       "    }\n",
       "\n",
       "    .dataframe tbody tr th {\n",
       "        vertical-align: top;\n",
       "    }\n",
       "\n",
       "    .dataframe thead th {\n",
       "        text-align: right;\n",
       "    }\n",
       "</style>\n",
       "<table border=\"1\" class=\"dataframe\">\n",
       "  <thead>\n",
       "    <tr style=\"text-align: right;\">\n",
       "      <th></th>\n",
       "      <th>W</th>\n",
       "      <th>pval</th>\n",
       "      <th>normal</th>\n",
       "    </tr>\n",
       "    <tr>\n",
       "      <th>condition</th>\n",
       "      <th></th>\n",
       "      <th></th>\n",
       "      <th></th>\n",
       "    </tr>\n",
       "  </thead>\n",
       "  <tbody>\n",
       "    <tr>\n",
       "      <th>Baseline</th>\n",
       "      <td>0.72</td>\n",
       "      <td>0.0</td>\n",
       "      <td>False</td>\n",
       "    </tr>\n",
       "    <tr>\n",
       "      <th>Gap</th>\n",
       "      <td>0.83</td>\n",
       "      <td>0.0</td>\n",
       "      <td>False</td>\n",
       "    </tr>\n",
       "    <tr>\n",
       "      <th>Overlap</th>\n",
       "      <td>0.78</td>\n",
       "      <td>0.0</td>\n",
       "      <td>False</td>\n",
       "    </tr>\n",
       "  </tbody>\n",
       "</table>\n",
       "</div>"
      ],
      "text/plain": [
       "              W  pval  normal\n",
       "condition                    \n",
       "Baseline   0.72   0.0   False\n",
       "Gap        0.83   0.0   False\n",
       "Overlap    0.78   0.0   False"
      ]
     },
     "execution_count": 48,
     "metadata": {},
     "output_type": "execute_result"
    }
   ],
   "source": [
    "pg.normality(data=acc_per_sub_s, dv='perc_accuracy', group='condition').round(2)"
   ]
  },
  {
   "cell_type": "markdown",
   "id": "44c5109d",
   "metadata": {},
   "source": [
    "### 9.2 Data Transformations"
   ]
  },
  {
   "cell_type": "code",
   "execution_count": 49,
   "id": "1e48919b",
   "metadata": {},
   "outputs": [],
   "source": [
    "#Applied various trasnformations\n",
    "acc_per_sub_s[\"log_rt\"]=np.log(acc_per_sub_s.perc_accuracy)\n",
    "acc_per_sub_s[\"sqrt_rt\"]=np.sqrt(acc_per_sub_s.perc_accuracy)\n",
    "acc_per_sub_s[\"reciprocal_rt\"] = boxcox(acc_per_sub_s.perc_accuracy,-0.5)\n",
    "acc_per_sub_s[\"arcsine_accuracy\"] = np.arcsin(np.sqrt(acc_per_sub_s.perc_accuracy))"
   ]
  },
  {
   "cell_type": "code",
   "execution_count": 50,
   "id": "1bec6529",
   "metadata": {},
   "outputs": [
    {
     "data": {
      "text/plain": [
       "<Axes: xlabel='arcsine_accuracy', ylabel='Count'>"
      ]
     },
     "execution_count": 50,
     "metadata": {},
     "output_type": "execute_result"
    },
    {
     "data": {
      "image/png": "[encoded data removed]",
      "text/plain": [
       "<Figure size 640x480 with 5 Axes>"
      ]
     },
     "metadata": {},
     "output_type": "display_data"
    }
   ],
   "source": [
    "fig, axs = plt.subplots(ncols=5)\n",
    "sns.histplot(acc_per_sub_s.perc_accuracy,edgecolor='black', bins=20, ax=axs[0])\n",
    "sns.histplot(acc_per_sub_s.log_rt,edgecolor='black', bins=20, ax=axs[1])\n",
    "sns.histplot(acc_per_sub_s.sqrt_rt,edgecolor='black', bins=20, ax=axs[2])\n",
    "sns.histplot(acc_per_sub_s.reciprocal_rt,edgecolor='black', bins=20, ax=axs[3])\n",
    "sns.histplot(acc_per_sub_s.arcsine_accuracy, edgecolor='black', bins=20, ax=axs[4])\n"
   ]
  },
  {
   "cell_type": "code",
   "execution_count": 23,
   "id": "820fbad6",
   "metadata": {},
   "outputs": [
    {
     "data": {
      "application/vnd.microsoft.datawrangler.viewer.v0+json": {
       "columns": [
        {
         "name": "condition",
         "rawType": "object",
         "type": "string"
        },
        {
         "name": "W",
         "rawType": "float64",
         "type": "float"
        },
        {
         "name": "pval",
         "rawType": "float64",
         "type": "float"
        },
        {
         "name": "normal",
         "rawType": "bool",
         "type": "boolean"
        }
       ],
       "ref": "37bfa8a6-4d6c-4eaa-95e8-4538450f10e6",
       "rows": [
        [
         "Baseline",
         "0.7161239737868647",
         "1.3128319937184058e-18",
         "False"
        ],
        [
         "Gap",
         "0.8268891574118606",
         "1.649612906781084e-14",
         "False"
        ],
        [
         "Overlap",
         "0.778292405257069",
         "1.7234704035200696e-16",
         "False"
        ]
       ],
       "shape": {
        "columns": 3,
        "rows": 3
       }
      },
      "text/html": [
       "<div>\n",
       "<style scoped>\n",
       "    .dataframe tbody tr th:only-of-type {\n",
       "        vertical-align: middle;\n",
       "    }\n",
       "\n",
       "    .dataframe tbody tr th {\n",
       "        vertical-align: top;\n",
       "    }\n",
       "\n",
       "    .dataframe thead th {\n",
       "        text-align: right;\n",
       "    }\n",
       "</style>\n",
       "<table border=\"1\" class=\"dataframe\">\n",
       "  <thead>\n",
       "    <tr style=\"text-align: right;\">\n",
       "      <th></th>\n",
       "      <th>W</th>\n",
       "      <th>pval</th>\n",
       "      <th>normal</th>\n",
       "    </tr>\n",
       "    <tr>\n",
       "      <th>condition</th>\n",
       "      <th></th>\n",
       "      <th></th>\n",
       "      <th></th>\n",
       "    </tr>\n",
       "  </thead>\n",
       "  <tbody>\n",
       "    <tr>\n",
       "      <th>Baseline</th>\n",
       "      <td>0.716124</td>\n",
       "      <td>1.312832e-18</td>\n",
       "      <td>False</td>\n",
       "    </tr>\n",
       "    <tr>\n",
       "      <th>Gap</th>\n",
       "      <td>0.826889</td>\n",
       "      <td>1.649613e-14</td>\n",
       "      <td>False</td>\n",
       "    </tr>\n",
       "    <tr>\n",
       "      <th>Overlap</th>\n",
       "      <td>0.778292</td>\n",
       "      <td>1.723470e-16</td>\n",
       "      <td>False</td>\n",
       "    </tr>\n",
       "  </tbody>\n",
       "</table>\n",
       "</div>"
      ],
      "text/plain": [
       "                  W          pval  normal\n",
       "condition                                \n",
       "Baseline   0.716124  1.312832e-18   False\n",
       "Gap        0.826889  1.649613e-14   False\n",
       "Overlap    0.778292  1.723470e-16   False"
      ]
     },
     "execution_count": 23,
     "metadata": {},
     "output_type": "execute_result"
    }
   ],
   "source": [
    "results_df=pg.normality(data=acc_per_sub_s, dv='perc_accuracy', group='condition')\n",
    "results_df"
   ]
  },
  {
   "cell_type": "code",
   "execution_count": 24,
   "id": "3220e0a4",
   "metadata": {},
   "outputs": [
    {
     "data": {
      "text/plain": [
       "<docx.text.paragraph.Paragraph at 0x17365a36f80>"
      ]
     },
     "execution_count": 24,
     "metadata": {},
     "output_type": "execute_result"
    }
   ],
   "source": [
    "## Add table to the document\n",
    "doc.add_heading('Normality test', level=3)\n",
    "\n",
    "doc = df_to_table(doc, results_df)\n",
    "\n",
    "# Add bullet point to the document\n",
    "\n",
    "doc.add_paragraph(\"Not normally distributed: suggest non-parametric\", style='List Bullet')"
   ]
  },
  {
   "cell_type": "markdown",
   "id": "66116c33",
   "metadata": {},
   "source": [
    "### 9.3 Homoscedasticity and Sphericity Tests"
   ]
  },
  {
   "cell_type": "code",
   "execution_count": 25,
   "id": "60ab2333",
   "metadata": {},
   "outputs": [
    {
     "data": {
      "application/vnd.microsoft.datawrangler.viewer.v0+json": {
       "columns": [
        {
         "name": "index",
         "rawType": "object",
         "type": "string"
        },
        {
         "name": "W",
         "rawType": "float64",
         "type": "float"
        },
        {
         "name": "pval",
         "rawType": "float64",
         "type": "float"
        },
        {
         "name": "equal_var",
         "rawType": "bool",
         "type": "boolean"
        }
       ],
       "ref": "31d4ed6c-0636-42db-a947-cc9f4718dd8e",
       "rows": [
        [
         "levene",
         "18.620772193011927",
         "1.853558088712852e-05",
         "False"
        ]
       ],
       "shape": {
        "columns": 3,
        "rows": 1
       }
      },
      "text/html": [
       "<div>\n",
       "<style scoped>\n",
       "    .dataframe tbody tr th:only-of-type {\n",
       "        vertical-align: middle;\n",
       "    }\n",
       "\n",
       "    .dataframe tbody tr th {\n",
       "        vertical-align: top;\n",
       "    }\n",
       "\n",
       "    .dataframe thead th {\n",
       "        text-align: right;\n",
       "    }\n",
       "</style>\n",
       "<table border=\"1\" class=\"dataframe\">\n",
       "  <thead>\n",
       "    <tr style=\"text-align: right;\">\n",
       "      <th></th>\n",
       "      <th>W</th>\n",
       "      <th>pval</th>\n",
       "      <th>equal_var</th>\n",
       "    </tr>\n",
       "  </thead>\n",
       "  <tbody>\n",
       "    <tr>\n",
       "      <th>levene</th>\n",
       "      <td>18.620772</td>\n",
       "      <td>0.000019</td>\n",
       "      <td>False</td>\n",
       "    </tr>\n",
       "  </tbody>\n",
       "</table>\n",
       "</div>"
      ],
      "text/plain": [
       "                W      pval  equal_var\n",
       "levene  18.620772  0.000019      False"
      ]
     },
     "execution_count": 25,
     "metadata": {},
     "output_type": "execute_result"
    }
   ],
   "source": [
    "# Perform Levene's test for homogeneity of variance\n",
    "pg.homoscedasticity(data=acc_per_sub_s, dv='perc_accuracy', group='ndd', method='levene')"
   ]
  },
  {
   "cell_type": "code",
   "execution_count": 26,
   "id": "f36b1ae1",
   "metadata": {},
   "outputs": [
    {
     "data": {
      "text/plain": [
       "<docx.text.paragraph.Paragraph at 0x1731dded090>"
      ]
     },
     "execution_count": 26,
     "metadata": {},
     "output_type": "execute_result"
    }
   ],
   "source": [
    "# Add assumption results to the document as bullet points\n",
    "\n",
    "doc.add_paragraph(f\"Sphericity: {pg.sphericity(data=acc_per_sub_s, dv='perc_accuracy', subject='subject', within='condition')[-1]}\", style='List Bullet')\n"
   ]
  },
  {
   "cell_type": "markdown",
   "id": "6d5c5599",
   "metadata": {},
   "source": [
    "## 10. Main Statistical Analyses\n",
    "### 10.1 Overall Condition Differences (Friedman Test)"
   ]
  },
  {
   "cell_type": "code",
   "execution_count": 27,
   "id": "53a291a4",
   "metadata": {},
   "outputs": [
    {
     "data": {
      "application/vnd.microsoft.datawrangler.viewer.v0+json": {
       "columns": [
        {
         "name": "index",
         "rawType": "object",
         "type": "string"
        },
        {
         "name": "Source",
         "rawType": "object",
         "type": "string"
        },
        {
         "name": "W",
         "rawType": "float64",
         "type": "float"
        },
        {
         "name": "ddof1",
         "rawType": "int64",
         "type": "integer"
        },
        {
         "name": "Q",
         "rawType": "float64",
         "type": "float"
        },
        {
         "name": "p-unc",
         "rawType": "float64",
         "type": "float"
        }
       ],
       "ref": "3434087d-43dd-4043-bf6d-39204b3a6c64",
       "rows": [
        [
         "Friedman",
         "condition",
         "0.055",
         "2",
         "23.085",
         "0.0"
        ]
       ],
       "shape": {
        "columns": 5,
        "rows": 1
       }
      },
      "text/html": [
       "<div>\n",
       "<style scoped>\n",
       "    .dataframe tbody tr th:only-of-type {\n",
       "        vertical-align: middle;\n",
       "    }\n",
       "\n",
       "    .dataframe tbody tr th {\n",
       "        vertical-align: top;\n",
       "    }\n",
       "\n",
       "    .dataframe thead th {\n",
       "        text-align: right;\n",
       "    }\n",
       "</style>\n",
       "<table border=\"1\" class=\"dataframe\">\n",
       "  <thead>\n",
       "    <tr style=\"text-align: right;\">\n",
       "      <th></th>\n",
       "      <th>Source</th>\n",
       "      <th>W</th>\n",
       "      <th>ddof1</th>\n",
       "      <th>Q</th>\n",
       "      <th>p-unc</th>\n",
       "    </tr>\n",
       "  </thead>\n",
       "  <tbody>\n",
       "    <tr>\n",
       "      <th>Friedman</th>\n",
       "      <td>condition</td>\n",
       "      <td>0.055</td>\n",
       "      <td>2</td>\n",
       "      <td>23.085</td>\n",
       "      <td>0.0</td>\n",
       "    </tr>\n",
       "  </tbody>\n",
       "</table>\n",
       "</div>"
      ],
      "text/plain": [
       "             Source      W  ddof1       Q  p-unc\n",
       "Friedman  condition  0.055      2  23.085    0.0"
      ]
     },
     "execution_count": 27,
     "metadata": {},
     "output_type": "execute_result"
    }
   ],
   "source": [
    "### Friedman Test (non-parametric)\n",
    "pg.friedman(data=acc_per_sub_s, dv=\"perc_accuracy\", within=\"condition\", subject=\"subject\").round(3)"
   ]
  },
  {
   "cell_type": "code",
   "execution_count": 28,
   "id": "ad2f9e26",
   "metadata": {},
   "outputs": [
    {
     "data": {
      "text/plain": [
       "<docx.text.paragraph.Paragraph at 0x1731d921e10>"
      ]
     },
     "execution_count": 28,
     "metadata": {},
     "output_type": "execute_result"
    }
   ],
   "source": [
    "doc.add_heading('Friedman test for each group and condition', level=3)\n"
   ]
  },
  {
   "cell_type": "code",
   "execution_count": 29,
   "id": "afd000c9",
   "metadata": {},
   "outputs": [],
   "source": [
    "# Add to the document\n",
    "doc.add_paragraph('Friedman test for each condition across participants', style='List Bullet')\n",
    "\n",
    "# Add table to the document\n",
    "doc = df_to_table(doc, pg.friedman(data=acc_per_sub_s, dv=\"perc_accuracy\", within=\"condition\", subject=\"subject\").round(3))"
   ]
  },
  {
   "cell_type": "code",
   "execution_count": 30,
   "id": "e3bbf309",
   "metadata": {},
   "outputs": [
    {
     "data": {
      "application/vnd.microsoft.datawrangler.viewer.v0+json": {
       "columns": [
        {
         "name": "index",
         "rawType": "int64",
         "type": "integer"
        },
        {
         "name": "subject",
         "rawType": "object",
         "type": "string"
        },
        {
         "name": "condition",
         "rawType": "object",
         "type": "string"
        },
        {
         "name": "perc_accuracy",
         "rawType": "float64",
         "type": "float"
        },
        {
         "name": "ndd",
         "rawType": "object",
         "type": "string"
        },
        {
         "name": "age_group",
         "rawType": "object",
         "type": "string"
        },
        {
         "name": "sex",
         "rawType": "object",
         "type": "unknown"
        },
        {
         "name": "asd",
         "rawType": "float64",
         "type": "float"
        },
        {
         "name": "eeg_age",
         "rawType": "float64",
         "type": "float"
        },
        {
         "name": "log_rt",
         "rawType": "float64",
         "type": "float"
        },
        {
         "name": "sqrt_rt",
         "rawType": "float64",
         "type": "float"
        },
        {
         "name": "reciprocal_rt",
         "rawType": "float64",
         "type": "float"
        }
       ],
       "ref": "1cb53baf-b789-4ae6-9f68-7aedc9894348",
       "rows": [
        [
         "0",
         "002Z",
         "Baseline",
         "1.0",
         "no_ndd",
         "adult",
         "female",
         "0.0",
         "45.88",
         "0.0",
         "1.0",
         "0.0"
        ],
        [
         "1",
         "002Z",
         "Gap",
         "1.0",
         "no_ndd",
         "adult",
         "female",
         "0.0",
         "45.88",
         "0.0",
         "1.0",
         "0.0"
        ],
        [
         "2",
         "002Z",
         "Overlap",
         "0.9166666666666666",
         "no_ndd",
         "adult",
         "female",
         "0.0",
         "45.88",
         "-0.08701137698962981",
         "0.9574271077563381",
         "-0.0889318714683741"
        ],
        [
         "3",
         "0042P",
         "Baseline",
         "0.9166666666666666",
         "ndd",
         "adult",
         "female",
         "0.0",
         "30.97",
         "-0.08701137698962981",
         "0.9574271077563381",
         "-0.0889318714683741"
        ],
        [
         "4",
         "0042P",
         "Gap",
         "1.0",
         "ndd",
         "adult",
         "female",
         "0.0",
         "30.97",
         "0.0",
         "1.0",
         "0.0"
        ],
        [
         "5",
         "0042P",
         "Overlap",
         "1.0",
         "ndd",
         "adult",
         "female",
         "0.0",
         "30.97",
         "0.0",
         "1.0",
         "0.0"
        ],
        [
         "6",
         "0043F1",
         "Baseline",
         "1.0",
         "no_ndd",
         "adult",
         "male",
         "0.0",
         "58.13",
         "0.0",
         "1.0",
         "0.0"
        ],
        [
         "7",
         "0043F1",
         "Gap",
         "1.0",
         "no_ndd",
         "adult",
         "male",
         "0.0",
         "58.13",
         "0.0",
         "1.0",
         "0.0"
        ],
        [
         "8",
         "0043F1",
         "Overlap",
         "1.0",
         "no_ndd",
         "adult",
         "male",
         "0.0",
         "58.13",
         "0.0",
         "1.0",
         "0.0"
        ],
        [
         "9",
         "0050M1",
         "Baseline",
         "1.0",
         "no_ndd",
         "adult",
         "female",
         null,
         "37.1",
         "0.0",
         "1.0",
         "0.0"
        ],
        [
         "10",
         "0050M1",
         "Gap",
         "1.0",
         "no_ndd",
         "adult",
         "female",
         null,
         "37.1",
         "0.0",
         "1.0",
         "0.0"
        ],
        [
         "11",
         "0050M1",
         "Overlap",
         "0.9166666666666666",
         "no_ndd",
         "adult",
         "female",
         null,
         "37.1",
         "-0.08701137698962981",
         "0.9574271077563381",
         "-0.0889318714683741"
        ],
        [
         "12",
         "0050P",
         "Baseline",
         "0.6875",
         "ndd",
         "child",
         "female",
         null,
         "8.07",
         "-0.3746934494414107",
         "0.82915619758885",
         "-0.412090756622109"
        ],
        [
         "13",
         "0050P",
         "Gap",
         "0.6875",
         "ndd",
         "child",
         "female",
         null,
         "8.07",
         "-0.3746934494414107",
         "0.82915619758885",
         "-0.412090756622109"
        ],
        [
         "14",
         "0050P",
         "Overlap",
         "0.9166666666666666",
         "ndd",
         "child",
         "female",
         null,
         "8.07",
         "-0.08701137698962981",
         "0.9574271077563381",
         "-0.0889318714683741"
        ],
        [
         "15",
         "0062P",
         "Baseline",
         "0.9166666666666666",
         "no_ndd",
         "adult",
         "female",
         null,
         "40.61",
         "-0.08701137698962981",
         "0.9574271077563381",
         "-0.0889318714683741"
        ],
        [
         "16",
         "0062P",
         "Gap",
         "1.0",
         "no_ndd",
         "adult",
         "female",
         null,
         "40.61",
         "0.0",
         "1.0",
         "0.0"
        ],
        [
         "17",
         "0062P",
         "Overlap",
         "0.9166666666666666",
         "no_ndd",
         "adult",
         "female",
         null,
         "40.61",
         "-0.08701137698962981",
         "0.9574271077563381",
         "-0.0889318714683741"
        ],
        [
         "18",
         "0064M1",
         "Baseline",
         "0.9166666666666666",
         "no_ndd",
         "adult",
         "female",
         null,
         "38.08",
         "-0.08701137698962981",
         "0.9574271077563381",
         "-0.0889318714683741"
        ],
        [
         "19",
         "0064M1",
         "Gap",
         "0.9166666666666666",
         "no_ndd",
         "adult",
         "female",
         null,
         "38.08",
         "-0.08701137698962981",
         "0.9574271077563381",
         "-0.0889318714683741"
        ],
        [
         "20",
         "0064M1",
         "Overlap",
         "0.7692307692307693",
         "no_ndd",
         "adult",
         "female",
         null,
         "38.08",
         "-0.262364264467491",
         "0.8770580193070292",
         "-0.2803508501982759"
        ],
        [
         "21",
         "0064S1",
         "Baseline",
         "0.6666666666666666",
         "ndd",
         "child",
         "male",
         "1.0",
         "12.22",
         "-0.40546510810816444",
         "0.816496580927726",
         "-0.44948974278317816"
        ],
        [
         "22",
         "0064S1",
         "Gap",
         "0.7692307692307693",
         "ndd",
         "child",
         "male",
         "1.0",
         "12.22",
         "-0.262364264467491",
         "0.8770580193070292",
         "-0.2803508501982759"
        ],
        [
         "23",
         "0064S1",
         "Overlap",
         "0.75",
         "ndd",
         "child",
         "male",
         "1.0",
         "12.22",
         "-0.2876820724517809",
         "0.8660254037844386",
         "-0.30940107675850304"
        ],
        [
         "24",
         "0068F1",
         "Baseline",
         "0.9166666666666666",
         "no_ndd",
         "adult",
         "male",
         "0.0",
         "44.12",
         "-0.08701137698962981",
         "0.9574271077563381",
         "-0.0889318714683741"
        ],
        [
         "25",
         "0068F1",
         "Gap",
         "1.0",
         "no_ndd",
         "adult",
         "male",
         "0.0",
         "44.12",
         "0.0",
         "1.0",
         "0.0"
        ],
        [
         "26",
         "0068F1",
         "Overlap",
         "0.9166666666666666",
         "no_ndd",
         "adult",
         "male",
         "0.0",
         "44.12",
         "-0.08701137698962981",
         "0.9574271077563381",
         "-0.0889318714683741"
        ],
        [
         "27",
         "0068M1",
         "Baseline",
         "1.0",
         "no_ndd",
         "adult",
         "female",
         "0.0",
         "33.29",
         "0.0",
         "1.0",
         "0.0"
        ],
        [
         "28",
         "0068M1",
         "Gap",
         "1.0",
         "no_ndd",
         "adult",
         "female",
         "0.0",
         "33.29",
         "0.0",
         "1.0",
         "0.0"
        ],
        [
         "29",
         "0068M1",
         "Overlap",
         "1.0",
         "no_ndd",
         "adult",
         "female",
         "0.0",
         "33.29",
         "0.0",
         "1.0",
         "0.0"
        ],
        [
         "30",
         "0068S1",
         "Baseline",
         "0.8",
         "ndd",
         "child",
         "male",
         "1.0",
         "7.75",
         "-0.2231435513142097",
         "0.8944271909999159",
         "-0.23606797749978967"
        ],
        [
         "31",
         "0068S1",
         "Gap",
         "1.0",
         "ndd",
         "child",
         "male",
         "1.0",
         "7.75",
         "0.0",
         "1.0",
         "0.0"
        ],
        [
         "32",
         "0068S1",
         "Overlap",
         "0.5",
         "ndd",
         "child",
         "male",
         "1.0",
         "7.75",
         "-0.6931471805599453",
         "0.7071067811865476",
         "-0.8284271247461901"
        ],
        [
         "33",
         "0068S3",
         "Baseline",
         "0.7857142857142857",
         "no_ndd",
         "child",
         "male",
         "0.0",
         "4.75",
         "-0.2411620568168881",
         "0.8864052604279183",
         "-0.25630429927106485"
        ],
        [
         "34",
         "0068S3",
         "Gap",
         "0.6923076923076923",
         "no_ndd",
         "child",
         "male",
         "0.0",
         "4.75",
         "-0.3677247801253174",
         "0.8320502943378437",
         "-0.40370085030932623"
        ],
        [
         "35",
         "0068S3",
         "Overlap",
         "0.47368421052631576",
         "no_ndd",
         "child",
         "male",
         "0.0",
         "4.75",
         "-0.7472144018302211",
         "0.6882472016116853",
         "-0.9059326290271158"
        ],
        [
         "36",
         "006Z",
         "Baseline",
         "1.0",
         "no_ndd",
         "adult",
         "male",
         "0.0",
         "33.64",
         "0.0",
         "1.0",
         "0.0"
        ],
        [
         "37",
         "006Z",
         "Gap",
         "1.0",
         "no_ndd",
         "adult",
         "male",
         "0.0",
         "33.64",
         "0.0",
         "1.0",
         "0.0"
        ],
        [
         "38",
         "006Z",
         "Overlap",
         "1.0",
         "no_ndd",
         "adult",
         "male",
         "0.0",
         "33.64",
         "0.0",
         "1.0",
         "0.0"
        ],
        [
         "39",
         "0083F1",
         "Baseline",
         "0.5",
         "ndd",
         "adult",
         "male",
         "1.0",
         "45.95",
         "-0.6931471805599453",
         "0.7071067811865476",
         "-0.8284271247461901"
        ],
        [
         "40",
         "0083F1",
         "Gap",
         "0.5",
         "ndd",
         "adult",
         "male",
         "1.0",
         "45.95",
         "-0.6931471805599453",
         "0.7071067811865476",
         "-0.8284271247461901"
        ],
        [
         "41",
         "0083F1",
         "Overlap",
         "0.5",
         "ndd",
         "adult",
         "male",
         "1.0",
         "45.95",
         "-0.6931471805599453",
         "0.7071067811865476",
         "-0.8284271247461901"
        ],
        [
         "42",
         "0083P",
         "Baseline",
         "1.0",
         "ndd",
         "child",
         "female",
         "1.0",
         "13.01",
         "0.0",
         "1.0",
         "0.0"
        ],
        [
         "43",
         "0083P",
         "Gap",
         "1.0",
         "ndd",
         "child",
         "female",
         "1.0",
         "13.01",
         "0.0",
         "1.0",
         "0.0"
        ],
        [
         "44",
         "0083P",
         "Overlap",
         "0.75",
         "ndd",
         "child",
         "female",
         "1.0",
         "13.01",
         "-0.2876820724517809",
         "0.8660254037844386",
         "-0.30940107675850304"
        ],
        [
         "45",
         "0086F1",
         "Baseline",
         "1.0",
         "no_ndd",
         "adult",
         "male",
         null,
         "47.71",
         "0.0",
         "1.0",
         "0.0"
        ],
        [
         "46",
         "0086F1",
         "Gap",
         "1.0",
         "no_ndd",
         "adult",
         "male",
         null,
         "47.71",
         "0.0",
         "1.0",
         "0.0"
        ],
        [
         "47",
         "0086F1",
         "Overlap",
         "1.0",
         "no_ndd",
         "adult",
         "male",
         null,
         "47.71",
         "0.0",
         "1.0",
         "0.0"
        ],
        [
         "48",
         "0086M1",
         "Baseline",
         "1.0",
         "no_ndd",
         "adult",
         "female",
         null,
         "49.7",
         "0.0",
         "1.0",
         "0.0"
        ],
        [
         "49",
         "0086M1",
         "Gap",
         "1.0",
         "no_ndd",
         "adult",
         "female",
         null,
         "49.7",
         "0.0",
         "1.0",
         "0.0"
        ]
       ],
       "shape": {
        "columns": 11,
        "rows": 627
       }
      },
      "text/html": [
       "<div>\n",
       "<style scoped>\n",
       "    .dataframe tbody tr th:only-of-type {\n",
       "        vertical-align: middle;\n",
       "    }\n",
       "\n",
       "    .dataframe tbody tr th {\n",
       "        vertical-align: top;\n",
       "    }\n",
       "\n",
       "    .dataframe thead th {\n",
       "        text-align: right;\n",
       "    }\n",
       "</style>\n",
       "<table border=\"1\" class=\"dataframe\">\n",
       "  <thead>\n",
       "    <tr style=\"text-align: right;\">\n",
       "      <th></th>\n",
       "      <th>subject</th>\n",
       "      <th>condition</th>\n",
       "      <th>perc_accuracy</th>\n",
       "      <th>ndd</th>\n",
       "      <th>age_group</th>\n",
       "      <th>sex</th>\n",
       "      <th>asd</th>\n",
       "      <th>eeg_age</th>\n",
       "      <th>log_rt</th>\n",
       "      <th>sqrt_rt</th>\n",
       "      <th>reciprocal_rt</th>\n",
       "    </tr>\n",
       "  </thead>\n",
       "  <tbody>\n",
       "    <tr>\n",
       "      <th>0</th>\n",
       "      <td>002Z</td>\n",
       "      <td>Baseline</td>\n",
       "      <td>1.000000</td>\n",
       "      <td>no_ndd</td>\n",
       "      <td>adult</td>\n",
       "      <td>female</td>\n",
       "      <td>0.0</td>\n",
       "      <td>45.88</td>\n",
       "      <td>0.000000</td>\n",
       "      <td>1.000000</td>\n",
       "      <td>0.000000</td>\n",
       "    </tr>\n",
       "    <tr>\n",
       "      <th>1</th>\n",
       "      <td>002Z</td>\n",
       "      <td>Gap</td>\n",
       "      <td>1.000000</td>\n",
       "      <td>no_ndd</td>\n",
       "      <td>adult</td>\n",
       "      <td>female</td>\n",
       "      <td>0.0</td>\n",
       "      <td>45.88</td>\n",
       "      <td>0.000000</td>\n",
       "      <td>1.000000</td>\n",
       "      <td>0.000000</td>\n",
       "    </tr>\n",
       "    <tr>\n",
       "      <th>2</th>\n",
       "      <td>002Z</td>\n",
       "      <td>Overlap</td>\n",
       "      <td>0.916667</td>\n",
       "      <td>no_ndd</td>\n",
       "      <td>adult</td>\n",
       "      <td>female</td>\n",
       "      <td>0.0</td>\n",
       "      <td>45.88</td>\n",
       "      <td>-0.087011</td>\n",
       "      <td>0.957427</td>\n",
       "      <td>-0.088932</td>\n",
       "    </tr>\n",
       "    <tr>\n",
       "      <th>3</th>\n",
       "      <td>0042P</td>\n",
       "      <td>Baseline</td>\n",
       "      <td>0.916667</td>\n",
       "      <td>ndd</td>\n",
       "      <td>adult</td>\n",
       "      <td>female</td>\n",
       "      <td>0.0</td>\n",
       "      <td>30.97</td>\n",
       "      <td>-0.087011</td>\n",
       "      <td>0.957427</td>\n",
       "      <td>-0.088932</td>\n",
       "    </tr>\n",
       "    <tr>\n",
       "      <th>4</th>\n",
       "      <td>0042P</td>\n",
       "      <td>Gap</td>\n",
       "      <td>1.000000</td>\n",
       "      <td>ndd</td>\n",
       "      <td>adult</td>\n",
       "      <td>female</td>\n",
       "      <td>0.0</td>\n",
       "      <td>30.97</td>\n",
       "      <td>0.000000</td>\n",
       "      <td>1.000000</td>\n",
       "      <td>0.000000</td>\n",
       "    </tr>\n",
       "    <tr>\n",
       "      <th>...</th>\n",
       "      <td>...</td>\n",
       "      <td>...</td>\n",
       "      <td>...</td>\n",
       "      <td>...</td>\n",
       "      <td>...</td>\n",
       "      <td>...</td>\n",
       "      <td>...</td>\n",
       "      <td>...</td>\n",
       "      <td>...</td>\n",
       "      <td>...</td>\n",
       "      <td>...</td>\n",
       "    </tr>\n",
       "    <tr>\n",
       "      <th>622</th>\n",
       "      <td>1256S1</td>\n",
       "      <td>Gap</td>\n",
       "      <td>1.000000</td>\n",
       "      <td>ndd</td>\n",
       "      <td>child</td>\n",
       "      <td>male</td>\n",
       "      <td>NaN</td>\n",
       "      <td>17.33</td>\n",
       "      <td>0.000000</td>\n",
       "      <td>1.000000</td>\n",
       "      <td>0.000000</td>\n",
       "    </tr>\n",
       "    <tr>\n",
       "      <th>623</th>\n",
       "      <td>1256S1</td>\n",
       "      <td>Overlap</td>\n",
       "      <td>1.000000</td>\n",
       "      <td>ndd</td>\n",
       "      <td>child</td>\n",
       "      <td>male</td>\n",
       "      <td>NaN</td>\n",
       "      <td>17.33</td>\n",
       "      <td>0.000000</td>\n",
       "      <td>1.000000</td>\n",
       "      <td>0.000000</td>\n",
       "    </tr>\n",
       "    <tr>\n",
       "      <th>624</th>\n",
       "      <td>1256S2</td>\n",
       "      <td>Baseline</td>\n",
       "      <td>0.923077</td>\n",
       "      <td>ndd</td>\n",
       "      <td>adult</td>\n",
       "      <td>female</td>\n",
       "      <td>1.0</td>\n",
       "      <td>18.32</td>\n",
       "      <td>-0.080043</td>\n",
       "      <td>0.960769</td>\n",
       "      <td>-0.081666</td>\n",
       "    </tr>\n",
       "    <tr>\n",
       "      <th>625</th>\n",
       "      <td>1256S2</td>\n",
       "      <td>Gap</td>\n",
       "      <td>0.923077</td>\n",
       "      <td>ndd</td>\n",
       "      <td>adult</td>\n",
       "      <td>female</td>\n",
       "      <td>1.0</td>\n",
       "      <td>18.32</td>\n",
       "      <td>-0.080043</td>\n",
       "      <td>0.960769</td>\n",
       "      <td>-0.081666</td>\n",
       "    </tr>\n",
       "    <tr>\n",
       "      <th>626</th>\n",
       "      <td>1256S2</td>\n",
       "      <td>Overlap</td>\n",
       "      <td>0.916667</td>\n",
       "      <td>ndd</td>\n",
       "      <td>adult</td>\n",
       "      <td>female</td>\n",
       "      <td>1.0</td>\n",
       "      <td>18.32</td>\n",
       "      <td>-0.087011</td>\n",
       "      <td>0.957427</td>\n",
       "      <td>-0.088932</td>\n",
       "    </tr>\n",
       "  </tbody>\n",
       "</table>\n",
       "<p>627 rows × 11 columns</p>\n",
       "</div>"
      ],
      "text/plain": [
       "    subject condition  perc_accuracy     ndd age_group     sex  asd  eeg_age  \\\n",
       "0      002Z  Baseline       1.000000  no_ndd     adult  female  0.0    45.88   \n",
       "1      002Z       Gap       1.000000  no_ndd     adult  female  0.0    45.88   \n",
       "2      002Z   Overlap       0.916667  no_ndd     adult  female  0.0    45.88   \n",
       "3     0042P  Baseline       0.916667     ndd     adult  female  0.0    30.97   \n",
       "4     0042P       Gap       1.000000     ndd     adult  female  0.0    30.97   \n",
       "..      ...       ...            ...     ...       ...     ...  ...      ...   \n",
       "622  1256S1       Gap       1.000000     ndd     child    male  NaN    17.33   \n",
       "623  1256S1   Overlap       1.000000     ndd     child    male  NaN    17.33   \n",
       "624  1256S2  Baseline       0.923077     ndd     adult  female  1.0    18.32   \n",
       "625  1256S2       Gap       0.923077     ndd     adult  female  1.0    18.32   \n",
       "626  1256S2   Overlap       0.916667     ndd     adult  female  1.0    18.32   \n",
       "\n",
       "       log_rt   sqrt_rt  reciprocal_rt  \n",
       "0    0.000000  1.000000       0.000000  \n",
       "1    0.000000  1.000000       0.000000  \n",
       "2   -0.087011  0.957427      -0.088932  \n",
       "3   -0.087011  0.957427      -0.088932  \n",
       "4    0.000000  1.000000       0.000000  \n",
       "..        ...       ...            ...  \n",
       "622  0.000000  1.000000       0.000000  \n",
       "623  0.000000  1.000000       0.000000  \n",
       "624 -0.080043  0.960769      -0.081666  \n",
       "625 -0.080043  0.960769      -0.081666  \n",
       "626 -0.087011  0.957427      -0.088932  \n",
       "\n",
       "[627 rows x 11 columns]"
      ]
     },
     "execution_count": 30,
     "metadata": {},
     "output_type": "execute_result"
    }
   ],
   "source": [
    "acc_per_sub_s"
   ]
  },
  {
   "cell_type": "markdown",
   "id": "bfc61658",
   "metadata": {},
   "source": [
    "### 10.2 Post-hoc Pairwise Comparisons"
   ]
  },
  {
   "cell_type": "code",
   "execution_count": 31,
   "id": "224b5e31",
   "metadata": {},
   "outputs": [
    {
     "name": "stdout",
     "output_type": "stream",
     "text": [
      "Post-hoc Conover-Friedman test results: *** significant differences between conditions\n",
      "Significant difference between Baseline and Gap: p=1.11e-05\n",
      "Significant difference between Baseline and Overlap: p=0.000424\n"
     ]
    }
   ],
   "source": [
    "# Pivot the data to wide format: rows=subject, columns=condition, values=perc_accuracy\n",
    "acc_wide = acc_per_sub_s.pivot(index=\"subject\", columns=\"condition\", values=\"perc_accuracy\")\n",
    "\n",
    "# Run posthoc Conover-Friedman test\n",
    "posthocs = sp.posthoc_conover_friedman(acc_wide, p_adjust=\"fdr_bh\")\n",
    "\n",
    "# Reset index for display\n",
    "posthocs = posthocs.reset_index().rename(columns={'index': 'Condition'})\n",
    "posthocs\n",
    "\n",
    "# Write notes\n",
    "doc.add_paragraph(\"Post-hoc Conover-Friedman test results\", style='List Bullet')\n",
    "# Add table to the document\n",
    "doc = df_to_table(doc, posthocs)\n",
    "\n",
    "# Add bullet point to the document\n",
    "if posthocs.iloc[:, 1:].isnull().values.any():\n",
    "    doc.add_paragraph(\"Post-hoc Conover-Friedman test results: no significant differences between conditions\", style='List Bullet')\n",
    "    print(\"Post-hoc Conover-Friedman test results: no significant differences between conditions\")\n",
    "else:\n",
    "    doc.add_paragraph(\"Post-hoc Conover-Friedman test results: significant differences between conditions\", style='List Bullet')\n",
    "    print(\"Post-hoc Conover-Friedman test results: *** significant differences between conditions\")\n",
    "\n",
    "# Add which contrasts are significant\n",
    "conditions = posthocs['Condition'].tolist()\n",
    "for i in range(len(conditions)):\n",
    "    for j in range(i+1, len(conditions)):\n",
    "        pval = posthocs.iloc[i, j+1]  # +1 because first column is 'Condition'\n",
    "        if pval < 0.05:\n",
    "            doc.add_paragraph(f\"Significant difference between {conditions[i]} and {conditions[j]}: p={pval:.3g}\", style='List Bullet')\n",
    "            print(f\"Significant difference between {conditions[i]} and {conditions[j]}: p={pval:.3g}\")"
   ]
  },
  {
   "cell_type": "markdown",
   "id": "4da7146d",
   "metadata": {},
   "source": [
    "### 10.3 Group-Specific Analyses\n",
    "#### 10.3.1 NDD Group Analysis"
   ]
  },
  {
   "cell_type": "code",
   "execution_count": 32,
   "id": "56f95698",
   "metadata": {},
   "outputs": [
    {
     "name": "stdout",
     "output_type": "stream",
     "text": [
      "Friedmans for NDD\n"
     ]
    },
    {
     "data": {
      "application/vnd.microsoft.datawrangler.viewer.v0+json": {
       "columns": [
        {
         "name": "index",
         "rawType": "object",
         "type": "string"
        },
        {
         "name": "Source",
         "rawType": "object",
         "type": "string"
        },
        {
         "name": "W",
         "rawType": "float64",
         "type": "float"
        },
        {
         "name": "ddof1",
         "rawType": "int64",
         "type": "integer"
        },
        {
         "name": "Q",
         "rawType": "float64",
         "type": "float"
        },
        {
         "name": "p-unc",
         "rawType": "float64",
         "type": "float"
        }
       ],
       "ref": "fc3bd0bb-ce92-43c6-92f8-23e4c5389c37",
       "rows": [
        [
         "Friedman",
         "condition",
         "0.049",
         "2",
         "9.919",
         "0.007"
        ]
       ],
       "shape": {
        "columns": 5,
        "rows": 1
       }
      },
      "text/html": [
       "<div>\n",
       "<style scoped>\n",
       "    .dataframe tbody tr th:only-of-type {\n",
       "        vertical-align: middle;\n",
       "    }\n",
       "\n",
       "    .dataframe tbody tr th {\n",
       "        vertical-align: top;\n",
       "    }\n",
       "\n",
       "    .dataframe thead th {\n",
       "        text-align: right;\n",
       "    }\n",
       "</style>\n",
       "<table border=\"1\" class=\"dataframe\">\n",
       "  <thead>\n",
       "    <tr style=\"text-align: right;\">\n",
       "      <th></th>\n",
       "      <th>Source</th>\n",
       "      <th>W</th>\n",
       "      <th>ddof1</th>\n",
       "      <th>Q</th>\n",
       "      <th>p-unc</th>\n",
       "    </tr>\n",
       "  </thead>\n",
       "  <tbody>\n",
       "    <tr>\n",
       "      <th>Friedman</th>\n",
       "      <td>condition</td>\n",
       "      <td>0.049</td>\n",
       "      <td>2</td>\n",
       "      <td>9.919</td>\n",
       "      <td>0.007</td>\n",
       "    </tr>\n",
       "  </tbody>\n",
       "</table>\n",
       "</div>"
      ],
      "text/plain": [
       "             Source      W  ddof1      Q  p-unc\n",
       "Friedman  condition  0.049      2  9.919  0.007"
      ]
     },
     "execution_count": 32,
     "metadata": {},
     "output_type": "execute_result"
    }
   ],
   "source": [
    "# Friedman for each group and condition\n",
    "\n",
    "#NDD\n",
    "print (\"Friedmans for NDD\")\n",
    "pg.friedman(data=acc_per_sub_s.loc[acc_per_sub_s.ndd==\"ndd\"] , dv=\"perc_accuracy\", within=\"condition\", subject=\"subject\").round(3)\n"
   ]
  },
  {
   "cell_type": "markdown",
   "id": "bca492c6",
   "metadata": {},
   "source": [
    "#### 10.3.2 Control Group Analysis"
   ]
  },
  {
   "cell_type": "code",
   "execution_count": 33,
   "id": "eeefd678",
   "metadata": {},
   "outputs": [
    {
     "name": "stdout",
     "output_type": "stream",
     "text": [
      "Friedmans for Control\n"
     ]
    },
    {
     "data": {
      "application/vnd.microsoft.datawrangler.viewer.v0+json": {
       "columns": [
        {
         "name": "index",
         "rawType": "object",
         "type": "string"
        },
        {
         "name": "Source",
         "rawType": "object",
         "type": "string"
        },
        {
         "name": "W",
         "rawType": "float64",
         "type": "float"
        },
        {
         "name": "ddof1",
         "rawType": "int64",
         "type": "integer"
        },
        {
         "name": "Q",
         "rawType": "float64",
         "type": "float"
        },
        {
         "name": "p-unc",
         "rawType": "float64",
         "type": "float"
        }
       ],
       "ref": "5a1e05ae-fb2b-44ea-8355-989a34c51de2",
       "rows": [
        [
         "Friedman",
         "condition",
         "0.064",
         "2",
         "13.599",
         "0.001"
        ]
       ],
       "shape": {
        "columns": 5,
        "rows": 1
       }
      },
      "text/html": [
       "<div>\n",
       "<style scoped>\n",
       "    .dataframe tbody tr th:only-of-type {\n",
       "        vertical-align: middle;\n",
       "    }\n",
       "\n",
       "    .dataframe tbody tr th {\n",
       "        vertical-align: top;\n",
       "    }\n",
       "\n",
       "    .dataframe thead th {\n",
       "        text-align: right;\n",
       "    }\n",
       "</style>\n",
       "<table border=\"1\" class=\"dataframe\">\n",
       "  <thead>\n",
       "    <tr style=\"text-align: right;\">\n",
       "      <th></th>\n",
       "      <th>Source</th>\n",
       "      <th>W</th>\n",
       "      <th>ddof1</th>\n",
       "      <th>Q</th>\n",
       "      <th>p-unc</th>\n",
       "    </tr>\n",
       "  </thead>\n",
       "  <tbody>\n",
       "    <tr>\n",
       "      <th>Friedman</th>\n",
       "      <td>condition</td>\n",
       "      <td>0.064</td>\n",
       "      <td>2</td>\n",
       "      <td>13.599</td>\n",
       "      <td>0.001</td>\n",
       "    </tr>\n",
       "  </tbody>\n",
       "</table>\n",
       "</div>"
      ],
      "text/plain": [
       "             Source      W  ddof1       Q  p-unc\n",
       "Friedman  condition  0.064      2  13.599  0.001"
      ]
     },
     "execution_count": 33,
     "metadata": {},
     "output_type": "execute_result"
    }
   ],
   "source": [
    "#Control\n",
    "print (\"Friedmans for Control\")\n",
    "pg.friedman(data=acc_per_sub_s.loc[acc_per_sub_s.ndd==\"no_ndd\"] , dv=\"perc_accuracy\", within=\"condition\", subject=\"subject\").round(3)\n"
   ]
  },
  {
   "cell_type": "markdown",
   "id": "8dc8c923",
   "metadata": {},
   "source": [
    "### 10.4 Between-Group Comparisons\n"
   ]
  },
  {
   "cell_type": "code",
   "execution_count": 34,
   "id": "28441c5f",
   "metadata": {},
   "outputs": [],
   "source": [
    "# Add resuls to the document\n",
    "\n",
    "# Add bullet points\n",
    "doc.add_paragraph('Friedman test NDD group', style='List Bullet')\n",
    "\n",
    "# Add table to the document\n",
    "doc = df_to_table(doc, pg.friedman(data=acc_per_sub_s.loc[acc_per_sub_s.ndd==\"ndd\"] , dv=\"perc_accuracy\", within=\"condition\", subject=\"subject\").round(3))\n",
    "\n",
    "doc.add_paragraph('Friedman test Control group', style='List Bullet')\n",
    "doc = df_to_table(doc, pg.friedman(data=acc_per_sub_s.loc[acc_per_sub_s.ndd==\"no_ndd\"] , dv=\"perc_accuracy\", within=\"condition\", subject=\"subject\").round(3))\n"
   ]
  },
  {
   "cell_type": "code",
   "execution_count": 35,
   "id": "5cd483a5",
   "metadata": {},
   "outputs": [
    {
     "name": "stderr",
     "output_type": "stream",
     "text": [
      "c:\\Users\\gabot\\OneDrive - McGill University\\Desktop\\Github_repos\\q1k_neurosubs\\q1k_et_neurosubs_env\\lib\\site-packages\\pingouin\\pairwise.py:28: UserWarning: pairwise_ttests is deprecated, use pairwise_tests instead.\n",
      "  warnings.warn(\"pairwise_ttests is deprecated, use pairwise_tests instead.\", UserWarning)\n"
     ]
    },
    {
     "data": {
      "application/vnd.microsoft.datawrangler.viewer.v0+json": {
       "columns": [
        {
         "name": "index",
         "rawType": "int64",
         "type": "integer"
        },
        {
         "name": "Contrast",
         "rawType": "object",
         "type": "string"
        },
        {
         "name": "condition",
         "rawType": "object",
         "type": "string"
        },
        {
         "name": "A",
         "rawType": "object",
         "type": "string"
        },
        {
         "name": "B",
         "rawType": "object",
         "type": "string"
        },
        {
         "name": "Paired",
         "rawType": "object",
         "type": "unknown"
        },
        {
         "name": "Parametric",
         "rawType": "object",
         "type": "unknown"
        },
        {
         "name": "U-val",
         "rawType": "float64",
         "type": "float"
        },
        {
         "name": "W-val",
         "rawType": "float64",
         "type": "float"
        },
        {
         "name": "alternative",
         "rawType": "object",
         "type": "string"
        },
        {
         "name": "p-unc",
         "rawType": "float64",
         "type": "float"
        },
        {
         "name": "p-corr",
         "rawType": "float64",
         "type": "float"
        },
        {
         "name": "p-adjust",
         "rawType": "object",
         "type": "unknown"
        },
        {
         "name": "hedges",
         "rawType": "float64",
         "type": "float"
        }
       ],
       "ref": "9d1e42ac-9261-4f56-aeef-9dcbfb2d9cab",
       "rows": [
        [
         "0",
         "condition",
         "-",
         "Baseline",
         "Gap",
         "True",
         "False",
         null,
         "3353.5",
         "two-sided",
         "0.0",
         "0.0",
         "fdr_bh",
         "0.214"
        ],
        [
         "1",
         "condition",
         "-",
         "Baseline",
         "Overlap",
         "True",
         "False",
         null,
         "2079.5",
         "two-sided",
         "0.0",
         "0.001",
         "fdr_bh",
         "0.215"
        ],
        [
         "2",
         "condition",
         "-",
         "Gap",
         "Overlap",
         "True",
         "False",
         null,
         "5136.0",
         "two-sided",
         "0.867",
         "0.867",
         "fdr_bh",
         "0.021"
        ],
        [
         "3",
         "ndd",
         "-",
         "ndd",
         "no_ndd",
         "False",
         "False",
         "3752.0",
         null,
         "two-sided",
         "0.0",
         null,
         null,
         "-0.536"
        ],
        [
         "4",
         "condition * ndd",
         "Baseline",
         "ndd",
         "no_ndd",
         "False",
         "False",
         "3925.0",
         null,
         "two-sided",
         "0.0",
         "0.0",
         "fdr_bh",
         "-0.467"
        ],
        [
         "5",
         "condition * ndd",
         "Gap",
         "ndd",
         "no_ndd",
         "False",
         "False",
         "4175.0",
         null,
         "two-sided",
         "0.002",
         "0.002",
         "fdr_bh",
         "-0.441"
        ],
        [
         "6",
         "condition * ndd",
         "Overlap",
         "ndd",
         "no_ndd",
         "False",
         "False",
         "4164.5",
         null,
         "two-sided",
         "0.002",
         "0.002",
         "fdr_bh",
         "-0.484"
        ]
       ],
       "shape": {
        "columns": 13,
        "rows": 7
       }
      },
      "text/html": [
       "<div>\n",
       "<style scoped>\n",
       "    .dataframe tbody tr th:only-of-type {\n",
       "        vertical-align: middle;\n",
       "    }\n",
       "\n",
       "    .dataframe tbody tr th {\n",
       "        vertical-align: top;\n",
       "    }\n",
       "\n",
       "    .dataframe thead th {\n",
       "        text-align: right;\n",
       "    }\n",
       "</style>\n",
       "<table border=\"1\" class=\"dataframe\">\n",
       "  <thead>\n",
       "    <tr style=\"text-align: right;\">\n",
       "      <th></th>\n",
       "      <th>Contrast</th>\n",
       "      <th>condition</th>\n",
       "      <th>A</th>\n",
       "      <th>B</th>\n",
       "      <th>Paired</th>\n",
       "      <th>Parametric</th>\n",
       "      <th>U-val</th>\n",
       "      <th>W-val</th>\n",
       "      <th>alternative</th>\n",
       "      <th>p-unc</th>\n",
       "      <th>p-corr</th>\n",
       "      <th>p-adjust</th>\n",
       "      <th>hedges</th>\n",
       "    </tr>\n",
       "  </thead>\n",
       "  <tbody>\n",
       "    <tr>\n",
       "      <th>0</th>\n",
       "      <td>condition</td>\n",
       "      <td>-</td>\n",
       "      <td>Baseline</td>\n",
       "      <td>Gap</td>\n",
       "      <td>True</td>\n",
       "      <td>False</td>\n",
       "      <td>NaN</td>\n",
       "      <td>3353.5</td>\n",
       "      <td>two-sided</td>\n",
       "      <td>0.000</td>\n",
       "      <td>0.000</td>\n",
       "      <td>fdr_bh</td>\n",
       "      <td>0.214</td>\n",
       "    </tr>\n",
       "    <tr>\n",
       "      <th>1</th>\n",
       "      <td>condition</td>\n",
       "      <td>-</td>\n",
       "      <td>Baseline</td>\n",
       "      <td>Overlap</td>\n",
       "      <td>True</td>\n",
       "      <td>False</td>\n",
       "      <td>NaN</td>\n",
       "      <td>2079.5</td>\n",
       "      <td>two-sided</td>\n",
       "      <td>0.000</td>\n",
       "      <td>0.001</td>\n",
       "      <td>fdr_bh</td>\n",
       "      <td>0.215</td>\n",
       "    </tr>\n",
       "    <tr>\n",
       "      <th>2</th>\n",
       "      <td>condition</td>\n",
       "      <td>-</td>\n",
       "      <td>Gap</td>\n",
       "      <td>Overlap</td>\n",
       "      <td>True</td>\n",
       "      <td>False</td>\n",
       "      <td>NaN</td>\n",
       "      <td>5136.0</td>\n",
       "      <td>two-sided</td>\n",
       "      <td>0.867</td>\n",
       "      <td>0.867</td>\n",
       "      <td>fdr_bh</td>\n",
       "      <td>0.021</td>\n",
       "    </tr>\n",
       "    <tr>\n",
       "      <th>3</th>\n",
       "      <td>ndd</td>\n",
       "      <td>-</td>\n",
       "      <td>ndd</td>\n",
       "      <td>no_ndd</td>\n",
       "      <td>False</td>\n",
       "      <td>False</td>\n",
       "      <td>3752.0</td>\n",
       "      <td>NaN</td>\n",
       "      <td>two-sided</td>\n",
       "      <td>0.000</td>\n",
       "      <td>NaN</td>\n",
       "      <td>NaN</td>\n",
       "      <td>-0.536</td>\n",
       "    </tr>\n",
       "    <tr>\n",
       "      <th>4</th>\n",
       "      <td>condition * ndd</td>\n",
       "      <td>Baseline</td>\n",
       "      <td>ndd</td>\n",
       "      <td>no_ndd</td>\n",
       "      <td>False</td>\n",
       "      <td>False</td>\n",
       "      <td>3925.0</td>\n",
       "      <td>NaN</td>\n",
       "      <td>two-sided</td>\n",
       "      <td>0.000</td>\n",
       "      <td>0.000</td>\n",
       "      <td>fdr_bh</td>\n",
       "      <td>-0.467</td>\n",
       "    </tr>\n",
       "    <tr>\n",
       "      <th>5</th>\n",
       "      <td>condition * ndd</td>\n",
       "      <td>Gap</td>\n",
       "      <td>ndd</td>\n",
       "      <td>no_ndd</td>\n",
       "      <td>False</td>\n",
       "      <td>False</td>\n",
       "      <td>4175.0</td>\n",
       "      <td>NaN</td>\n",
       "      <td>two-sided</td>\n",
       "      <td>0.002</td>\n",
       "      <td>0.002</td>\n",
       "      <td>fdr_bh</td>\n",
       "      <td>-0.441</td>\n",
       "    </tr>\n",
       "    <tr>\n",
       "      <th>6</th>\n",
       "      <td>condition * ndd</td>\n",
       "      <td>Overlap</td>\n",
       "      <td>ndd</td>\n",
       "      <td>no_ndd</td>\n",
       "      <td>False</td>\n",
       "      <td>False</td>\n",
       "      <td>4164.5</td>\n",
       "      <td>NaN</td>\n",
       "      <td>two-sided</td>\n",
       "      <td>0.002</td>\n",
       "      <td>0.002</td>\n",
       "      <td>fdr_bh</td>\n",
       "      <td>-0.484</td>\n",
       "    </tr>\n",
       "  </tbody>\n",
       "</table>\n",
       "</div>"
      ],
      "text/plain": [
       "          Contrast condition         A        B Paired Parametric   U-val  \\\n",
       "0        condition         -  Baseline      Gap   True      False     NaN   \n",
       "1        condition         -  Baseline  Overlap   True      False     NaN   \n",
       "2        condition         -       Gap  Overlap   True      False     NaN   \n",
       "3              ndd         -       ndd   no_ndd  False      False  3752.0   \n",
       "4  condition * ndd  Baseline       ndd   no_ndd  False      False  3925.0   \n",
       "5  condition * ndd       Gap       ndd   no_ndd  False      False  4175.0   \n",
       "6  condition * ndd   Overlap       ndd   no_ndd  False      False  4164.5   \n",
       "\n",
       "    W-val alternative  p-unc  p-corr p-adjust  hedges  \n",
       "0  3353.5   two-sided  0.000   0.000   fdr_bh   0.214  \n",
       "1  2079.5   two-sided  0.000   0.001   fdr_bh   0.215  \n",
       "2  5136.0   two-sided  0.867   0.867   fdr_bh   0.021  \n",
       "3     NaN   two-sided  0.000     NaN      NaN  -0.536  \n",
       "4     NaN   two-sided  0.000   0.000   fdr_bh  -0.467  \n",
       "5     NaN   two-sided  0.002   0.002   fdr_bh  -0.441  \n",
       "6     NaN   two-sided  0.002   0.002   fdr_bh  -0.484  "
      ]
     },
     "execution_count": 35,
     "metadata": {},
     "output_type": "execute_result"
    }
   ],
   "source": [
    "# Mann Whitney U test for each differeences between groups for each condition \n",
    "pg.pairwise_ttests(data=acc_per_sub_s, dv='perc_accuracy', between='ndd', within='condition', subject='subject', parametric=False, padjust='fdr_bh').round(3)"
   ]
  },
  {
   "cell_type": "markdown",
   "id": "528d8fe3-eaa1-4370-93b7-6be5ecdb2ded",
   "metadata": {},
   "source": [
    "## 11. Data Visualization\n",
    "### 11.1 Main Accuracy Plot"
   ]
  },
  {
   "cell_type": "code",
   "execution_count": 36,
   "id": "4ad26669-ef9a-46b0-89e3-b17bfecf2048",
   "metadata": {},
   "outputs": [
    {
     "data": {
      "image/png": "[encoded data removed]",
      "text/plain": [
       "<Figure size 640x480 with 1 Axes>"
      ]
     },
     "metadata": {},
     "output_type": "display_data"
    },
    {
     "data": {
      "text/plain": [
       "<docx.shape.InlineShape at 0x1731d7813c0>"
      ]
     },
     "execution_count": 36,
     "metadata": {},
     "output_type": "execute_result"
    }
   ],
   "source": [
    "sns.boxplot(x=\"condition\", y=\"perc_accuracy\", data=acc_per_sub_s, palette=\"Paired\", hue=\"ndd\", \n",
    "        ).set_title('Gap overlap:  Accuracy',fontsize=18)\n",
    "\n",
    "plt.grid(False)\n",
    "plt.ylabel('% valid trials',fontsize=11)\n",
    "plt.xlabel('Condition',fontsize=11)\n",
    "plt.legend(loc='lower left')\n",
    "\n",
    "#plt.ylim([0.7,1.2])\n",
    "\n",
    "# Save the figure\n",
    "plt.savefig(f\"C:/Users/gabot/OneDrive - McGill University/Desktop/github_repos/q1k_neurosubs/figures/accuracy/accuracy_conditions.png\")\n",
    "plt.savefig(f\"C:/Users/gabot/OneDrive - McGill University/Desktop/github_repos/q1k_neurosubs/figures/accuracy/archive/accuracy_conditions_{date}.png\")\n",
    "\n",
    "\n",
    "plt.show()\n",
    "\n",
    "# Add the figure to the document\n",
    "doc.add_heading('Accuracy figure ', level=4)\n",
    "\n",
    "doc.add_picture(f\"C:/Users/gabot/OneDrive - McGill University/Desktop/github_repos/q1k_neurosubs/figures/accuracy/accuracy_conditions.png\", width=docx.shared.Inches(6), height=docx.shared.Inches(4))\n",
    "\n"
   ]
  },
  {
   "cell_type": "markdown",
   "id": "2ef0c405",
   "metadata": {},
   "source": [
    "### 11.2 Exploratory Plots by Demographics"
   ]
  },
  {
   "cell_type": "code",
   "execution_count": 52,
   "id": "bbfd92a8",
   "metadata": {},
   "outputs": [
    {
     "name": "stderr",
     "output_type": "stream",
     "text": [
      "C:\\Users\\gabot\\AppData\\Local\\Temp\\ipykernel_7816\\308830699.py:5: FutureWarning: \n",
      "\n",
      "The `ci` parameter is deprecated. Use `errorbar=('ci', 95)` for the same effect.\n",
      "\n",
      "  sns.barplot(x=\"condition\", y=\"perc_accuracy\", data=acc_per_sub_s,order=order,estimator=np.mean, ci=95, capsize=.2, hue = \"ndd\", ax=ax[0],\n",
      "C:\\Users\\gabot\\AppData\\Local\\Temp\\ipykernel_7816\\308830699.py:8: FutureWarning: \n",
      "\n",
      "The `ci` parameter is deprecated. Use `errorbar=('ci', 95)` for the same effect.\n",
      "\n",
      "  sns.barplot(x=\"condition\", y=\"perc_accuracy\", data=acc_per_sub_s,order=order,estimator=np.mean, ci=95, capsize=.2, hue =\"age_group\", ax=ax[1],\n",
      "C:\\Users\\gabot\\AppData\\Local\\Temp\\ipykernel_7816\\308830699.py:11: FutureWarning: \n",
      "\n",
      "The `ci` parameter is deprecated. Use `errorbar=('ci', 95)` for the same effect.\n",
      "\n",
      "  sns.barplot(x=\"condition\", y=\"perc_accuracy\", data=acc_per_sub_s,order=order,estimator=np.mean, ci=95, capsize=.2, hue= \"sex\", ax=ax[2],\n",
      "C:\\Users\\gabot\\AppData\\Local\\Temp\\ipykernel_7816\\308830699.py:15: FutureWarning: \n",
      "\n",
      "The `ci` parameter is deprecated. Use `errorbar=('ci', 95)` for the same effect.\n",
      "\n",
      "  sns.barplot(x=\"condition\", y=\"perc_accuracy\", data=acc_per_sub_s,order=order,estimator=np.mean, ci=95, capsize=.2, hue = \"asd\", ax=ax[3],\n"
     ]
    },
    {
     "data": {
      "image/png": "[encoded data removed]",
      "text/plain": [
       "<Figure size 1800x600 with 4 Axes>"
      ]
     },
     "metadata": {},
     "output_type": "display_data"
    },
    {
     "data": {
      "text/plain": [
       "<docx.shape.InlineShape at 0x1731f40a1d0>"
      ]
     },
     "execution_count": 52,
     "metadata": {},
     "output_type": "execute_result"
    }
   ],
   "source": [
    "fig, ax = plt.subplots(1, 4, figsize=(18, 6), sharey=True)\n",
    "sns.set_theme(style=\"white\")\n",
    "\n",
    "order = [\"Gap\", \"Baseline\",\"Overlap\"]\n",
    "sns.barplot(x=\"condition\", y=\"perc_accuracy\", data=acc_per_sub_s,order=order,estimator=np.mean, ci=95, capsize=.2, hue = \"ndd\", ax=ax[0],\n",
    "            palette=\"viridis\").set_title(\"\",fontsize=18)\n",
    "\n",
    "sns.barplot(x=\"condition\", y=\"perc_accuracy\", data=acc_per_sub_s,order=order,estimator=np.mean, ci=95, capsize=.2, hue =\"age_group\", ax=ax[1],\n",
    "            palette=\"coolwarm\").set_title(\"\",fontsize=18)\n",
    "\n",
    "sns.barplot(x=\"condition\", y=\"perc_accuracy\", data=acc_per_sub_s,order=order,estimator=np.mean, ci=95, capsize=.2, hue= \"sex\", ax=ax[2],\n",
    "            palette=\"Set2\").set_title(\"\",fontsize=18)\n",
    "\n",
    "# Test ASD  vs Control\n",
    "sns.barplot(x=\"condition\", y=\"perc_accuracy\", data=acc_per_sub_s,order=order,estimator=np.mean, ci=95, capsize=.2, hue = \"asd\", ax=ax[3],\n",
    "            palette=\"Set1\",\n",
    "            ).set_title(\"\",fontsize=18)\n",
    "\n",
    "\n",
    "\n",
    "# Add titles to the plots\n",
    "ax[0].set_title('Accuracy by NDD',fontsize=18)\n",
    "ax[1].set_title('Accuracy by Age Group',fontsize=18)\n",
    "ax[2].set_title('Accuracy by sex',fontsize=18)\n",
    "ax[3].set_title('Accuracy by ASD',fontsize=18)\n",
    "\n",
    "# Add labels to the plots\n",
    "ax[0].set_ylabel('% valid trials',fontsize=11)\n",
    "ax[1].set_ylabel('% valid trials',fontsize=11)\n",
    "ax[2].set_ylabel('% valid trials',fontsize=11)\n",
    "ax[3].set_ylabel('% valid trials',fontsize=11)\n",
    "\n",
    "ax[0].set_xlabel('Condition',fontsize=11)\n",
    "ax[1].set_xlabel('Condition',fontsize=11)\n",
    "ax[2].set_xlabel('Condition',fontsize=11)\n",
    "ax[3].set_xlabel('Condition',fontsize=11)\n",
    "\n",
    "# Save and add to doc \n",
    "plt.savefig(f\"C:/Users/gabot/OneDrive - McGill University/Desktop/github_repos/q1k_neurosubs/figures/accuracy/accuracy_conditions_grouped.png\")\n",
    "\n",
    "plt.show()\n",
    "\n",
    "# Add the figure to the document\n",
    "doc.add_heading('Accuracy Figure by Demographics', level=4)\n",
    "\n",
    "doc.add_picture(f\"C:/Users/gabot/OneDrive - McGill University/Desktop/github_repos/q1k_neurosubs/figures/accuracy/accuracy_conditions_grouped.png\", width=docx.shared.Inches(6), height=docx.shared.Inches(4))"
   ]
  },
  {
   "cell_type": "code",
   "execution_count": 60,
   "id": "e1bdb03b",
   "metadata": {},
   "outputs": [
    {
     "data": {
      "image/png": "[encoded data removed]",
      "text/plain": [
       "<Figure size 1400x600 with 2 Axes>"
      ]
     },
     "metadata": {},
     "output_type": "display_data"
    }
   ],
   "source": [
    "### 11.3 Specialized Plots for Ceiling Effects\n",
    "\n",
    "fig, axes = plt.subplots(1, 2, figsize=(14, 6))\n",
    "\n",
    "# Violin plot with individual points\n",
    "sns.violinplot(data=acc_per_sub_s, x=\"condition\", y=\"perc_accuracy\", hue=\"asd\", \n",
    "               ax=axes[0], palette=\"Set2\", inner=None)\n",
    "sns.stripplot(data=acc_per_sub_s, x=\"condition\", y=\"perc_accuracy\", hue=\"asd\", \n",
    "              ax=axes[0], dodge=True, alpha=0.6, size=3)\n",
    "\n",
    "axes[0].set_title('Accuracy Distribution by Condition and ASD')\n",
    "axes[0].set_ylabel('Proportion Accurate')\n",
    "axes[0].legend(title='Group')\n",
    "\n",
    "# Histogram showing ceiling effects\n",
    "sns.histplot(data=acc_per_sub_s, x=\"perc_accuracy\", hue=\"asd\", \n",
    "             bins=20, alpha=0.7, ax=axes[1])\n",
    "axes[1].axvline(x=0.9, color='red', linestyle='--', alpha=0.7, label='90% threshold')\n",
    "axes[1].set_title('Distribution of Accuracy Scores')\n",
    "axes[1].set_xlabel('Proportion Accurate')\n",
    "axes[1].legend()\n",
    "\n",
    "plt.tight_layout()\n",
    "plt.show()"
   ]
  },
  {
   "cell_type": "code",
   "execution_count": 61,
   "id": "ea46148d",
   "metadata": {},
   "outputs": [
    {
     "data": {
      "image/png": "[encoded data removed]",
      "text/plain": [
       "<Figure size 1800x500 with 3 Axes>"
      ]
     },
     "metadata": {},
     "output_type": "display_data"
    }
   ],
   "source": [
    "# Cumulative distribution functions to show ceiling effects\n",
    "fig, axes = plt.subplots(1, 3, figsize=(18, 5))\n",
    "\n",
    "conditions = acc_per_sub_s['condition'].unique()\n",
    "\n",
    "for i, condition in enumerate(conditions):\n",
    "    data_subset = acc_per_sub_s[acc_per_sub_s['condition'] == condition]\n",
    "    \n",
    "    for group in [1,0]:\n",
    "        group_data = data_subset[data_subset['asd'] == group]['perc_accuracy']\n",
    "        if len(group_data) > 0:\n",
    "            # Calculate ECDF\n",
    "            x = np.sort(group_data)\n",
    "            y = np.arange(1, len(x) + 1) / len(x)\n",
    "            axes[i].plot(x, y, label=f'{group}', linewidth=2)\n",
    "    \n",
    "    axes[i].axvline(x=0.9, color='red', linestyle='--', alpha=0.7)\n",
    "    axes[i].set_title(f'{condition} Condition')\n",
    "    axes[i].set_xlabel('Accuracy')\n",
    "    axes[i].set_ylabel('Cumulative Probability')\n",
    "    axes[i].legend()\n",
    "    axes[i].grid(True, alpha=0.3)\n",
    "\n",
    "plt.suptitle('Cumulative Distribution Functions by Condition')\n",
    "plt.tight_layout()\n",
    "plt.show()"
   ]
  },
  {
   "cell_type": "markdown",
   "id": "2632893d",
   "metadata": {},
   "source": [
    "## 12. Descriptive Statistics by Groups\n",
    "### 12.1 By Neurodevelopmental Status"
   ]
  },
  {
   "cell_type": "code",
   "execution_count": 51,
   "id": "81f0b976",
   "metadata": {
    "vscode": {
     "languageId": "ruby"
    }
   },
   "outputs": [
    {
     "name": "stdout",
     "output_type": "stream",
     "text": [
      "Descriptive statistics by NDD group:\n"
     ]
    },
    {
     "data": {
      "application/vnd.microsoft.datawrangler.viewer.v0+json": {
       "columns": [
        {
         "name": "index",
         "rawType": "int64",
         "type": "integer"
        },
        {
         "name": "condition",
         "rawType": "object",
         "type": "string"
        },
        {
         "name": "ndd",
         "rawType": "object",
         "type": "string"
        },
        {
         "name": "n",
         "rawType": "int64",
         "type": "integer"
        },
        {
         "name": "mean",
         "rawType": "float64",
         "type": "float"
        },
        {
         "name": "sd",
         "rawType": "float64",
         "type": "float"
        },
        {
         "name": "min",
         "rawType": "float64",
         "type": "float"
        },
        {
         "name": "max",
         "rawType": "float64",
         "type": "float"
        }
       ],
       "ref": "601f1dd4-fd7f-4eaa-8cd6-ec014830c015",
       "rows": [
        [
         "0",
         "Baseline",
         "ndd",
         "102",
         "0.876",
         "0.146",
         "0.35",
         "1.0"
        ],
        [
         "1",
         "Baseline",
         "no_ndd",
         "107",
         "0.938",
         "0.119",
         "0.333",
         "1.0"
        ],
        [
         "2",
         "Gap",
         "ndd",
         "102",
         "0.849",
         "0.146",
         "0.368",
         "1.0"
        ],
        [
         "3",
         "Gap",
         "no_ndd",
         "107",
         "0.907",
         "0.117",
         "0.5",
         "1.0"
        ],
        [
         "4",
         "Overlap",
         "ndd",
         "102",
         "0.837",
         "0.181",
         "0.368",
         "1.0"
        ],
        [
         "5",
         "Overlap",
         "no_ndd",
         "107",
         "0.913",
         "0.131",
         "0.444",
         "1.0"
        ]
       ],
       "shape": {
        "columns": 7,
        "rows": 6
       }
      },
      "text/html": [
       "<div>\n",
       "<style scoped>\n",
       "    .dataframe tbody tr th:only-of-type {\n",
       "        vertical-align: middle;\n",
       "    }\n",
       "\n",
       "    .dataframe tbody tr th {\n",
       "        vertical-align: top;\n",
       "    }\n",
       "\n",
       "    .dataframe thead th {\n",
       "        text-align: right;\n",
       "    }\n",
       "</style>\n",
       "<table border=\"1\" class=\"dataframe\">\n",
       "  <thead>\n",
       "    <tr style=\"text-align: right;\">\n",
       "      <th></th>\n",
       "      <th>condition</th>\n",
       "      <th>ndd</th>\n",
       "      <th>n</th>\n",
       "      <th>mean</th>\n",
       "      <th>sd</th>\n",
       "      <th>min</th>\n",
       "      <th>max</th>\n",
       "    </tr>\n",
       "  </thead>\n",
       "  <tbody>\n",
       "    <tr>\n",
       "      <th>0</th>\n",
       "      <td>Baseline</td>\n",
       "      <td>ndd</td>\n",
       "      <td>102</td>\n",
       "      <td>0.876</td>\n",
       "      <td>0.146</td>\n",
       "      <td>0.350</td>\n",
       "      <td>1.0</td>\n",
       "    </tr>\n",
       "    <tr>\n",
       "      <th>1</th>\n",
       "      <td>Baseline</td>\n",
       "      <td>no_ndd</td>\n",
       "      <td>107</td>\n",
       "      <td>0.938</td>\n",
       "      <td>0.119</td>\n",
       "      <td>0.333</td>\n",
       "      <td>1.0</td>\n",
       "    </tr>\n",
       "    <tr>\n",
       "      <th>2</th>\n",
       "      <td>Gap</td>\n",
       "      <td>ndd</td>\n",
       "      <td>102</td>\n",
       "      <td>0.849</td>\n",
       "      <td>0.146</td>\n",
       "      <td>0.368</td>\n",
       "      <td>1.0</td>\n",
       "    </tr>\n",
       "    <tr>\n",
       "      <th>3</th>\n",
       "      <td>Gap</td>\n",
       "      <td>no_ndd</td>\n",
       "      <td>107</td>\n",
       "      <td>0.907</td>\n",
       "      <td>0.117</td>\n",
       "      <td>0.500</td>\n",
       "      <td>1.0</td>\n",
       "    </tr>\n",
       "    <tr>\n",
       "      <th>4</th>\n",
       "      <td>Overlap</td>\n",
       "      <td>ndd</td>\n",
       "      <td>102</td>\n",
       "      <td>0.837</td>\n",
       "      <td>0.181</td>\n",
       "      <td>0.368</td>\n",
       "      <td>1.0</td>\n",
       "    </tr>\n",
       "    <tr>\n",
       "      <th>5</th>\n",
       "      <td>Overlap</td>\n",
       "      <td>no_ndd</td>\n",
       "      <td>107</td>\n",
       "      <td>0.913</td>\n",
       "      <td>0.131</td>\n",
       "      <td>0.444</td>\n",
       "      <td>1.0</td>\n",
       "    </tr>\n",
       "  </tbody>\n",
       "</table>\n",
       "</div>"
      ],
      "text/plain": [
       "  condition     ndd    n   mean     sd    min  max\n",
       "0  Baseline     ndd  102  0.876  0.146  0.350  1.0\n",
       "1  Baseline  no_ndd  107  0.938  0.119  0.333  1.0\n",
       "2       Gap     ndd  102  0.849  0.146  0.368  1.0\n",
       "3       Gap  no_ndd  107  0.907  0.117  0.500  1.0\n",
       "4   Overlap     ndd  102  0.837  0.181  0.368  1.0\n",
       "5   Overlap  no_ndd  107  0.913  0.131  0.444  1.0"
      ]
     },
     "metadata": {},
     "output_type": "display_data"
    }
   ],
   "source": [
    "### 12.1 By Neurodevelopmental Status\n",
    "\n",
    "# Descriptive statistics by NDD group\n",
    "desc_ndd = acc_per_sub_s.groupby(['condition', 'ndd'])['perc_accuracy'].agg(\n",
    "    n='count', mean='mean', sd='std', min='min', max='max'\n",
    ").reset_index()\n",
    "\n",
    "# Add to document\n",
    "doc.add_heading('Descriptive Statistics by NDD Group', level=3)\n",
    "doc = df_to_table(doc, desc_ndd.round(3))\n",
    "\n",
    "print(\"Descriptive statistics by NDD group:\")\n",
    "display(desc_ndd.round(3))"
   ]
  },
  {
   "cell_type": "markdown",
   "id": "f617c8f9",
   "metadata": {},
   "source": [
    "### 12.2 By Age Group"
   ]
  },
  {
   "cell_type": "code",
   "execution_count": 38,
   "id": "ccb69044",
   "metadata": {},
   "outputs": [
    {
     "data": {
      "application/vnd.microsoft.datawrangler.viewer.v0+json": {
       "columns": [
        {
         "name": "index",
         "rawType": "int64",
         "type": "integer"
        },
        {
         "name": "condition",
         "rawType": "object",
         "type": "string"
        },
        {
         "name": "age_group",
         "rawType": "object",
         "type": "string"
        },
        {
         "name": "n",
         "rawType": "int64",
         "type": "integer"
        },
        {
         "name": "mean",
         "rawType": "float64",
         "type": "float"
        },
        {
         "name": "sd",
         "rawType": "float64",
         "type": "float"
        },
        {
         "name": "min",
         "rawType": "float64",
         "type": "float"
        },
        {
         "name": "max",
         "rawType": "float64",
         "type": "float"
        }
       ],
       "ref": "5611a29d-0aed-42fb-ab65-0acf5a1b9afd",
       "rows": [
        [
         "0",
         "Baseline",
         "adult",
         "122",
         "0.9353029484177025",
         "0.12546768568281055",
         "0.3333333333333333",
         "1.0"
        ],
        [
         "1",
         "Baseline",
         "child",
         "87",
         "0.8694484793622724",
         "0.14259919968636608",
         "0.4375",
         "1.0"
        ],
        [
         "2",
         "Gap",
         "adult",
         "122",
         "0.9141626133429411",
         "0.11575230590070043",
         "0.5",
         "1.0"
        ],
        [
         "3",
         "Gap",
         "child",
         "87",
         "0.829266333319125",
         "0.14541913270483753",
         "0.3684210526315789",
         "1.0"
        ],
        [
         "4",
         "Overlap",
         "adult",
         "122",
         "0.9266701710108171",
         "0.11724653864191241",
         "0.4444444444444444",
         "1.0"
        ],
        [
         "5",
         "Overlap",
         "child",
         "87",
         "0.8040996001495627",
         "0.18661086466277807",
         "0.3684210526315789",
         "1.0"
        ]
       ],
       "shape": {
        "columns": 7,
        "rows": 6
       }
      },
      "text/html": [
       "<div>\n",
       "<style scoped>\n",
       "    .dataframe tbody tr th:only-of-type {\n",
       "        vertical-align: middle;\n",
       "    }\n",
       "\n",
       "    .dataframe tbody tr th {\n",
       "        vertical-align: top;\n",
       "    }\n",
       "\n",
       "    .dataframe thead th {\n",
       "        text-align: right;\n",
       "    }\n",
       "</style>\n",
       "<table border=\"1\" class=\"dataframe\">\n",
       "  <thead>\n",
       "    <tr style=\"text-align: right;\">\n",
       "      <th></th>\n",
       "      <th>condition</th>\n",
       "      <th>age_group</th>\n",
       "      <th>n</th>\n",
       "      <th>mean</th>\n",
       "      <th>sd</th>\n",
       "      <th>min</th>\n",
       "      <th>max</th>\n",
       "    </tr>\n",
       "  </thead>\n",
       "  <tbody>\n",
       "    <tr>\n",
       "      <th>0</th>\n",
       "      <td>Baseline</td>\n",
       "      <td>adult</td>\n",
       "      <td>122</td>\n",
       "      <td>0.935303</td>\n",
       "      <td>0.125468</td>\n",
       "      <td>0.333333</td>\n",
       "      <td>1.0</td>\n",
       "    </tr>\n",
       "    <tr>\n",
       "      <th>1</th>\n",
       "      <td>Baseline</td>\n",
       "      <td>child</td>\n",
       "      <td>87</td>\n",
       "      <td>0.869448</td>\n",
       "      <td>0.142599</td>\n",
       "      <td>0.437500</td>\n",
       "      <td>1.0</td>\n",
       "    </tr>\n",
       "    <tr>\n",
       "      <th>2</th>\n",
       "      <td>Gap</td>\n",
       "      <td>adult</td>\n",
       "      <td>122</td>\n",
       "      <td>0.914163</td>\n",
       "      <td>0.115752</td>\n",
       "      <td>0.500000</td>\n",
       "      <td>1.0</td>\n",
       "    </tr>\n",
       "    <tr>\n",
       "      <th>3</th>\n",
       "      <td>Gap</td>\n",
       "      <td>child</td>\n",
       "      <td>87</td>\n",
       "      <td>0.829266</td>\n",
       "      <td>0.145419</td>\n",
       "      <td>0.368421</td>\n",
       "      <td>1.0</td>\n",
       "    </tr>\n",
       "    <tr>\n",
       "      <th>4</th>\n",
       "      <td>Overlap</td>\n",
       "      <td>adult</td>\n",
       "      <td>122</td>\n",
       "      <td>0.926670</td>\n",
       "      <td>0.117247</td>\n",
       "      <td>0.444444</td>\n",
       "      <td>1.0</td>\n",
       "    </tr>\n",
       "    <tr>\n",
       "      <th>5</th>\n",
       "      <td>Overlap</td>\n",
       "      <td>child</td>\n",
       "      <td>87</td>\n",
       "      <td>0.804100</td>\n",
       "      <td>0.186611</td>\n",
       "      <td>0.368421</td>\n",
       "      <td>1.0</td>\n",
       "    </tr>\n",
       "  </tbody>\n",
       "</table>\n",
       "</div>"
      ],
      "text/plain": [
       "  condition age_group    n      mean        sd       min  max\n",
       "0  Baseline     adult  122  0.935303  0.125468  0.333333  1.0\n",
       "1  Baseline     child   87  0.869448  0.142599  0.437500  1.0\n",
       "2       Gap     adult  122  0.914163  0.115752  0.500000  1.0\n",
       "3       Gap     child   87  0.829266  0.145419  0.368421  1.0\n",
       "4   Overlap     adult  122  0.926670  0.117247  0.444444  1.0\n",
       "5   Overlap     child   87  0.804100  0.186611  0.368421  1.0"
      ]
     },
     "execution_count": 38,
     "metadata": {},
     "output_type": "execute_result"
    }
   ],
   "source": [
    "\n",
    "# By Age Group\n",
    "desc_age = acc_per_sub_s.groupby(['condition', 'age_group'])['perc_accuracy'].agg(\n",
    "    n='count', mean='mean', sd='std', min='min', max='max'\n",
    ").reset_index()\n",
    "\n",
    "doc.add_heading('Descriptive stats by Age Group', level=3)\n",
    "doc = df_to_table(doc, desc_age.round(3))\n",
    "desc_age\n"
   ]
  },
  {
   "cell_type": "code",
   "execution_count": 38,
   "id": "50ca3d1b",
   "metadata": {},
   "outputs": [
    {
     "data": {
      "application/vnd.microsoft.datawrangler.viewer.v0+json": {
       "columns": [
        {
         "name": "index",
         "rawType": "int64",
         "type": "integer"
        },
        {
         "name": "condition",
         "rawType": "object",
         "type": "string"
        },
        {
         "name": "sex",
         "rawType": "object",
         "type": "string"
        },
        {
         "name": "n",
         "rawType": "int64",
         "type": "integer"
        },
        {
         "name": "mean",
         "rawType": "float64",
         "type": "float"
        },
        {
         "name": "sd",
         "rawType": "float64",
         "type": "float"
        },
        {
         "name": "min",
         "rawType": "float64",
         "type": "float"
        },
        {
         "name": "max",
         "rawType": "float64",
         "type": "float"
        }
       ],
       "ref": "8a0a8183-d620-4f7a-861f-23ddc1a8150f",
       "rows": [
        [
         "0",
         "Baseline",
         "female",
         "118",
         "0.9222073477370087",
         "0.13504361722764088",
         "0.3333333333333333",
         "1.0"
        ],
        [
         "1",
         "Baseline",
         "male",
         "90",
         "0.8880945597612264",
         "0.13707085009009026",
         "0.4375",
         "1.0"
        ],
        [
         "2",
         "Gap",
         "female",
         "118",
         "0.8996764057643918",
         "0.1234227262169895",
         "0.46153846153846156",
         "1.0"
        ],
        [
         "3",
         "Gap",
         "male",
         "90",
         "0.851061414219309",
         "0.14616761278456192",
         "0.3684210526315789",
         "1.0"
        ],
        [
         "4",
         "Overlap",
         "female",
         "118",
         "0.8984221819777652",
         "0.14113012205882045",
         "0.42857142857142855",
         "1.0"
        ],
        [
         "5",
         "Overlap",
         "male",
         "90",
         "0.8444067622550594",
         "0.18132702179980048",
         "0.3684210526315789",
         "1.0"
        ]
       ],
       "shape": {
        "columns": 7,
        "rows": 6
       }
      },
      "text/html": [
       "<div>\n",
       "<style scoped>\n",
       "    .dataframe tbody tr th:only-of-type {\n",
       "        vertical-align: middle;\n",
       "    }\n",
       "\n",
       "    .dataframe tbody tr th {\n",
       "        vertical-align: top;\n",
       "    }\n",
       "\n",
       "    .dataframe thead th {\n",
       "        text-align: right;\n",
       "    }\n",
       "</style>\n",
       "<table border=\"1\" class=\"dataframe\">\n",
       "  <thead>\n",
       "    <tr style=\"text-align: right;\">\n",
       "      <th></th>\n",
       "      <th>condition</th>\n",
       "      <th>sex</th>\n",
       "      <th>n</th>\n",
       "      <th>mean</th>\n",
       "      <th>sd</th>\n",
       "      <th>min</th>\n",
       "      <th>max</th>\n",
       "    </tr>\n",
       "  </thead>\n",
       "  <tbody>\n",
       "    <tr>\n",
       "      <th>0</th>\n",
       "      <td>Baseline</td>\n",
       "      <td>female</td>\n",
       "      <td>118</td>\n",
       "      <td>0.922207</td>\n",
       "      <td>0.135044</td>\n",
       "      <td>0.333333</td>\n",
       "      <td>1.0</td>\n",
       "    </tr>\n",
       "    <tr>\n",
       "      <th>1</th>\n",
       "      <td>Baseline</td>\n",
       "      <td>male</td>\n",
       "      <td>90</td>\n",
       "      <td>0.888095</td>\n",
       "      <td>0.137071</td>\n",
       "      <td>0.437500</td>\n",
       "      <td>1.0</td>\n",
       "    </tr>\n",
       "    <tr>\n",
       "      <th>2</th>\n",
       "      <td>Gap</td>\n",
       "      <td>female</td>\n",
       "      <td>118</td>\n",
       "      <td>0.899676</td>\n",
       "      <td>0.123423</td>\n",
       "      <td>0.461538</td>\n",
       "      <td>1.0</td>\n",
       "    </tr>\n",
       "    <tr>\n",
       "      <th>3</th>\n",
       "      <td>Gap</td>\n",
       "      <td>male</td>\n",
       "      <td>90</td>\n",
       "      <td>0.851061</td>\n",
       "      <td>0.146168</td>\n",
       "      <td>0.368421</td>\n",
       "      <td>1.0</td>\n",
       "    </tr>\n",
       "    <tr>\n",
       "      <th>4</th>\n",
       "      <td>Overlap</td>\n",
       "      <td>female</td>\n",
       "      <td>118</td>\n",
       "      <td>0.898422</td>\n",
       "      <td>0.141130</td>\n",
       "      <td>0.428571</td>\n",
       "      <td>1.0</td>\n",
       "    </tr>\n",
       "    <tr>\n",
       "      <th>5</th>\n",
       "      <td>Overlap</td>\n",
       "      <td>male</td>\n",
       "      <td>90</td>\n",
       "      <td>0.844407</td>\n",
       "      <td>0.181327</td>\n",
       "      <td>0.368421</td>\n",
       "      <td>1.0</td>\n",
       "    </tr>\n",
       "  </tbody>\n",
       "</table>\n",
       "</div>"
      ],
      "text/plain": [
       "  condition     sex    n      mean        sd       min  max\n",
       "0  Baseline  female  118  0.922207  0.135044  0.333333  1.0\n",
       "1  Baseline    male   90  0.888095  0.137071  0.437500  1.0\n",
       "2       Gap  female  118  0.899676  0.123423  0.461538  1.0\n",
       "3       Gap    male   90  0.851061  0.146168  0.368421  1.0\n",
       "4   Overlap  female  118  0.898422  0.141130  0.428571  1.0\n",
       "5   Overlap    male   90  0.844407  0.181327  0.368421  1.0"
      ]
     },
     "execution_count": 38,
     "metadata": {},
     "output_type": "execute_result"
    }
   ],
   "source": [
    "### 12.3 By Sex\n",
    "desc_sex = acc_per_sub_s.groupby(['condition', 'sex'])['perc_accuracy'].agg(\n",
    "    n='count', mean='mean', sd='std', min='min', max='max'\n",
    ").reset_index()\n",
    "\n",
    "doc.add_heading('Descriptive stats by Sex', level=3)\n",
    "doc = df_to_table(doc, desc_sex.round(3))\n",
    "desc_sex\n",
    "\n",
    "\n",
    "\n"
   ]
  },
  {
   "cell_type": "code",
   "execution_count": 39,
   "id": "4af486a7",
   "metadata": {},
   "outputs": [
    {
     "data": {
      "application/vnd.microsoft.datawrangler.viewer.v0+json": {
       "columns": [
        {
         "name": "index",
         "rawType": "int64",
         "type": "integer"
        },
        {
         "name": "condition",
         "rawType": "object",
         "type": "string"
        },
        {
         "name": "asd",
         "rawType": "float64",
         "type": "float"
        },
        {
         "name": "n",
         "rawType": "int64",
         "type": "integer"
        },
        {
         "name": "mean",
         "rawType": "float64",
         "type": "float"
        },
        {
         "name": "sd",
         "rawType": "float64",
         "type": "float"
        },
        {
         "name": "min",
         "rawType": "float64",
         "type": "float"
        },
        {
         "name": "max",
         "rawType": "float64",
         "type": "float"
        }
       ],
       "ref": "540da8c3-ed57-4c0e-a3c5-b3899e3db936",
       "rows": [
        [
         "0",
         "Baseline",
         "0.0",
         "47",
         "0.941294521081755",
         "0.0995344989218178",
         "0.5833333333333334",
         "1.0"
        ],
        [
         "1",
         "Baseline",
         "1.0",
         "22",
         "0.8197274947274947",
         "0.19014890412500166",
         "0.35",
         "1.0"
        ],
        [
         "2",
         "Gap",
         "0.0",
         "47",
         "0.889053853947471",
         "0.12999876757657106",
         "0.5",
         "1.0"
        ],
        [
         "3",
         "Gap",
         "1.0",
         "22",
         "0.8207459207459208",
         "0.14298432063296568",
         "0.5",
         "1.0"
        ],
        [
         "4",
         "Overlap",
         "0.0",
         "47",
         "0.910778839488246",
         "0.1347925084413336",
         "0.47368421052631576",
         "1.0"
        ],
        [
         "5",
         "Overlap",
         "1.0",
         "22",
         "0.7902930402930403",
         "0.1733152142085456",
         "0.5",
         "1.0"
        ]
       ],
       "shape": {
        "columns": 7,
        "rows": 6
       }
      },
      "text/html": [
       "<div>\n",
       "<style scoped>\n",
       "    .dataframe tbody tr th:only-of-type {\n",
       "        vertical-align: middle;\n",
       "    }\n",
       "\n",
       "    .dataframe tbody tr th {\n",
       "        vertical-align: top;\n",
       "    }\n",
       "\n",
       "    .dataframe thead th {\n",
       "        text-align: right;\n",
       "    }\n",
       "</style>\n",
       "<table border=\"1\" class=\"dataframe\">\n",
       "  <thead>\n",
       "    <tr style=\"text-align: right;\">\n",
       "      <th></th>\n",
       "      <th>condition</th>\n",
       "      <th>asd</th>\n",
       "      <th>n</th>\n",
       "      <th>mean</th>\n",
       "      <th>sd</th>\n",
       "      <th>min</th>\n",
       "      <th>max</th>\n",
       "    </tr>\n",
       "  </thead>\n",
       "  <tbody>\n",
       "    <tr>\n",
       "      <th>0</th>\n",
       "      <td>Baseline</td>\n",
       "      <td>0.0</td>\n",
       "      <td>47</td>\n",
       "      <td>0.941295</td>\n",
       "      <td>0.099534</td>\n",
       "      <td>0.583333</td>\n",
       "      <td>1.0</td>\n",
       "    </tr>\n",
       "    <tr>\n",
       "      <th>1</th>\n",
       "      <td>Baseline</td>\n",
       "      <td>1.0</td>\n",
       "      <td>22</td>\n",
       "      <td>0.819727</td>\n",
       "      <td>0.190149</td>\n",
       "      <td>0.350000</td>\n",
       "      <td>1.0</td>\n",
       "    </tr>\n",
       "    <tr>\n",
       "      <th>2</th>\n",
       "      <td>Gap</td>\n",
       "      <td>0.0</td>\n",
       "      <td>47</td>\n",
       "      <td>0.889054</td>\n",
       "      <td>0.129999</td>\n",
       "      <td>0.500000</td>\n",
       "      <td>1.0</td>\n",
       "    </tr>\n",
       "    <tr>\n",
       "      <th>3</th>\n",
       "      <td>Gap</td>\n",
       "      <td>1.0</td>\n",
       "      <td>22</td>\n",
       "      <td>0.820746</td>\n",
       "      <td>0.142984</td>\n",
       "      <td>0.500000</td>\n",
       "      <td>1.0</td>\n",
       "    </tr>\n",
       "    <tr>\n",
       "      <th>4</th>\n",
       "      <td>Overlap</td>\n",
       "      <td>0.0</td>\n",
       "      <td>47</td>\n",
       "      <td>0.910779</td>\n",
       "      <td>0.134793</td>\n",
       "      <td>0.473684</td>\n",
       "      <td>1.0</td>\n",
       "    </tr>\n",
       "    <tr>\n",
       "      <th>5</th>\n",
       "      <td>Overlap</td>\n",
       "      <td>1.0</td>\n",
       "      <td>22</td>\n",
       "      <td>0.790293</td>\n",
       "      <td>0.173315</td>\n",
       "      <td>0.500000</td>\n",
       "      <td>1.0</td>\n",
       "    </tr>\n",
       "  </tbody>\n",
       "</table>\n",
       "</div>"
      ],
      "text/plain": [
       "  condition  asd   n      mean        sd       min  max\n",
       "0  Baseline  0.0  47  0.941295  0.099534  0.583333  1.0\n",
       "1  Baseline  1.0  22  0.819727  0.190149  0.350000  1.0\n",
       "2       Gap  0.0  47  0.889054  0.129999  0.500000  1.0\n",
       "3       Gap  1.0  22  0.820746  0.142984  0.500000  1.0\n",
       "4   Overlap  0.0  47  0.910779  0.134793  0.473684  1.0\n",
       "5   Overlap  1.0  22  0.790293  0.173315  0.500000  1.0"
      ]
     },
     "execution_count": 39,
     "metadata": {},
     "output_type": "execute_result"
    }
   ],
   "source": [
    "### 12.4 By ASD Status\n",
    "\n",
    "desc_asd = acc_per_sub_s.groupby(['condition', 'asd'])['perc_accuracy'].agg(\n",
    "    n='count', mean='mean', sd='std', min='min', max='max'\n",
    ").reset_index()\n",
    "\n",
    "doc.add_heading('Descriptive stats by ASD', level=3)\n",
    "doc = df_to_table(doc, desc_asd.round(3))\n",
    "desc_asd\n"
   ]
  },
  {
   "cell_type": "code",
   "execution_count": null,
   "id": "c7192221",
   "metadata": {},
   "outputs": [],
   "source": []
  },
  {
   "cell_type": "markdown",
   "id": "9449fd1b",
   "metadata": {},
   "source": [
    "## 13. Developmental Trajectory Analysis\n"
   ]
  },
  {
   "cell_type": "code",
   "execution_count": 41,
   "id": "f95b4116",
   "metadata": {},
   "outputs": [
    {
     "data": {
      "application/vnd.microsoft.datawrangler.viewer.v0+json": {
       "columns": [
        {
         "name": "index",
         "rawType": "int64",
         "type": "integer"
        },
        {
         "name": "subject",
         "rawType": "object",
         "type": "string"
        },
        {
         "name": "condition",
         "rawType": "object",
         "type": "string"
        },
        {
         "name": "perc_accuracy",
         "rawType": "float64",
         "type": "float"
        },
        {
         "name": "ndd",
         "rawType": "object",
         "type": "string"
        },
        {
         "name": "age_group",
         "rawType": "object",
         "type": "string"
        },
        {
         "name": "sex",
         "rawType": "object",
         "type": "unknown"
        },
        {
         "name": "asd",
         "rawType": "float64",
         "type": "float"
        },
        {
         "name": "eeg_age",
         "rawType": "float64",
         "type": "float"
        },
        {
         "name": "log_rt",
         "rawType": "float64",
         "type": "float"
        },
        {
         "name": "sqrt_rt",
         "rawType": "float64",
         "type": "float"
        },
        {
         "name": "reciprocal_rt",
         "rawType": "float64",
         "type": "float"
        }
       ],
       "ref": "adad396c-18b0-48fe-b6e0-a680404b9e8c",
       "rows": [
        [
         "0",
         "002Z",
         "Baseline",
         "1.0",
         "no_ndd",
         "adult",
         "female",
         "0.0",
         "45.88",
         "0.0",
         "1.0",
         "0.0"
        ],
        [
         "1",
         "002Z",
         "Gap",
         "1.0",
         "no_ndd",
         "adult",
         "female",
         "0.0",
         "45.88",
         "0.0",
         "1.0",
         "0.0"
        ],
        [
         "2",
         "002Z",
         "Overlap",
         "0.9166666666666666",
         "no_ndd",
         "adult",
         "female",
         "0.0",
         "45.88",
         "-0.08701137698962981",
         "0.9574271077563381",
         "-0.0889318714683741"
        ],
        [
         "3",
         "0042P",
         "Baseline",
         "0.9166666666666666",
         "ndd",
         "adult",
         "female",
         "0.0",
         "30.97",
         "-0.08701137698962981",
         "0.9574271077563381",
         "-0.0889318714683741"
        ],
        [
         "4",
         "0042P",
         "Gap",
         "1.0",
         "ndd",
         "adult",
         "female",
         "0.0",
         "30.97",
         "0.0",
         "1.0",
         "0.0"
        ],
        [
         "5",
         "0042P",
         "Overlap",
         "1.0",
         "ndd",
         "adult",
         "female",
         "0.0",
         "30.97",
         "0.0",
         "1.0",
         "0.0"
        ],
        [
         "6",
         "0043F1",
         "Baseline",
         "1.0",
         "no_ndd",
         "adult",
         "male",
         "0.0",
         "58.13",
         "0.0",
         "1.0",
         "0.0"
        ],
        [
         "7",
         "0043F1",
         "Gap",
         "1.0",
         "no_ndd",
         "adult",
         "male",
         "0.0",
         "58.13",
         "0.0",
         "1.0",
         "0.0"
        ],
        [
         "8",
         "0043F1",
         "Overlap",
         "1.0",
         "no_ndd",
         "adult",
         "male",
         "0.0",
         "58.13",
         "0.0",
         "1.0",
         "0.0"
        ],
        [
         "9",
         "0050M1",
         "Baseline",
         "1.0",
         "no_ndd",
         "adult",
         "female",
         null,
         "37.1",
         "0.0",
         "1.0",
         "0.0"
        ],
        [
         "10",
         "0050M1",
         "Gap",
         "1.0",
         "no_ndd",
         "adult",
         "female",
         null,
         "37.1",
         "0.0",
         "1.0",
         "0.0"
        ],
        [
         "11",
         "0050M1",
         "Overlap",
         "0.9166666666666666",
         "no_ndd",
         "adult",
         "female",
         null,
         "37.1",
         "-0.08701137698962981",
         "0.9574271077563381",
         "-0.0889318714683741"
        ],
        [
         "12",
         "0050P",
         "Baseline",
         "0.6875",
         "ndd",
         "child",
         "female",
         null,
         "8.07",
         "-0.3746934494414107",
         "0.82915619758885",
         "-0.412090756622109"
        ],
        [
         "13",
         "0050P",
         "Gap",
         "0.6875",
         "ndd",
         "child",
         "female",
         null,
         "8.07",
         "-0.3746934494414107",
         "0.82915619758885",
         "-0.412090756622109"
        ],
        [
         "14",
         "0050P",
         "Overlap",
         "0.9166666666666666",
         "ndd",
         "child",
         "female",
         null,
         "8.07",
         "-0.08701137698962981",
         "0.9574271077563381",
         "-0.0889318714683741"
        ],
        [
         "15",
         "0062P",
         "Baseline",
         "0.9166666666666666",
         "no_ndd",
         "adult",
         "female",
         null,
         "40.61",
         "-0.08701137698962981",
         "0.9574271077563381",
         "-0.0889318714683741"
        ],
        [
         "16",
         "0062P",
         "Gap",
         "1.0",
         "no_ndd",
         "adult",
         "female",
         null,
         "40.61",
         "0.0",
         "1.0",
         "0.0"
        ],
        [
         "17",
         "0062P",
         "Overlap",
         "0.9166666666666666",
         "no_ndd",
         "adult",
         "female",
         null,
         "40.61",
         "-0.08701137698962981",
         "0.9574271077563381",
         "-0.0889318714683741"
        ],
        [
         "18",
         "0064M1",
         "Baseline",
         "0.9166666666666666",
         "no_ndd",
         "adult",
         "female",
         null,
         "38.08",
         "-0.08701137698962981",
         "0.9574271077563381",
         "-0.0889318714683741"
        ],
        [
         "19",
         "0064M1",
         "Gap",
         "0.9166666666666666",
         "no_ndd",
         "adult",
         "female",
         null,
         "38.08",
         "-0.08701137698962981",
         "0.9574271077563381",
         "-0.0889318714683741"
        ],
        [
         "20",
         "0064M1",
         "Overlap",
         "0.7692307692307693",
         "no_ndd",
         "adult",
         "female",
         null,
         "38.08",
         "-0.262364264467491",
         "0.8770580193070292",
         "-0.2803508501982759"
        ],
        [
         "21",
         "0064S1",
         "Baseline",
         "0.6666666666666666",
         "ndd",
         "child",
         "male",
         "1.0",
         "12.22",
         "-0.40546510810816444",
         "0.816496580927726",
         "-0.44948974278317816"
        ],
        [
         "22",
         "0064S1",
         "Gap",
         "0.7692307692307693",
         "ndd",
         "child",
         "male",
         "1.0",
         "12.22",
         "-0.262364264467491",
         "0.8770580193070292",
         "-0.2803508501982759"
        ],
        [
         "23",
         "0064S1",
         "Overlap",
         "0.75",
         "ndd",
         "child",
         "male",
         "1.0",
         "12.22",
         "-0.2876820724517809",
         "0.8660254037844386",
         "-0.30940107675850304"
        ],
        [
         "24",
         "0068F1",
         "Baseline",
         "0.9166666666666666",
         "no_ndd",
         "adult",
         "male",
         "0.0",
         "44.12",
         "-0.08701137698962981",
         "0.9574271077563381",
         "-0.0889318714683741"
        ],
        [
         "25",
         "0068F1",
         "Gap",
         "1.0",
         "no_ndd",
         "adult",
         "male",
         "0.0",
         "44.12",
         "0.0",
         "1.0",
         "0.0"
        ],
        [
         "26",
         "0068F1",
         "Overlap",
         "0.9166666666666666",
         "no_ndd",
         "adult",
         "male",
         "0.0",
         "44.12",
         "-0.08701137698962981",
         "0.9574271077563381",
         "-0.0889318714683741"
        ],
        [
         "27",
         "0068M1",
         "Baseline",
         "1.0",
         "no_ndd",
         "adult",
         "female",
         "0.0",
         "33.29",
         "0.0",
         "1.0",
         "0.0"
        ],
        [
         "28",
         "0068M1",
         "Gap",
         "1.0",
         "no_ndd",
         "adult",
         "female",
         "0.0",
         "33.29",
         "0.0",
         "1.0",
         "0.0"
        ],
        [
         "29",
         "0068M1",
         "Overlap",
         "1.0",
         "no_ndd",
         "adult",
         "female",
         "0.0",
         "33.29",
         "0.0",
         "1.0",
         "0.0"
        ],
        [
         "30",
         "0068S1",
         "Baseline",
         "0.8",
         "ndd",
         "child",
         "male",
         "1.0",
         "7.75",
         "-0.2231435513142097",
         "0.8944271909999159",
         "-0.23606797749978967"
        ],
        [
         "31",
         "0068S1",
         "Gap",
         "1.0",
         "ndd",
         "child",
         "male",
         "1.0",
         "7.75",
         "0.0",
         "1.0",
         "0.0"
        ],
        [
         "32",
         "0068S1",
         "Overlap",
         "0.5",
         "ndd",
         "child",
         "male",
         "1.0",
         "7.75",
         "-0.6931471805599453",
         "0.7071067811865476",
         "-0.8284271247461901"
        ],
        [
         "33",
         "0068S3",
         "Baseline",
         "0.7857142857142857",
         "no_ndd",
         "child",
         "male",
         "0.0",
         "4.75",
         "-0.2411620568168881",
         "0.8864052604279183",
         "-0.25630429927106485"
        ],
        [
         "34",
         "0068S3",
         "Gap",
         "0.6923076923076923",
         "no_ndd",
         "child",
         "male",
         "0.0",
         "4.75",
         "-0.3677247801253174",
         "0.8320502943378437",
         "-0.40370085030932623"
        ],
        [
         "35",
         "0068S3",
         "Overlap",
         "0.47368421052631576",
         "no_ndd",
         "child",
         "male",
         "0.0",
         "4.75",
         "-0.7472144018302211",
         "0.6882472016116853",
         "-0.9059326290271158"
        ],
        [
         "36",
         "006Z",
         "Baseline",
         "1.0",
         "no_ndd",
         "adult",
         "male",
         "0.0",
         "33.64",
         "0.0",
         "1.0",
         "0.0"
        ],
        [
         "37",
         "006Z",
         "Gap",
         "1.0",
         "no_ndd",
         "adult",
         "male",
         "0.0",
         "33.64",
         "0.0",
         "1.0",
         "0.0"
        ],
        [
         "38",
         "006Z",
         "Overlap",
         "1.0",
         "no_ndd",
         "adult",
         "male",
         "0.0",
         "33.64",
         "0.0",
         "1.0",
         "0.0"
        ],
        [
         "39",
         "0083F1",
         "Baseline",
         "0.5",
         "ndd",
         "adult",
         "male",
         "1.0",
         "45.95",
         "-0.6931471805599453",
         "0.7071067811865476",
         "-0.8284271247461901"
        ],
        [
         "40",
         "0083F1",
         "Gap",
         "0.5",
         "ndd",
         "adult",
         "male",
         "1.0",
         "45.95",
         "-0.6931471805599453",
         "0.7071067811865476",
         "-0.8284271247461901"
        ],
        [
         "41",
         "0083F1",
         "Overlap",
         "0.5",
         "ndd",
         "adult",
         "male",
         "1.0",
         "45.95",
         "-0.6931471805599453",
         "0.7071067811865476",
         "-0.8284271247461901"
        ],
        [
         "42",
         "0083P",
         "Baseline",
         "1.0",
         "ndd",
         "child",
         "female",
         "1.0",
         "13.01",
         "0.0",
         "1.0",
         "0.0"
        ],
        [
         "43",
         "0083P",
         "Gap",
         "1.0",
         "ndd",
         "child",
         "female",
         "1.0",
         "13.01",
         "0.0",
         "1.0",
         "0.0"
        ],
        [
         "44",
         "0083P",
         "Overlap",
         "0.75",
         "ndd",
         "child",
         "female",
         "1.0",
         "13.01",
         "-0.2876820724517809",
         "0.8660254037844386",
         "-0.30940107675850304"
        ],
        [
         "45",
         "0086F1",
         "Baseline",
         "1.0",
         "no_ndd",
         "adult",
         "male",
         null,
         "47.71",
         "0.0",
         "1.0",
         "0.0"
        ],
        [
         "46",
         "0086F1",
         "Gap",
         "1.0",
         "no_ndd",
         "adult",
         "male",
         null,
         "47.71",
         "0.0",
         "1.0",
         "0.0"
        ],
        [
         "47",
         "0086F1",
         "Overlap",
         "1.0",
         "no_ndd",
         "adult",
         "male",
         null,
         "47.71",
         "0.0",
         "1.0",
         "0.0"
        ],
        [
         "48",
         "0086M1",
         "Baseline",
         "1.0",
         "no_ndd",
         "adult",
         "female",
         null,
         "49.7",
         "0.0",
         "1.0",
         "0.0"
        ],
        [
         "49",
         "0086M1",
         "Gap",
         "1.0",
         "no_ndd",
         "adult",
         "female",
         null,
         "49.7",
         "0.0",
         "1.0",
         "0.0"
        ]
       ],
       "shape": {
        "columns": 11,
        "rows": 627
       }
      },
      "text/html": [
       "<div>\n",
       "<style scoped>\n",
       "    .dataframe tbody tr th:only-of-type {\n",
       "        vertical-align: middle;\n",
       "    }\n",
       "\n",
       "    .dataframe tbody tr th {\n",
       "        vertical-align: top;\n",
       "    }\n",
       "\n",
       "    .dataframe thead th {\n",
       "        text-align: right;\n",
       "    }\n",
       "</style>\n",
       "<table border=\"1\" class=\"dataframe\">\n",
       "  <thead>\n",
       "    <tr style=\"text-align: right;\">\n",
       "      <th></th>\n",
       "      <th>subject</th>\n",
       "      <th>condition</th>\n",
       "      <th>perc_accuracy</th>\n",
       "      <th>ndd</th>\n",
       "      <th>age_group</th>\n",
       "      <th>sex</th>\n",
       "      <th>asd</th>\n",
       "      <th>eeg_age</th>\n",
       "      <th>log_rt</th>\n",
       "      <th>sqrt_rt</th>\n",
       "      <th>reciprocal_rt</th>\n",
       "    </tr>\n",
       "  </thead>\n",
       "  <tbody>\n",
       "    <tr>\n",
       "      <th>0</th>\n",
       "      <td>002Z</td>\n",
       "      <td>Baseline</td>\n",
       "      <td>1.000000</td>\n",
       "      <td>no_ndd</td>\n",
       "      <td>adult</td>\n",
       "      <td>female</td>\n",
       "      <td>0.0</td>\n",
       "      <td>45.88</td>\n",
       "      <td>0.000000</td>\n",
       "      <td>1.000000</td>\n",
       "      <td>0.000000</td>\n",
       "    </tr>\n",
       "    <tr>\n",
       "      <th>1</th>\n",
       "      <td>002Z</td>\n",
       "      <td>Gap</td>\n",
       "      <td>1.000000</td>\n",
       "      <td>no_ndd</td>\n",
       "      <td>adult</td>\n",
       "      <td>female</td>\n",
       "      <td>0.0</td>\n",
       "      <td>45.88</td>\n",
       "      <td>0.000000</td>\n",
       "      <td>1.000000</td>\n",
       "      <td>0.000000</td>\n",
       "    </tr>\n",
       "    <tr>\n",
       "      <th>2</th>\n",
       "      <td>002Z</td>\n",
       "      <td>Overlap</td>\n",
       "      <td>0.916667</td>\n",
       "      <td>no_ndd</td>\n",
       "      <td>adult</td>\n",
       "      <td>female</td>\n",
       "      <td>0.0</td>\n",
       "      <td>45.88</td>\n",
       "      <td>-0.087011</td>\n",
       "      <td>0.957427</td>\n",
       "      <td>-0.088932</td>\n",
       "    </tr>\n",
       "    <tr>\n",
       "      <th>3</th>\n",
       "      <td>0042P</td>\n",
       "      <td>Baseline</td>\n",
       "      <td>0.916667</td>\n",
       "      <td>ndd</td>\n",
       "      <td>adult</td>\n",
       "      <td>female</td>\n",
       "      <td>0.0</td>\n",
       "      <td>30.97</td>\n",
       "      <td>-0.087011</td>\n",
       "      <td>0.957427</td>\n",
       "      <td>-0.088932</td>\n",
       "    </tr>\n",
       "    <tr>\n",
       "      <th>4</th>\n",
       "      <td>0042P</td>\n",
       "      <td>Gap</td>\n",
       "      <td>1.000000</td>\n",
       "      <td>ndd</td>\n",
       "      <td>adult</td>\n",
       "      <td>female</td>\n",
       "      <td>0.0</td>\n",
       "      <td>30.97</td>\n",
       "      <td>0.000000</td>\n",
       "      <td>1.000000</td>\n",
       "      <td>0.000000</td>\n",
       "    </tr>\n",
       "    <tr>\n",
       "      <th>...</th>\n",
       "      <td>...</td>\n",
       "      <td>...</td>\n",
       "      <td>...</td>\n",
       "      <td>...</td>\n",
       "      <td>...</td>\n",
       "      <td>...</td>\n",
       "      <td>...</td>\n",
       "      <td>...</td>\n",
       "      <td>...</td>\n",
       "      <td>...</td>\n",
       "      <td>...</td>\n",
       "    </tr>\n",
       "    <tr>\n",
       "      <th>622</th>\n",
       "      <td>1256S1</td>\n",
       "      <td>Gap</td>\n",
       "      <td>1.000000</td>\n",
       "      <td>ndd</td>\n",
       "      <td>child</td>\n",
       "      <td>male</td>\n",
       "      <td>NaN</td>\n",
       "      <td>17.33</td>\n",
       "      <td>0.000000</td>\n",
       "      <td>1.000000</td>\n",
       "      <td>0.000000</td>\n",
       "    </tr>\n",
       "    <tr>\n",
       "      <th>623</th>\n",
       "      <td>1256S1</td>\n",
       "      <td>Overlap</td>\n",
       "      <td>1.000000</td>\n",
       "      <td>ndd</td>\n",
       "      <td>child</td>\n",
       "      <td>male</td>\n",
       "      <td>NaN</td>\n",
       "      <td>17.33</td>\n",
       "      <td>0.000000</td>\n",
       "      <td>1.000000</td>\n",
       "      <td>0.000000</td>\n",
       "    </tr>\n",
       "    <tr>\n",
       "      <th>624</th>\n",
       "      <td>1256S2</td>\n",
       "      <td>Baseline</td>\n",
       "      <td>0.923077</td>\n",
       "      <td>ndd</td>\n",
       "      <td>adult</td>\n",
       "      <td>female</td>\n",
       "      <td>1.0</td>\n",
       "      <td>18.32</td>\n",
       "      <td>-0.080043</td>\n",
       "      <td>0.960769</td>\n",
       "      <td>-0.081666</td>\n",
       "    </tr>\n",
       "    <tr>\n",
       "      <th>625</th>\n",
       "      <td>1256S2</td>\n",
       "      <td>Gap</td>\n",
       "      <td>0.923077</td>\n",
       "      <td>ndd</td>\n",
       "      <td>adult</td>\n",
       "      <td>female</td>\n",
       "      <td>1.0</td>\n",
       "      <td>18.32</td>\n",
       "      <td>-0.080043</td>\n",
       "      <td>0.960769</td>\n",
       "      <td>-0.081666</td>\n",
       "    </tr>\n",
       "    <tr>\n",
       "      <th>626</th>\n",
       "      <td>1256S2</td>\n",
       "      <td>Overlap</td>\n",
       "      <td>0.916667</td>\n",
       "      <td>ndd</td>\n",
       "      <td>adult</td>\n",
       "      <td>female</td>\n",
       "      <td>1.0</td>\n",
       "      <td>18.32</td>\n",
       "      <td>-0.087011</td>\n",
       "      <td>0.957427</td>\n",
       "      <td>-0.088932</td>\n",
       "    </tr>\n",
       "  </tbody>\n",
       "</table>\n",
       "<p>627 rows × 11 columns</p>\n",
       "</div>"
      ],
      "text/plain": [
       "    subject condition  perc_accuracy     ndd age_group     sex  asd  eeg_age  \\\n",
       "0      002Z  Baseline       1.000000  no_ndd     adult  female  0.0    45.88   \n",
       "1      002Z       Gap       1.000000  no_ndd     adult  female  0.0    45.88   \n",
       "2      002Z   Overlap       0.916667  no_ndd     adult  female  0.0    45.88   \n",
       "3     0042P  Baseline       0.916667     ndd     adult  female  0.0    30.97   \n",
       "4     0042P       Gap       1.000000     ndd     adult  female  0.0    30.97   \n",
       "..      ...       ...            ...     ...       ...     ...  ...      ...   \n",
       "622  1256S1       Gap       1.000000     ndd     child    male  NaN    17.33   \n",
       "623  1256S1   Overlap       1.000000     ndd     child    male  NaN    17.33   \n",
       "624  1256S2  Baseline       0.923077     ndd     adult  female  1.0    18.32   \n",
       "625  1256S2       Gap       0.923077     ndd     adult  female  1.0    18.32   \n",
       "626  1256S2   Overlap       0.916667     ndd     adult  female  1.0    18.32   \n",
       "\n",
       "       log_rt   sqrt_rt  reciprocal_rt  \n",
       "0    0.000000  1.000000       0.000000  \n",
       "1    0.000000  1.000000       0.000000  \n",
       "2   -0.087011  0.957427      -0.088932  \n",
       "3   -0.087011  0.957427      -0.088932  \n",
       "4    0.000000  1.000000       0.000000  \n",
       "..        ...       ...            ...  \n",
       "622  0.000000  1.000000       0.000000  \n",
       "623  0.000000  1.000000       0.000000  \n",
       "624 -0.080043  0.960769      -0.081666  \n",
       "625 -0.080043  0.960769      -0.081666  \n",
       "626 -0.087011  0.957427      -0.088932  \n",
       "\n",
       "[627 rows x 11 columns]"
      ]
     },
     "execution_count": 41,
     "metadata": {},
     "output_type": "execute_result"
    }
   ],
   "source": [
    "acc_per_sub_s"
   ]
  },
  {
   "cell_type": "code",
   "execution_count": 42,
   "id": "bee680e0",
   "metadata": {},
   "outputs": [
    {
     "data": {
      "image/png": "[encoded data removed]",
      "text/plain": [
       "<Figure size 640x480 with 1 Axes>"
      ]
     },
     "metadata": {},
     "output_type": "display_data"
    }
   ],
   "source": [
    "\n",
    "from sklearn.metrics import r2_score\n",
    "\n",
    "import matplotlib.pyplot as plt\n",
    "\n",
    "# Scatterplot\n",
    "sns.scatterplot(x=\"eeg_age\", y=\"perc_accuracy\", data=acc_per_sub_s, hue=\"condition\", alpha=0.5)\n",
    "\n",
    "# Fit polynomial models and plot\n",
    "x = acc_per_sub_s[\"eeg_age\"]\n",
    "y = acc_per_sub_s[\"perc_accuracy\"]\n",
    "\n",
    "# Try linear, quadratic, and cubic fits\n",
    "degrees = [1, 2, 3]\n",
    "colors = ['r', 'g', 'b']\n",
    "labels = ['Linear', 'Quadratic', 'Cubic']\n",
    "\n",
    "for deg, color, label in zip(degrees, colors, labels):\n",
    "    coeffs = np.polyfit(x, y, deg)\n",
    "    poly = np.poly1d(coeffs)\n",
    "    y_pred = poly(np.sort(x))\n",
    "    plt.plot(np.sort(x), y_pred, color=color, label=f\"{label} fit (R²={r2_score(y, poly(x)):.2f})\")\n",
    "\n",
    "plt.legend()\n",
    "plt.title(\"Accuracy vs Age with Polynomial Fits\")\n",
    "plt.xlabel(\"EEG Age\")\n",
    "plt.ylabel(\"Percent Accuracy\")\n",
    "plt.show()"
   ]
  },
  {
   "cell_type": "markdown",
   "id": "8c7dc61d",
   "metadata": {},
   "source": [
    "## 14. Data Export for Further Analysis"
   ]
  },
  {
   "cell_type": "code",
   "execution_count": 84,
   "id": "16a937c3",
   "metadata": {},
   "outputs": [
    {
     "data": {
      "application/vnd.microsoft.datawrangler.viewer.v0+json": {
       "columns": [
        {
         "name": "subject",
         "rawType": "object",
         "type": "string"
        },
        {
         "name": "baseline_accuracy",
         "rawType": "float64",
         "type": "float"
        },
        {
         "name": "gap_accuracy",
         "rawType": "float64",
         "type": "float"
        },
        {
         "name": "overlap_accuracy",
         "rawType": "float64",
         "type": "float"
        },
        {
         "name": "overall_accuracy",
         "rawType": "float64",
         "type": "float"
        }
       ],
       "ref": "1469a57a-74cb-4929-ae2c-70e06a0cf809",
       "rows": [
        [
         "002Z",
         "1.0",
         "1.0",
         "0.9166666666666666",
         "0.9722222222222222"
        ],
        [
         "0042P",
         "0.9166666666666666",
         "1.0",
         "1.0",
         "0.9722222222222222"
        ],
        [
         "0043F1",
         "1.0",
         "1.0",
         "1.0",
         "1.0"
        ],
        [
         "0050M1",
         "1.0",
         "1.0",
         "0.9166666666666666",
         "0.9722222222222222"
        ],
        [
         "0050P",
         "0.6875",
         "0.6875",
         "0.9166666666666666",
         "0.7638888888888888"
        ],
        [
         "0062P",
         "0.9166666666666666",
         "1.0",
         "0.9166666666666666",
         "0.9444444444444443"
        ],
        [
         "0064M1",
         "0.9166666666666666",
         "0.9166666666666666",
         "0.7692307692307693",
         "0.8675213675213675"
        ],
        [
         "0064S1",
         "0.6666666666666666",
         "0.7692307692307693",
         "0.75",
         "0.7286324786324787"
        ],
        [
         "0068F1",
         "0.9166666666666666",
         "1.0",
         "0.9166666666666666",
         "0.9444444444444443"
        ],
        [
         "0068M1",
         "1.0",
         "1.0",
         "1.0",
         "1.0"
        ],
        [
         "0068S1",
         "0.8",
         "1.0",
         "0.5",
         "0.7666666666666666"
        ],
        [
         "0068S3",
         "0.7857142857142857",
         "0.6923076923076923",
         "0.47368421052631576",
         "0.6505687295160979"
        ],
        [
         "006Z",
         "1.0",
         "1.0",
         "1.0",
         "1.0"
        ],
        [
         "0083F1",
         "0.5",
         "0.5",
         "0.5",
         "0.5"
        ],
        [
         "0083P",
         "1.0",
         "1.0",
         "0.75",
         "0.9166666666666666"
        ],
        [
         "0086F1",
         "1.0",
         "1.0",
         "1.0",
         "1.0"
        ],
        [
         "0086M1",
         "1.0",
         "1.0",
         "0.9166666666666666",
         "0.9722222222222222"
        ],
        [
         "0086S1",
         "1.0",
         "0.9230769230769231",
         "0.9166666666666666",
         "0.9465811965811967"
        ],
        [
         "008Z",
         "1.0",
         "0.75",
         "1.0",
         "0.9166666666666666"
        ],
        [
         "0093O1",
         "0.3333333333333333",
         "0.6153846153846154",
         "0.4444444444444444",
         "0.46438746438746437"
        ],
        [
         "009Z",
         "1.0",
         "0.9166666666666666",
         "1.0",
         "0.9722222222222222"
        ],
        [
         "0104P",
         "1.0",
         "1.0",
         "1.0",
         "1.0"
        ],
        [
         "0105P",
         "0.8333333333333334",
         "0.9166666666666666",
         "0.75",
         "0.8333333333333334"
        ],
        [
         "010Z",
         "1.0",
         "0.9166666666666666",
         "0.9166666666666666",
         "0.9444444444444443"
        ],
        [
         "0111F1",
         "1.0",
         "1.0",
         "1.0",
         "1.0"
        ],
        [
         "0111M1",
         "1.0",
         "1.0",
         "1.0",
         "1.0"
        ],
        [
         "0119M1",
         "1.0",
         "0.9166666666666666",
         "1.0",
         "0.9722222222222222"
        ],
        [
         "0128P",
         "1.0",
         "0.9166666666666666",
         "1.0",
         "0.9722222222222222"
        ],
        [
         "0129M1",
         "0.75",
         "0.8333333333333334",
         "1.0",
         "0.8611111111111112"
        ],
        [
         "012Z",
         "1.0",
         "0.9166666666666666",
         "1.0",
         "0.9722222222222222"
        ],
        [
         "0131M1",
         "1.0",
         "0.9230769230769231",
         "0.7058823529411765",
         "0.8763197586726998"
        ],
        [
         "0131P",
         "1.0",
         "1.0",
         "0.7692307692307693",
         "0.923076923076923"
        ],
        [
         "0131S1",
         "1.0",
         "1.0",
         "1.0",
         "1.0"
        ],
        [
         "0134F1",
         "0.9166666666666666",
         "0.7333333333333333",
         "0.7333333333333333",
         "0.7944444444444444"
        ],
        [
         "0134M1",
         "1.0",
         "0.8333333333333334",
         "1.0",
         "0.9444444444444445"
        ],
        [
         "0134S1",
         "0.6923076923076923",
         "0.9166666666666666",
         "0.6428571428571429",
         "0.7506105006105006"
        ],
        [
         "013Z",
         "1.0",
         "0.9166666666666666",
         "1.0",
         "0.9722222222222222"
        ],
        [
         "0146P",
         "1.0",
         "0.9166666666666666",
         "1.0",
         "0.9722222222222222"
        ],
        [
         "0147F2",
         "0.9166666666666666",
         "1.0",
         "0.9166666666666666",
         "0.9444444444444443"
        ],
        [
         "0147P",
         "1.0",
         "0.9166666666666666",
         "0.8333333333333334",
         "0.9166666666666666"
        ],
        [
         "014Z",
         "1.0",
         "0.9166666666666666",
         "0.9166666666666666",
         "0.9444444444444443"
        ],
        [
         "0157M1",
         "1.0",
         "1.0",
         "1.0",
         "1.0"
        ],
        [
         "0159M1",
         "1.0",
         "0.9166666666666666",
         "1.0",
         "0.9722222222222222"
        ],
        [
         "015Z",
         "1.0",
         "0.9166666666666666",
         "0.6875",
         "0.8680555555555555"
        ],
        [
         "0162M1",
         "0.9166666666666666",
         "1.0",
         "1.0",
         "0.9722222222222222"
        ],
        [
         "0162P",
         "1.0",
         "0.9166666666666666",
         "1.0",
         "0.9722222222222222"
        ],
        [
         "0162S1",
         "1.0",
         "0.6428571428571429",
         "1.0",
         "0.8809523809523809"
        ],
        [
         "0171F1",
         "0.9166666666666666",
         "0.9166666666666666",
         "0.8333333333333334",
         "0.8888888888888888"
        ],
        [
         "0171M1",
         "0.9166666666666666",
         "0.7692307692307693",
         "0.7692307692307693",
         "0.8183760683760685"
        ],
        [
         "0171P",
         "0.6111111111111112",
         "0.7857142857142857",
         "0.8461538461538461",
         "0.7476597476597476"
        ]
       ],
       "shape": {
        "columns": 4,
        "rows": 209
       }
      },
      "text/html": [
       "<div>\n",
       "<style scoped>\n",
       "    .dataframe tbody tr th:only-of-type {\n",
       "        vertical-align: middle;\n",
       "    }\n",
       "\n",
       "    .dataframe tbody tr th {\n",
       "        vertical-align: top;\n",
       "    }\n",
       "\n",
       "    .dataframe thead th {\n",
       "        text-align: right;\n",
       "    }\n",
       "</style>\n",
       "<table border=\"1\" class=\"dataframe\">\n",
       "  <thead>\n",
       "    <tr style=\"text-align: right;\">\n",
       "      <th>condition</th>\n",
       "      <th>baseline_accuracy</th>\n",
       "      <th>gap_accuracy</th>\n",
       "      <th>overlap_accuracy</th>\n",
       "      <th>overall_accuracy</th>\n",
       "    </tr>\n",
       "    <tr>\n",
       "      <th>subject</th>\n",
       "      <th></th>\n",
       "      <th></th>\n",
       "      <th></th>\n",
       "      <th></th>\n",
       "    </tr>\n",
       "  </thead>\n",
       "  <tbody>\n",
       "    <tr>\n",
       "      <th>002Z</th>\n",
       "      <td>1.000000</td>\n",
       "      <td>1.000000</td>\n",
       "      <td>0.916667</td>\n",
       "      <td>0.972222</td>\n",
       "    </tr>\n",
       "    <tr>\n",
       "      <th>0042P</th>\n",
       "      <td>0.916667</td>\n",
       "      <td>1.000000</td>\n",
       "      <td>1.000000</td>\n",
       "      <td>0.972222</td>\n",
       "    </tr>\n",
       "    <tr>\n",
       "      <th>0043F1</th>\n",
       "      <td>1.000000</td>\n",
       "      <td>1.000000</td>\n",
       "      <td>1.000000</td>\n",
       "      <td>1.000000</td>\n",
       "    </tr>\n",
       "    <tr>\n",
       "      <th>0050M1</th>\n",
       "      <td>1.000000</td>\n",
       "      <td>1.000000</td>\n",
       "      <td>0.916667</td>\n",
       "      <td>0.972222</td>\n",
       "    </tr>\n",
       "    <tr>\n",
       "      <th>0050P</th>\n",
       "      <td>0.687500</td>\n",
       "      <td>0.687500</td>\n",
       "      <td>0.916667</td>\n",
       "      <td>0.763889</td>\n",
       "    </tr>\n",
       "    <tr>\n",
       "      <th>...</th>\n",
       "      <td>...</td>\n",
       "      <td>...</td>\n",
       "      <td>...</td>\n",
       "      <td>...</td>\n",
       "    </tr>\n",
       "    <tr>\n",
       "      <th>1226M2</th>\n",
       "      <td>1.000000</td>\n",
       "      <td>1.000000</td>\n",
       "      <td>1.000000</td>\n",
       "      <td>1.000000</td>\n",
       "    </tr>\n",
       "    <tr>\n",
       "      <th>1256F1</th>\n",
       "      <td>0.857143</td>\n",
       "      <td>0.916667</td>\n",
       "      <td>1.000000</td>\n",
       "      <td>0.924603</td>\n",
       "    </tr>\n",
       "    <tr>\n",
       "      <th>1256P</th>\n",
       "      <td>1.000000</td>\n",
       "      <td>0.714286</td>\n",
       "      <td>0.538462</td>\n",
       "      <td>0.750916</td>\n",
       "    </tr>\n",
       "    <tr>\n",
       "      <th>1256S1</th>\n",
       "      <td>0.916667</td>\n",
       "      <td>1.000000</td>\n",
       "      <td>1.000000</td>\n",
       "      <td>0.972222</td>\n",
       "    </tr>\n",
       "    <tr>\n",
       "      <th>1256S2</th>\n",
       "      <td>0.923077</td>\n",
       "      <td>0.923077</td>\n",
       "      <td>0.916667</td>\n",
       "      <td>0.920940</td>\n",
       "    </tr>\n",
       "  </tbody>\n",
       "</table>\n",
       "<p>209 rows × 4 columns</p>\n",
       "</div>"
      ],
      "text/plain": [
       "condition  baseline_accuracy  gap_accuracy  overlap_accuracy  overall_accuracy\n",
       "subject                                                                       \n",
       "002Z                1.000000      1.000000          0.916667          0.972222\n",
       "0042P               0.916667      1.000000          1.000000          0.972222\n",
       "0043F1              1.000000      1.000000          1.000000          1.000000\n",
       "0050M1              1.000000      1.000000          0.916667          0.972222\n",
       "0050P               0.687500      0.687500          0.916667          0.763889\n",
       "...                      ...           ...               ...               ...\n",
       "1226M2              1.000000      1.000000          1.000000          1.000000\n",
       "1256F1              0.857143      0.916667          1.000000          0.924603\n",
       "1256P               1.000000      0.714286          0.538462          0.750916\n",
       "1256S1              0.916667      1.000000          1.000000          0.972222\n",
       "1256S2              0.923077      0.923077          0.916667          0.920940\n",
       "\n",
       "[209 rows x 4 columns]"
      ]
     },
     "execution_count": 84,
     "metadata": {},
     "output_type": "execute_result"
    }
   ],
   "source": [
    "# Convert to wide and save \n",
    "\n",
    "acc_wide = acc_per_sub_s.pivot(index=\"subject\", columns=\"condition\", values=\"perc_accuracy\")\n",
    "\n",
    "# Rename for clarity so that they can be used later as features for subgrouping analyses\n",
    "acc_wide = acc_wide.rename(columns={\n",
    "    \"Gap\": \"gap_accuracy\",\n",
    "    \"Baseline\": \"baseline_accuracy\",\n",
    "    \"Overlap\": \"overlap_accuracy\"\n",
    "})\n",
    "\n",
    "# Compute overall accuracy\n",
    "acc_wide[\"overall_accuracy\"] = acc_wide.mean(axis=1)\n",
    "acc_wide"
   ]
  },
  {
   "cell_type": "markdown",
   "id": "08d2526b",
   "metadata": {},
   "source": [
    "# 15. Check correlation between all variables"
   ]
  },
  {
   "cell_type": "code",
   "execution_count": 110,
   "id": "36b4b5ba",
   "metadata": {},
   "outputs": [
    {
     "data": {
      "image/png": "[encoded data removed]",
      "text/plain": [
       "<Figure size 800x600 with 2 Axes>"
      ]
     },
     "metadata": {},
     "output_type": "display_data"
    },
    {
     "name": "stdout",
     "output_type": "stream",
     "text": [
      "P-values for correlations:\n"
     ]
    },
    {
     "data": {
      "application/vnd.microsoft.datawrangler.viewer.v0+json": {
       "columns": [
        {
         "name": "condition",
         "rawType": "object",
         "type": "string"
        },
        {
         "name": "baseline_accuracy",
         "rawType": "float64",
         "type": "float"
        },
        {
         "name": "gap_accuracy",
         "rawType": "float64",
         "type": "float"
        },
        {
         "name": "overlap_accuracy",
         "rawType": "float64",
         "type": "float"
        },
        {
         "name": "overall_accuracy",
         "rawType": "float64",
         "type": "float"
        }
       ],
       "ref": "d01587cd-0b0a-4b0c-9257-384e0fcc5864",
       "rows": [
        [
         "baseline_accuracy",
         "1.0",
         "0.0",
         "0.0",
         "0.0"
        ],
        [
         "gap_accuracy",
         "0.0",
         "1.0",
         "0.0",
         "0.0"
        ],
        [
         "overlap_accuracy",
         "0.0",
         "0.0",
         "1.0",
         "0.0"
        ],
        [
         "overall_accuracy",
         "0.0",
         "0.0",
         "0.0",
         "1.0"
        ]
       ],
       "shape": {
        "columns": 4,
        "rows": 4
       }
      },
      "text/html": [
       "<div>\n",
       "<style scoped>\n",
       "    .dataframe tbody tr th:only-of-type {\n",
       "        vertical-align: middle;\n",
       "    }\n",
       "\n",
       "    .dataframe tbody tr th {\n",
       "        vertical-align: top;\n",
       "    }\n",
       "\n",
       "    .dataframe thead th {\n",
       "        text-align: right;\n",
       "    }\n",
       "</style>\n",
       "<table border=\"1\" class=\"dataframe\">\n",
       "  <thead>\n",
       "    <tr style=\"text-align: right;\">\n",
       "      <th>condition</th>\n",
       "      <th>baseline_accuracy</th>\n",
       "      <th>gap_accuracy</th>\n",
       "      <th>overlap_accuracy</th>\n",
       "      <th>overall_accuracy</th>\n",
       "    </tr>\n",
       "    <tr>\n",
       "      <th>condition</th>\n",
       "      <th></th>\n",
       "      <th></th>\n",
       "      <th></th>\n",
       "      <th></th>\n",
       "    </tr>\n",
       "  </thead>\n",
       "  <tbody>\n",
       "    <tr>\n",
       "      <th>baseline_accuracy</th>\n",
       "      <td>1.0</td>\n",
       "      <td>0.0</td>\n",
       "      <td>0.0</td>\n",
       "      <td>0.0</td>\n",
       "    </tr>\n",
       "    <tr>\n",
       "      <th>gap_accuracy</th>\n",
       "      <td>0.0</td>\n",
       "      <td>1.0</td>\n",
       "      <td>0.0</td>\n",
       "      <td>0.0</td>\n",
       "    </tr>\n",
       "    <tr>\n",
       "      <th>overlap_accuracy</th>\n",
       "      <td>0.0</td>\n",
       "      <td>0.0</td>\n",
       "      <td>1.0</td>\n",
       "      <td>0.0</td>\n",
       "    </tr>\n",
       "    <tr>\n",
       "      <th>overall_accuracy</th>\n",
       "      <td>0.0</td>\n",
       "      <td>0.0</td>\n",
       "      <td>0.0</td>\n",
       "      <td>1.0</td>\n",
       "    </tr>\n",
       "  </tbody>\n",
       "</table>\n",
       "</div>"
      ],
      "text/plain": [
       "condition          baseline_accuracy  gap_accuracy  overlap_accuracy  \\\n",
       "condition                                                              \n",
       "baseline_accuracy                1.0           0.0               0.0   \n",
       "gap_accuracy                     0.0           1.0               0.0   \n",
       "overlap_accuracy                 0.0           0.0               1.0   \n",
       "overall_accuracy                 0.0           0.0               0.0   \n",
       "\n",
       "condition          overall_accuracy  \n",
       "condition                            \n",
       "baseline_accuracy               0.0  \n",
       "gap_accuracy                    0.0  \n",
       "overlap_accuracy                0.0  \n",
       "overall_accuracy                1.0  "
      ]
     },
     "metadata": {},
     "output_type": "display_data"
    }
   ],
   "source": [
    "\n",
    "# Compute correlation matrix and p-value matrix\n",
    "corr = acc_wide.corr()\n",
    "pvals = np.ones(corr.shape)\n",
    "\n",
    "for i in range(len(corr.columns)):\n",
    "    for j in range(len(corr.columns)):\n",
    "        if i != j:\n",
    "            x = acc_wide.iloc[:, i]\n",
    "            y = acc_wide.iloc[:, j]\n",
    "            r, p = pearsonr(x, y)\n",
    "            corr.iloc[i, j] = r\n",
    "            pvals[i, j] = p\n",
    "\n",
    "# Mask upper triangle\n",
    "mask = np.triu(np.ones_like(corr, dtype=bool))\n",
    "\n",
    "plt.figure(figsize=(8, 6))\n",
    "ax = sns.heatmap(\n",
    "    corr, \n",
    "    annot=True, \n",
    "    fmt=\".2f\", \n",
    "    cmap=\"coolwarm\", \n",
    "    square=True, \n",
    "    mask=mask, \n",
    "    vmin=0, vmax=1, \n",
    ")\n",
    "\n",
    "\n",
    "plt.xticks(rotation=45)\n",
    "plt.yticks(rotation=0)\n",
    "plt.xlabel(\"Condition\")\n",
    "plt.ylabel(\"Condition\")\n",
    "plt.title(\"Correlation Matrix of Accuracy by Condition\")\n",
    "plt.tight_layout()\n",
    "plt.savefig(\"C:/Users/gabot/OneDrive - McGill University/Desktop/github_repos/q1k_neurosubs/figures/accuracy/correlation_matrix_accuracy.png\")\n",
    "plt.show()\n",
    "\n",
    "# Print the p-values as a table\n",
    "print(\"P-values for correlations:\")\n",
    "display(pd.DataFrame(pvals, index=corr.index, columns=corr.columns).round(3))"
   ]
  },
  {
   "cell_type": "markdown",
   "id": "a86848e9",
   "metadata": {},
   "source": [
    "# 16. Plot overall acuracy per group"
   ]
  },
  {
   "cell_type": "code",
   "execution_count": null,
   "id": "72b1294e",
   "metadata": {},
   "outputs": [
    {
     "name": "stderr",
     "output_type": "stream",
     "text": [
      "C:\\Users\\gabot\\AppData\\Local\\Temp\\ipykernel_7816\\2051709370.py:13: FutureWarning: \n",
      "\n",
      "The `ci` parameter is deprecated. Use `errorbar=('ci', 95)` for the same effect.\n",
      "\n",
      "  sns.barplot(x=\"ndd\", y=\"perc_accuracy\", data=acc_long,\n",
      "C:\\Users\\gabot\\AppData\\Local\\Temp\\ipykernel_7816\\2051709370.py:18: FutureWarning: \n",
      "\n",
      "The `ci` parameter is deprecated. Use `errorbar=('ci', 95)` for the same effect.\n",
      "\n",
      "  sns.barplot(x=\"age_group\", y=\"perc_accuracy\", data=acc_long,\n",
      "C:\\Users\\gabot\\AppData\\Local\\Temp\\ipykernel_7816\\2051709370.py:23: FutureWarning: \n",
      "\n",
      "The `ci` parameter is deprecated. Use `errorbar=('ci', 95)` for the same effect.\n",
      "\n",
      "  sns.barplot(x=\"sex\", y=\"perc_accuracy\", data=acc_long,\n",
      "C:\\Users\\gabot\\AppData\\Local\\Temp\\ipykernel_7816\\2051709370.py:28: FutureWarning: \n",
      "\n",
      "The `ci` parameter is deprecated. Use `errorbar=('ci', 95)` for the same effect.\n",
      "\n",
      "  sns.barplot(x=\"asd\", y=\"perc_accuracy\", data=acc_long,\n"
     ]
    },
    {
     "data": {
      "text/plain": [
       "<Figure size 640x480 with 0 Axes>"
      ]
     },
     "metadata": {},
     "output_type": "display_data"
    },
    {
     "data": {
      "text/plain": [
       "<docx.shape.InlineShape at 0x173243ad420>"
      ]
     },
     "execution_count": 107,
     "metadata": {},
     "output_type": "execute_result"
    }
   ],
   "source": [
    "fig, ax = plt.subplots(1, 4, figsize=(20, 6), sharey=True)\n",
    "sns.set_theme(style=\"whitegrid\")\n",
    "\n",
    "# Prepare data\n",
    "acc_long = acc_wide.reset_index().melt(\n",
    "    id_vars=[\"subject\"], \n",
    "    value_vars=[\"gap_accuracy\", \"baseline_accuracy\", \"overlap_accuracy\", \"overall_accuracy\"],\n",
    "    var_name=\"condition\",\n",
    "    value_name=\"perc_accuracy\"\n",
    ")\n",
    "acc_long = acc_long.merge(demo_df, on=\"subject\", how=\"left\")\n",
    "acc_long = acc_long[acc_long[\"condition\"] == \"overall_accuracy\"]\n",
    "\n",
    "# Colorblind-friendly palettes\n",
    "palettes = [\n",
    "    \"colorblind\",   # NDD\n",
    "    \"pastel\",       # Age Group\n",
    "    \"Dark2\",        # Sex\n",
    "    \"tab10\"         # ASD\n",
    "]\n",
    "\n",
    "# Plot NDD\n",
    "sns.barplot(\n",
    "    x=\"ndd\", y=\"perc_accuracy\", data=acc_long, \n",
    "    order=[\"ndd\", \"no_ndd\"], estimator=np.mean, ci=95, capsize=.2, \n",
    "    hue=\"ndd\", ax=ax[0], palette=palettes[0], legend=False\n",
    ")\n",
    " \n",
    "ax[0].set_title('Overall Accuracy by NDD', fontsize=16)\n",
    "ax[0].set_xlabel('NDD', fontsize=13)\n",
    "ax[0].set_ylabel('Overall Accuracy', fontsize=13)\n",
    "\n",
    "# Plot Age Group\n",
    "sns.barplot(\n",
    "    x=\"age_group\", y=\"perc_accuracy\", data=acc_long, \n",
    "    order=[\"adult\", \"child\"], estimator=np.mean, ci=95, capsize=.2, \n",
    "    hue=\"age_group\", ax=ax[1], palette=palettes[1], legend=False\n",
    ")\n",
    " \n",
    "ax[1].set_title('Overall Accuracy by Age Group', fontsize=16)\n",
    "ax[1].set_xlabel('Age Group', fontsize=13)\n",
    "ax[1].set_ylabel('')\n",
    "\n",
    "# Plot Sex\n",
    "sns.barplot(\n",
    "    x=\"sex\", y=\"perc_accuracy\", data=acc_long, \n",
    "    estimator=np.mean, ci=95, capsize=.2, \n",
    "    hue=\"sex\", ax=ax[2], palette=palettes[2], legend=False\n",
    ")\n",
    " \n",
    "ax[2].set_title('Overall Accuracy by Sex', fontsize=16)\n",
    "ax[2].set_xlabel('Sex', fontsize=13)\n",
    "ax[2].set_ylabel('')\n",
    "\n",
    "# Plot ASD\n",
    "sns.barplot(\n",
    "    x=\"asd\", y=\"perc_accuracy\", data=acc_long, \n",
    "    estimator=np.mean, ci=95, capsize=.2, \n",
    "    hue=\"asd\", ax=ax[3], palette=palettes[3], legend=True\n",
    ")\n",
    " \n",
    "ax[3].set_title('Overall Accuracy by ASD', fontsize=16)\n",
    "ax[3].set_xlabel('ASD', fontsize=13)\n",
    "ax[3].set_ylabel('')\n",
    "\n",
    "# Standardize y-axis\n",
    "for a in ax:\n",
    "    a.set_ylim(0.5, 1.05)\n",
    "    a.grid(True, axis='y', linestyle='--', alpha=0.5)\n",
    "\n",
    "# Remove duplicate legends, keep only one\n",
    "handles, labels = ax[3].get_legend_handles_labels()\n",
    "ax[3].legend(handles[:2], labels[:2], title=ax[3].get_xlabel(), loc='lower right', fontsize=11, title_fontsize=12)\n",
    "for i in range(3):\n",
    "    ax[i].get_legend().remove() if ax[i].get_legend() else None\n",
    "\n",
    "plt.tight_layout()\n",
    "plt.savefig(\"C:/Users/gabot/OneDrive - McGill University/Desktop/github_repos/q1k_neurosubs/figures/accuracy/overall_accuracy_grouped.png\")\n",
    "plt.show()\n",
    "\n",
    "# Add the figure to the document\n",
    "doc.add_heading('Overall Accuracy Figure by Demographics', level=4)\n",
    "doc.add_picture(\"C:/Users/gabot/OneDrive - McGill University/Desktop/github_repos/q1k_neurosubs/figures/accuracy/overall_accuracy_grouped.png\", width=docx.shared.Inches(6), height=docx.shared.Inches(4))\n",
    "\n",
    "#Save and add to doc\n",
    "plt.savefig(f\"C:/Users/gabot/OneDrive - McGill University/Desktop/github_repos/q1k_neurosubs/figures/accuracy/overall_accuracy_grouped.png\")\n",
    "plt.show()\n",
    "\n",
    "#Add the figure to the document\n",
    "doc.add_heading('Overall Accuracy Figure by Demographics', level=4)\n",
    "doc.add_picture(f\"C:/Users/gabot/OneDrive - McGill University/Desktop/github_repos/q1k_neurosubs/figures/accuracy/overall_accuracy_grouped.png\", width=docx.shared.Inches(6), height=docx.shared.Inches(4))"
   ]
  },
  {
   "cell_type": "markdown",
   "id": "0e9d046e",
   "metadata": {},
   "source": [
    "# 17. Save the accuracy calculations"
   ]
  },
  {
   "cell_type": "code",
   "execution_count": 114,
   "id": "6e4d7af5",
   "metadata": {},
   "outputs": [
    {
     "data": {
      "application/vnd.microsoft.datawrangler.viewer.v0+json": {
       "columns": [
        {
         "name": "subject",
         "rawType": "object",
         "type": "string"
        },
        {
         "name": "baseline_accuracy",
         "rawType": "float64",
         "type": "float"
        },
        {
         "name": "gap_accuracy",
         "rawType": "float64",
         "type": "float"
        },
        {
         "name": "overlap_accuracy",
         "rawType": "float64",
         "type": "float"
        },
        {
         "name": "overall_accuracy",
         "rawType": "float64",
         "type": "float"
        }
       ],
       "ref": "b8552df5-8e83-457b-b771-efbc95c3c64b",
       "rows": [
        [
         "002Z",
         "1.0",
         "1.0",
         "0.9166666666666666",
         "0.9722222222222222"
        ],
        [
         "0042P",
         "0.9166666666666666",
         "1.0",
         "1.0",
         "0.9722222222222222"
        ],
        [
         "0043F1",
         "1.0",
         "1.0",
         "1.0",
         "1.0"
        ],
        [
         "0050M1",
         "1.0",
         "1.0",
         "0.9166666666666666",
         "0.9722222222222222"
        ],
        [
         "0050P",
         "0.6875",
         "0.6875",
         "0.9166666666666666",
         "0.7638888888888888"
        ],
        [
         "0062P",
         "0.9166666666666666",
         "1.0",
         "0.9166666666666666",
         "0.9444444444444443"
        ],
        [
         "0064M1",
         "0.9166666666666666",
         "0.9166666666666666",
         "0.7692307692307693",
         "0.8675213675213675"
        ],
        [
         "0064S1",
         "0.6666666666666666",
         "0.7692307692307693",
         "0.75",
         "0.7286324786324787"
        ],
        [
         "0068F1",
         "0.9166666666666666",
         "1.0",
         "0.9166666666666666",
         "0.9444444444444443"
        ],
        [
         "0068M1",
         "1.0",
         "1.0",
         "1.0",
         "1.0"
        ],
        [
         "0068S1",
         "0.8",
         "1.0",
         "0.5",
         "0.7666666666666666"
        ],
        [
         "0068S3",
         "0.7857142857142857",
         "0.6923076923076923",
         "0.47368421052631576",
         "0.6505687295160979"
        ],
        [
         "006Z",
         "1.0",
         "1.0",
         "1.0",
         "1.0"
        ],
        [
         "0083F1",
         "0.5",
         "0.5",
         "0.5",
         "0.5"
        ],
        [
         "0083P",
         "1.0",
         "1.0",
         "0.75",
         "0.9166666666666666"
        ],
        [
         "0086F1",
         "1.0",
         "1.0",
         "1.0",
         "1.0"
        ],
        [
         "0086M1",
         "1.0",
         "1.0",
         "0.9166666666666666",
         "0.9722222222222222"
        ],
        [
         "0086S1",
         "1.0",
         "0.9230769230769231",
         "0.9166666666666666",
         "0.9465811965811967"
        ],
        [
         "008Z",
         "1.0",
         "0.75",
         "1.0",
         "0.9166666666666666"
        ],
        [
         "0093O1",
         "0.3333333333333333",
         "0.6153846153846154",
         "0.4444444444444444",
         "0.46438746438746437"
        ],
        [
         "009Z",
         "1.0",
         "0.9166666666666666",
         "1.0",
         "0.9722222222222222"
        ],
        [
         "0104P",
         "1.0",
         "1.0",
         "1.0",
         "1.0"
        ],
        [
         "0105P",
         "0.8333333333333334",
         "0.9166666666666666",
         "0.75",
         "0.8333333333333334"
        ],
        [
         "010Z",
         "1.0",
         "0.9166666666666666",
         "0.9166666666666666",
         "0.9444444444444443"
        ],
        [
         "0111F1",
         "1.0",
         "1.0",
         "1.0",
         "1.0"
        ],
        [
         "0111M1",
         "1.0",
         "1.0",
         "1.0",
         "1.0"
        ],
        [
         "0119M1",
         "1.0",
         "0.9166666666666666",
         "1.0",
         "0.9722222222222222"
        ],
        [
         "0128P",
         "1.0",
         "0.9166666666666666",
         "1.0",
         "0.9722222222222222"
        ],
        [
         "0129M1",
         "0.75",
         "0.8333333333333334",
         "1.0",
         "0.8611111111111112"
        ],
        [
         "012Z",
         "1.0",
         "0.9166666666666666",
         "1.0",
         "0.9722222222222222"
        ],
        [
         "0131M1",
         "1.0",
         "0.9230769230769231",
         "0.7058823529411765",
         "0.8763197586726998"
        ],
        [
         "0131P",
         "1.0",
         "1.0",
         "0.7692307692307693",
         "0.923076923076923"
        ],
        [
         "0131S1",
         "1.0",
         "1.0",
         "1.0",
         "1.0"
        ],
        [
         "0134F1",
         "0.9166666666666666",
         "0.7333333333333333",
         "0.7333333333333333",
         "0.7944444444444444"
        ],
        [
         "0134M1",
         "1.0",
         "0.8333333333333334",
         "1.0",
         "0.9444444444444445"
        ],
        [
         "0134S1",
         "0.6923076923076923",
         "0.9166666666666666",
         "0.6428571428571429",
         "0.7506105006105006"
        ],
        [
         "013Z",
         "1.0",
         "0.9166666666666666",
         "1.0",
         "0.9722222222222222"
        ],
        [
         "0146P",
         "1.0",
         "0.9166666666666666",
         "1.0",
         "0.9722222222222222"
        ],
        [
         "0147F2",
         "0.9166666666666666",
         "1.0",
         "0.9166666666666666",
         "0.9444444444444443"
        ],
        [
         "0147P",
         "1.0",
         "0.9166666666666666",
         "0.8333333333333334",
         "0.9166666666666666"
        ],
        [
         "014Z",
         "1.0",
         "0.9166666666666666",
         "0.9166666666666666",
         "0.9444444444444443"
        ],
        [
         "0157M1",
         "1.0",
         "1.0",
         "1.0",
         "1.0"
        ],
        [
         "0159M1",
         "1.0",
         "0.9166666666666666",
         "1.0",
         "0.9722222222222222"
        ],
        [
         "015Z",
         "1.0",
         "0.9166666666666666",
         "0.6875",
         "0.8680555555555555"
        ],
        [
         "0162M1",
         "0.9166666666666666",
         "1.0",
         "1.0",
         "0.9722222222222222"
        ],
        [
         "0162P",
         "1.0",
         "0.9166666666666666",
         "1.0",
         "0.9722222222222222"
        ],
        [
         "0162S1",
         "1.0",
         "0.6428571428571429",
         "1.0",
         "0.8809523809523809"
        ],
        [
         "0171F1",
         "0.9166666666666666",
         "0.9166666666666666",
         "0.8333333333333334",
         "0.8888888888888888"
        ],
        [
         "0171M1",
         "0.9166666666666666",
         "0.7692307692307693",
         "0.7692307692307693",
         "0.8183760683760685"
        ],
        [
         "0171P",
         "0.6111111111111112",
         "0.7857142857142857",
         "0.8461538461538461",
         "0.7476597476597476"
        ]
       ],
       "shape": {
        "columns": 4,
        "rows": 209
       }
      },
      "text/html": [
       "<div>\n",
       "<style scoped>\n",
       "    .dataframe tbody tr th:only-of-type {\n",
       "        vertical-align: middle;\n",
       "    }\n",
       "\n",
       "    .dataframe tbody tr th {\n",
       "        vertical-align: top;\n",
       "    }\n",
       "\n",
       "    .dataframe thead th {\n",
       "        text-align: right;\n",
       "    }\n",
       "</style>\n",
       "<table border=\"1\" class=\"dataframe\">\n",
       "  <thead>\n",
       "    <tr style=\"text-align: right;\">\n",
       "      <th>condition</th>\n",
       "      <th>baseline_accuracy</th>\n",
       "      <th>gap_accuracy</th>\n",
       "      <th>overlap_accuracy</th>\n",
       "      <th>overall_accuracy</th>\n",
       "    </tr>\n",
       "    <tr>\n",
       "      <th>subject</th>\n",
       "      <th></th>\n",
       "      <th></th>\n",
       "      <th></th>\n",
       "      <th></th>\n",
       "    </tr>\n",
       "  </thead>\n",
       "  <tbody>\n",
       "    <tr>\n",
       "      <th>002Z</th>\n",
       "      <td>1.000000</td>\n",
       "      <td>1.000000</td>\n",
       "      <td>0.916667</td>\n",
       "      <td>0.972222</td>\n",
       "    </tr>\n",
       "    <tr>\n",
       "      <th>0042P</th>\n",
       "      <td>0.916667</td>\n",
       "      <td>1.000000</td>\n",
       "      <td>1.000000</td>\n",
       "      <td>0.972222</td>\n",
       "    </tr>\n",
       "    <tr>\n",
       "      <th>0043F1</th>\n",
       "      <td>1.000000</td>\n",
       "      <td>1.000000</td>\n",
       "      <td>1.000000</td>\n",
       "      <td>1.000000</td>\n",
       "    </tr>\n",
       "    <tr>\n",
       "      <th>0050M1</th>\n",
       "      <td>1.000000</td>\n",
       "      <td>1.000000</td>\n",
       "      <td>0.916667</td>\n",
       "      <td>0.972222</td>\n",
       "    </tr>\n",
       "    <tr>\n",
       "      <th>0050P</th>\n",
       "      <td>0.687500</td>\n",
       "      <td>0.687500</td>\n",
       "      <td>0.916667</td>\n",
       "      <td>0.763889</td>\n",
       "    </tr>\n",
       "    <tr>\n",
       "      <th>...</th>\n",
       "      <td>...</td>\n",
       "      <td>...</td>\n",
       "      <td>...</td>\n",
       "      <td>...</td>\n",
       "    </tr>\n",
       "    <tr>\n",
       "      <th>1226M2</th>\n",
       "      <td>1.000000</td>\n",
       "      <td>1.000000</td>\n",
       "      <td>1.000000</td>\n",
       "      <td>1.000000</td>\n",
       "    </tr>\n",
       "    <tr>\n",
       "      <th>1256F1</th>\n",
       "      <td>0.857143</td>\n",
       "      <td>0.916667</td>\n",
       "      <td>1.000000</td>\n",
       "      <td>0.924603</td>\n",
       "    </tr>\n",
       "    <tr>\n",
       "      <th>1256P</th>\n",
       "      <td>1.000000</td>\n",
       "      <td>0.714286</td>\n",
       "      <td>0.538462</td>\n",
       "      <td>0.750916</td>\n",
       "    </tr>\n",
       "    <tr>\n",
       "      <th>1256S1</th>\n",
       "      <td>0.916667</td>\n",
       "      <td>1.000000</td>\n",
       "      <td>1.000000</td>\n",
       "      <td>0.972222</td>\n",
       "    </tr>\n",
       "    <tr>\n",
       "      <th>1256S2</th>\n",
       "      <td>0.923077</td>\n",
       "      <td>0.923077</td>\n",
       "      <td>0.916667</td>\n",
       "      <td>0.920940</td>\n",
       "    </tr>\n",
       "  </tbody>\n",
       "</table>\n",
       "<p>209 rows × 4 columns</p>\n",
       "</div>"
      ],
      "text/plain": [
       "condition  baseline_accuracy  gap_accuracy  overlap_accuracy  overall_accuracy\n",
       "subject                                                                       \n",
       "002Z                1.000000      1.000000          0.916667          0.972222\n",
       "0042P               0.916667      1.000000          1.000000          0.972222\n",
       "0043F1              1.000000      1.000000          1.000000          1.000000\n",
       "0050M1              1.000000      1.000000          0.916667          0.972222\n",
       "0050P               0.687500      0.687500          0.916667          0.763889\n",
       "...                      ...           ...               ...               ...\n",
       "1226M2              1.000000      1.000000          1.000000          1.000000\n",
       "1256F1              0.857143      0.916667          1.000000          0.924603\n",
       "1256P               1.000000      0.714286          0.538462          0.750916\n",
       "1256S1              0.916667      1.000000          1.000000          0.972222\n",
       "1256S2              0.923077      0.923077          0.916667          0.920940\n",
       "\n",
       "[209 rows x 4 columns]"
      ]
     },
     "execution_count": 114,
     "metadata": {},
     "output_type": "execute_result"
    }
   ],
   "source": [
    "# Save the wide dataframe to a CSV file\n",
    "output_path = Path(\"C:/Users/gabot/OneDrive - McGill University/Desktop/github_repos/q1k_neurosubs/outputs/gap/accuracy/acc_wide.csv\")\n",
    "\n",
    "output_path.parent.mkdir(parents=True, exist_ok=True)  # Ensure the directory exists\n",
    "acc_wide.to_csv(output_path, index=True)\n",
    "\n",
    "# Save the word document\n",
    "doc_path = Path(\"C:/Users/gabot/OneDrive - McGill University/Desktop/github_repos/q1k_neurosubs/outputs/word_document/gap_accuracy_report.docx\")\n",
    "\n",
    "doc.save(doc_path)\n",
    "# Save version to archive\n",
    "doc_path = f\"C:/Users/gabot/OneDrive - McGill University/Desktop/github_repos/q1k_neurosubs/outputs/word_document/archive/gap_accuracy_report_{date}.docx\"\n",
    "doc.save(doc_path)\n",
    "\n",
    "\n",
    "acc_wide"
   ]
  },
  {
   "cell_type": "code",
   "execution_count": null,
   "id": "c36dad8d",
   "metadata": {},
   "outputs": [],
   "source": []
  }
 ],
 "metadata": {
  "kernelspec": {
   "display_name": "q1k_et_neurosubs_env",
   "language": "python",
   "name": "python3"
  },
  "language_info": {
   "codemirror_mode": {
    "name": "ipython",
    "version": 3
   },
   "file_extension": ".py",
   "mimetype": "text/x-python",
   "name": "python",
   "nbconvert_exporter": "python",
   "pygments_lexer": "ipython3",
   "version": "3.10.5"
  },
  "widgets": {
   "application/vnd.jupyter.widget-state+json": {
    "state": {},
    "version_major": 2,
    "version_minor": 0
   }
  }
 },
 "nbformat": 4,
 "nbformat_minor": 5
}
